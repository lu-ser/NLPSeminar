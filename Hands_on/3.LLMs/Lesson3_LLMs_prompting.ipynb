{
  "cells": [
    {
      "cell_type": "markdown",
      "metadata": {},
      "source": [
        "[![Open In Colab](https://colab.research.google.com/assets/colab-badge.svg)](https://colab.research.google.com/drive/1_UofaCHM_wmZDz5mvLUHdFMGGHzfMWwJ?usp=sharing)"
      ]
    },
    {
      "cell_type": "markdown",
      "metadata": {
        "id": "Lr4lSQRpzbpN"
      },
      "source": [
        "<img src=\"https://cdn-icons-png.flaticon.com/512/564/564619.png\" alt=\"Icona\" width=\"32\" height=\"32\">\n",
        "\n",
        "**For this lesson, the GPU is required.**\n",
        "Go to Runtime > Change runtime type > Hardware accelerator > GPU > GPU type > T4.\n"
      ]
    },
    {
      "cell_type": "markdown",
      "metadata": {
        "id": "pEUwI7mrIgKG"
      },
      "source": [
        "\n",
        "**For this lesson, you need a Google AI Studio API key.**\n",
        "\n",
        "<img src=\"https://upload.wikimedia.org/wikipedia/commons/8/8a/Google_Gemini_logo.svg\" alt=\"Icona\" width=\"344\" height=\"127\">\n",
        "\n",
        "Then, press the key button on the left side bar and add \"GOOGLE_API_KEY\"\n",
        "\n",
        "[LINK](https://aistudio.google.com/app/prompts/new_chat)\n"
      ]
    },
    {
      "cell_type": "markdown",
      "metadata": {
        "id": "bqsP962-I7io"
      },
      "source": [
        "\n",
        "**For this lesson, you need a Groq API key.**\n",
        "\n",
        "<img src=\"https://www.ciscoinvestments.com/assets/logos/groq-logo.png\" alt=\"Icona\" width=\"320\" height=\"117\">\n",
        "\n",
        "Then, press the key button on the left side bar and add \"GROQ_API_KEY\"\n",
        "\n",
        "[LINK](https://console.groq.com/playground)\n"
      ]
    },
    {
      "cell_type": "markdown",
      "metadata": {
        "id": "wFAPH3YjJspj"
      },
      "source": [
        "\n",
        "**For this lesson, you need a Mistral API key.**\n",
        "\n",
        "<img src=\"https://upload.wikimedia.org/wikipedia/en/1/1f/LowRes_80dpi_Mistral_AI_Logo.png\" alt=\"Icona\" width=\"324\" height=\"107\">\n",
        "\n",
        "Then, press the key button on the left side bar and add \"MISTRAL_API_KEY\"\n",
        "\n",
        "[LINK](https://mistral.ai/)\n"
      ]
    },
    {
      "cell_type": "code",
      "execution_count": 1,
      "metadata": {
        "colab": {
          "base_uri": "https://localhost:8080/"
        },
        "id": "ohN2T30IcvvW",
        "outputId": "7ae2676b-1b14-4c8e-d040-a274a6d2fe80"
      },
      "outputs": [
        {
          "name": "stdout",
          "output_type": "stream",
          "text": [
            "Requirement already satisfied: python-dotenv in /usr/local/lib/python3.11/dist-packages (1.0.1)\n",
            "Requirement already satisfied: langchain in /usr/local/lib/python3.11/dist-packages (0.3.16)\n",
            "Requirement already satisfied: PyYAML>=5.3 in /usr/local/lib/python3.11/dist-packages (from langchain) (6.0.2)\n",
            "Requirement already satisfied: SQLAlchemy<3,>=1.4 in /usr/local/lib/python3.11/dist-packages (from langchain) (2.0.37)\n",
            "Requirement already satisfied: aiohttp<4.0.0,>=3.8.3 in /usr/local/lib/python3.11/dist-packages (from langchain) (3.11.11)\n",
            "Requirement already satisfied: langchain-core<0.4.0,>=0.3.32 in /usr/local/lib/python3.11/dist-packages (from langchain) (0.3.33)\n",
            "Requirement already satisfied: langchain-text-splitters<0.4.0,>=0.3.3 in /usr/local/lib/python3.11/dist-packages (from langchain) (0.3.5)\n",
            "Requirement already satisfied: langsmith<0.4,>=0.1.17 in /usr/local/lib/python3.11/dist-packages (from langchain) (0.3.2)\n",
            "Requirement already satisfied: numpy<2,>=1.22.4 in /usr/local/lib/python3.11/dist-packages (from langchain) (1.26.4)\n",
            "Requirement already satisfied: pydantic<3.0.0,>=2.7.4 in /usr/local/lib/python3.11/dist-packages (from langchain) (2.10.6)\n",
            "Requirement already satisfied: requests<3,>=2 in /usr/local/lib/python3.11/dist-packages (from langchain) (2.32.3)\n",
            "Requirement already satisfied: tenacity!=8.4.0,<10,>=8.1.0 in /usr/local/lib/python3.11/dist-packages (from langchain) (9.0.0)\n",
            "Requirement already satisfied: aiohappyeyeballs>=2.3.0 in /usr/local/lib/python3.11/dist-packages (from aiohttp<4.0.0,>=3.8.3->langchain) (2.4.4)\n",
            "Requirement already satisfied: aiosignal>=1.1.2 in /usr/local/lib/python3.11/dist-packages (from aiohttp<4.0.0,>=3.8.3->langchain) (1.3.2)\n",
            "Requirement already satisfied: attrs>=17.3.0 in /usr/local/lib/python3.11/dist-packages (from aiohttp<4.0.0,>=3.8.3->langchain) (25.1.0)\n",
            "Requirement already satisfied: frozenlist>=1.1.1 in /usr/local/lib/python3.11/dist-packages (from aiohttp<4.0.0,>=3.8.3->langchain) (1.5.0)\n",
            "Requirement already satisfied: multidict<7.0,>=4.5 in /usr/local/lib/python3.11/dist-packages (from aiohttp<4.0.0,>=3.8.3->langchain) (6.1.0)\n",
            "Requirement already satisfied: propcache>=0.2.0 in /usr/local/lib/python3.11/dist-packages (from aiohttp<4.0.0,>=3.8.3->langchain) (0.2.1)\n",
            "Requirement already satisfied: yarl<2.0,>=1.17.0 in /usr/local/lib/python3.11/dist-packages (from aiohttp<4.0.0,>=3.8.3->langchain) (1.18.3)\n",
            "Requirement already satisfied: jsonpatch<2.0,>=1.33 in /usr/local/lib/python3.11/dist-packages (from langchain-core<0.4.0,>=0.3.32->langchain) (1.33)\n",
            "Requirement already satisfied: packaging<25,>=23.2 in /usr/local/lib/python3.11/dist-packages (from langchain-core<0.4.0,>=0.3.32->langchain) (24.2)\n",
            "Requirement already satisfied: typing-extensions>=4.7 in /usr/local/lib/python3.11/dist-packages (from langchain-core<0.4.0,>=0.3.32->langchain) (4.12.2)\n",
            "Requirement already satisfied: httpx<1,>=0.23.0 in /usr/local/lib/python3.11/dist-packages (from langsmith<0.4,>=0.1.17->langchain) (0.28.1)\n",
            "Requirement already satisfied: orjson<4.0.0,>=3.9.14 in /usr/local/lib/python3.11/dist-packages (from langsmith<0.4,>=0.1.17->langchain) (3.10.15)\n",
            "Requirement already satisfied: requests-toolbelt<2.0.0,>=1.0.0 in /usr/local/lib/python3.11/dist-packages (from langsmith<0.4,>=0.1.17->langchain) (1.0.0)\n",
            "Requirement already satisfied: zstandard<0.24.0,>=0.23.0 in /usr/local/lib/python3.11/dist-packages (from langsmith<0.4,>=0.1.17->langchain) (0.23.0)\n",
            "Requirement already satisfied: annotated-types>=0.6.0 in /usr/local/lib/python3.11/dist-packages (from pydantic<3.0.0,>=2.7.4->langchain) (0.7.0)\n",
            "Requirement already satisfied: pydantic-core==2.27.2 in /usr/local/lib/python3.11/dist-packages (from pydantic<3.0.0,>=2.7.4->langchain) (2.27.2)\n",
            "Requirement already satisfied: charset-normalizer<4,>=2 in /usr/local/lib/python3.11/dist-packages (from requests<3,>=2->langchain) (3.4.1)\n",
            "Requirement already satisfied: idna<4,>=2.5 in /usr/local/lib/python3.11/dist-packages (from requests<3,>=2->langchain) (3.10)\n",
            "Requirement already satisfied: urllib3<3,>=1.21.1 in /usr/local/lib/python3.11/dist-packages (from requests<3,>=2->langchain) (2.3.0)\n",
            "Requirement already satisfied: certifi>=2017.4.17 in /usr/local/lib/python3.11/dist-packages (from requests<3,>=2->langchain) (2024.12.14)\n",
            "Requirement already satisfied: greenlet!=0.4.17 in /usr/local/lib/python3.11/dist-packages (from SQLAlchemy<3,>=1.4->langchain) (3.1.1)\n",
            "Requirement already satisfied: anyio in /usr/local/lib/python3.11/dist-packages (from httpx<1,>=0.23.0->langsmith<0.4,>=0.1.17->langchain) (3.7.1)\n",
            "Requirement already satisfied: httpcore==1.* in /usr/local/lib/python3.11/dist-packages (from httpx<1,>=0.23.0->langsmith<0.4,>=0.1.17->langchain) (1.0.7)\n",
            "Requirement already satisfied: h11<0.15,>=0.13 in /usr/local/lib/python3.11/dist-packages (from httpcore==1.*->httpx<1,>=0.23.0->langsmith<0.4,>=0.1.17->langchain) (0.14.0)\n",
            "Requirement already satisfied: jsonpointer>=1.9 in /usr/local/lib/python3.11/dist-packages (from jsonpatch<2.0,>=1.33->langchain-core<0.4.0,>=0.3.32->langchain) (3.0.0)\n",
            "Requirement already satisfied: sniffio>=1.1 in /usr/local/lib/python3.11/dist-packages (from anyio->httpx<1,>=0.23.0->langsmith<0.4,>=0.1.17->langchain) (1.3.1)\n",
            "Requirement already satisfied: langchain-community in /usr/local/lib/python3.11/dist-packages (0.3.16)\n",
            "Requirement already satisfied: PyYAML>=5.3 in /usr/local/lib/python3.11/dist-packages (from langchain-community) (6.0.2)\n",
            "Requirement already satisfied: SQLAlchemy<3,>=1.4 in /usr/local/lib/python3.11/dist-packages (from langchain-community) (2.0.37)\n",
            "Requirement already satisfied: aiohttp<4.0.0,>=3.8.3 in /usr/local/lib/python3.11/dist-packages (from langchain-community) (3.11.11)\n",
            "Requirement already satisfied: dataclasses-json<0.7,>=0.5.7 in /usr/local/lib/python3.11/dist-packages (from langchain-community) (0.6.7)\n",
            "Requirement already satisfied: httpx-sse<0.5.0,>=0.4.0 in /usr/local/lib/python3.11/dist-packages (from langchain-community) (0.4.0)\n",
            "Requirement already satisfied: langchain<0.4.0,>=0.3.16 in /usr/local/lib/python3.11/dist-packages (from langchain-community) (0.3.16)\n",
            "Requirement already satisfied: langchain-core<0.4.0,>=0.3.32 in /usr/local/lib/python3.11/dist-packages (from langchain-community) (0.3.33)\n",
            "Requirement already satisfied: langsmith<0.4,>=0.1.125 in /usr/local/lib/python3.11/dist-packages (from langchain-community) (0.3.2)\n",
            "Requirement already satisfied: numpy<2,>=1.22.4 in /usr/local/lib/python3.11/dist-packages (from langchain-community) (1.26.4)\n",
            "Requirement already satisfied: pydantic-settings<3.0.0,>=2.4.0 in /usr/local/lib/python3.11/dist-packages (from langchain-community) (2.7.1)\n",
            "Requirement already satisfied: requests<3,>=2 in /usr/local/lib/python3.11/dist-packages (from langchain-community) (2.32.3)\n",
            "Requirement already satisfied: tenacity!=8.4.0,<10,>=8.1.0 in /usr/local/lib/python3.11/dist-packages (from langchain-community) (9.0.0)\n",
            "Requirement already satisfied: aiohappyeyeballs>=2.3.0 in /usr/local/lib/python3.11/dist-packages (from aiohttp<4.0.0,>=3.8.3->langchain-community) (2.4.4)\n",
            "Requirement already satisfied: aiosignal>=1.1.2 in /usr/local/lib/python3.11/dist-packages (from aiohttp<4.0.0,>=3.8.3->langchain-community) (1.3.2)\n",
            "Requirement already satisfied: attrs>=17.3.0 in /usr/local/lib/python3.11/dist-packages (from aiohttp<4.0.0,>=3.8.3->langchain-community) (25.1.0)\n",
            "Requirement already satisfied: frozenlist>=1.1.1 in /usr/local/lib/python3.11/dist-packages (from aiohttp<4.0.0,>=3.8.3->langchain-community) (1.5.0)\n",
            "Requirement already satisfied: multidict<7.0,>=4.5 in /usr/local/lib/python3.11/dist-packages (from aiohttp<4.0.0,>=3.8.3->langchain-community) (6.1.0)\n",
            "Requirement already satisfied: propcache>=0.2.0 in /usr/local/lib/python3.11/dist-packages (from aiohttp<4.0.0,>=3.8.3->langchain-community) (0.2.1)\n",
            "Requirement already satisfied: yarl<2.0,>=1.17.0 in /usr/local/lib/python3.11/dist-packages (from aiohttp<4.0.0,>=3.8.3->langchain-community) (1.18.3)\n",
            "Requirement already satisfied: marshmallow<4.0.0,>=3.18.0 in /usr/local/lib/python3.11/dist-packages (from dataclasses-json<0.7,>=0.5.7->langchain-community) (3.26.1)\n",
            "Requirement already satisfied: typing-inspect<1,>=0.4.0 in /usr/local/lib/python3.11/dist-packages (from dataclasses-json<0.7,>=0.5.7->langchain-community) (0.9.0)\n",
            "Requirement already satisfied: langchain-text-splitters<0.4.0,>=0.3.3 in /usr/local/lib/python3.11/dist-packages (from langchain<0.4.0,>=0.3.16->langchain-community) (0.3.5)\n",
            "Requirement already satisfied: pydantic<3.0.0,>=2.7.4 in /usr/local/lib/python3.11/dist-packages (from langchain<0.4.0,>=0.3.16->langchain-community) (2.10.6)\n",
            "Requirement already satisfied: jsonpatch<2.0,>=1.33 in /usr/local/lib/python3.11/dist-packages (from langchain-core<0.4.0,>=0.3.32->langchain-community) (1.33)\n",
            "Requirement already satisfied: packaging<25,>=23.2 in /usr/local/lib/python3.11/dist-packages (from langchain-core<0.4.0,>=0.3.32->langchain-community) (24.2)\n",
            "Requirement already satisfied: typing-extensions>=4.7 in /usr/local/lib/python3.11/dist-packages (from langchain-core<0.4.0,>=0.3.32->langchain-community) (4.12.2)\n",
            "Requirement already satisfied: httpx<1,>=0.23.0 in /usr/local/lib/python3.11/dist-packages (from langsmith<0.4,>=0.1.125->langchain-community) (0.28.1)\n",
            "Requirement already satisfied: orjson<4.0.0,>=3.9.14 in /usr/local/lib/python3.11/dist-packages (from langsmith<0.4,>=0.1.125->langchain-community) (3.10.15)\n",
            "Requirement already satisfied: requests-toolbelt<2.0.0,>=1.0.0 in /usr/local/lib/python3.11/dist-packages (from langsmith<0.4,>=0.1.125->langchain-community) (1.0.0)\n",
            "Requirement already satisfied: zstandard<0.24.0,>=0.23.0 in /usr/local/lib/python3.11/dist-packages (from langsmith<0.4,>=0.1.125->langchain-community) (0.23.0)\n",
            "Requirement already satisfied: python-dotenv>=0.21.0 in /usr/local/lib/python3.11/dist-packages (from pydantic-settings<3.0.0,>=2.4.0->langchain-community) (1.0.1)\n",
            "Requirement already satisfied: charset-normalizer<4,>=2 in /usr/local/lib/python3.11/dist-packages (from requests<3,>=2->langchain-community) (3.4.1)\n",
            "Requirement already satisfied: idna<4,>=2.5 in /usr/local/lib/python3.11/dist-packages (from requests<3,>=2->langchain-community) (3.10)\n",
            "Requirement already satisfied: urllib3<3,>=1.21.1 in /usr/local/lib/python3.11/dist-packages (from requests<3,>=2->langchain-community) (2.3.0)\n",
            "Requirement already satisfied: certifi>=2017.4.17 in /usr/local/lib/python3.11/dist-packages (from requests<3,>=2->langchain-community) (2024.12.14)\n",
            "Requirement already satisfied: greenlet!=0.4.17 in /usr/local/lib/python3.11/dist-packages (from SQLAlchemy<3,>=1.4->langchain-community) (3.1.1)\n",
            "Requirement already satisfied: anyio in /usr/local/lib/python3.11/dist-packages (from httpx<1,>=0.23.0->langsmith<0.4,>=0.1.125->langchain-community) (3.7.1)\n",
            "Requirement already satisfied: httpcore==1.* in /usr/local/lib/python3.11/dist-packages (from httpx<1,>=0.23.0->langsmith<0.4,>=0.1.125->langchain-community) (1.0.7)\n",
            "Requirement already satisfied: h11<0.15,>=0.13 in /usr/local/lib/python3.11/dist-packages (from httpcore==1.*->httpx<1,>=0.23.0->langsmith<0.4,>=0.1.125->langchain-community) (0.14.0)\n",
            "Requirement already satisfied: jsonpointer>=1.9 in /usr/local/lib/python3.11/dist-packages (from jsonpatch<2.0,>=1.33->langchain-core<0.4.0,>=0.3.32->langchain-community) (3.0.0)\n",
            "Requirement already satisfied: annotated-types>=0.6.0 in /usr/local/lib/python3.11/dist-packages (from pydantic<3.0.0,>=2.7.4->langchain<0.4.0,>=0.3.16->langchain-community) (0.7.0)\n",
            "Requirement already satisfied: pydantic-core==2.27.2 in /usr/local/lib/python3.11/dist-packages (from pydantic<3.0.0,>=2.7.4->langchain<0.4.0,>=0.3.16->langchain-community) (2.27.2)\n",
            "Requirement already satisfied: mypy-extensions>=0.3.0 in /usr/local/lib/python3.11/dist-packages (from typing-inspect<1,>=0.4.0->dataclasses-json<0.7,>=0.5.7->langchain-community) (1.0.0)\n",
            "Requirement already satisfied: sniffio>=1.1 in /usr/local/lib/python3.11/dist-packages (from anyio->httpx<1,>=0.23.0->langsmith<0.4,>=0.1.125->langchain-community) (1.3.1)\n",
            "Requirement already satisfied: langchain-core in /usr/local/lib/python3.11/dist-packages (0.3.33)\n",
            "Requirement already satisfied: PyYAML>=5.3 in /usr/local/lib/python3.11/dist-packages (from langchain-core) (6.0.2)\n",
            "Requirement already satisfied: jsonpatch<2.0,>=1.33 in /usr/local/lib/python3.11/dist-packages (from langchain-core) (1.33)\n",
            "Requirement already satisfied: langsmith<0.4,>=0.1.125 in /usr/local/lib/python3.11/dist-packages (from langchain-core) (0.3.2)\n",
            "Requirement already satisfied: packaging<25,>=23.2 in /usr/local/lib/python3.11/dist-packages (from langchain-core) (24.2)\n",
            "Requirement already satisfied: pydantic<3.0.0,>=2.5.2 in /usr/local/lib/python3.11/dist-packages (from langchain-core) (2.10.6)\n",
            "Requirement already satisfied: tenacity!=8.4.0,<10.0.0,>=8.1.0 in /usr/local/lib/python3.11/dist-packages (from langchain-core) (9.0.0)\n",
            "Requirement already satisfied: typing-extensions>=4.7 in /usr/local/lib/python3.11/dist-packages (from langchain-core) (4.12.2)\n",
            "Requirement already satisfied: jsonpointer>=1.9 in /usr/local/lib/python3.11/dist-packages (from jsonpatch<2.0,>=1.33->langchain-core) (3.0.0)\n",
            "Requirement already satisfied: httpx<1,>=0.23.0 in /usr/local/lib/python3.11/dist-packages (from langsmith<0.4,>=0.1.125->langchain-core) (0.28.1)\n",
            "Requirement already satisfied: orjson<4.0.0,>=3.9.14 in /usr/local/lib/python3.11/dist-packages (from langsmith<0.4,>=0.1.125->langchain-core) (3.10.15)\n",
            "Requirement already satisfied: requests<3,>=2 in /usr/local/lib/python3.11/dist-packages (from langsmith<0.4,>=0.1.125->langchain-core) (2.32.3)\n",
            "Requirement already satisfied: requests-toolbelt<2.0.0,>=1.0.0 in /usr/local/lib/python3.11/dist-packages (from langsmith<0.4,>=0.1.125->langchain-core) (1.0.0)\n",
            "Requirement already satisfied: zstandard<0.24.0,>=0.23.0 in /usr/local/lib/python3.11/dist-packages (from langsmith<0.4,>=0.1.125->langchain-core) (0.23.0)\n",
            "Requirement already satisfied: annotated-types>=0.6.0 in /usr/local/lib/python3.11/dist-packages (from pydantic<3.0.0,>=2.5.2->langchain-core) (0.7.0)\n",
            "Requirement already satisfied: pydantic-core==2.27.2 in /usr/local/lib/python3.11/dist-packages (from pydantic<3.0.0,>=2.5.2->langchain-core) (2.27.2)\n",
            "Requirement already satisfied: anyio in /usr/local/lib/python3.11/dist-packages (from httpx<1,>=0.23.0->langsmith<0.4,>=0.1.125->langchain-core) (3.7.1)\n",
            "Requirement already satisfied: certifi in /usr/local/lib/python3.11/dist-packages (from httpx<1,>=0.23.0->langsmith<0.4,>=0.1.125->langchain-core) (2024.12.14)\n",
            "Requirement already satisfied: httpcore==1.* in /usr/local/lib/python3.11/dist-packages (from httpx<1,>=0.23.0->langsmith<0.4,>=0.1.125->langchain-core) (1.0.7)\n",
            "Requirement already satisfied: idna in /usr/local/lib/python3.11/dist-packages (from httpx<1,>=0.23.0->langsmith<0.4,>=0.1.125->langchain-core) (3.10)\n",
            "Requirement already satisfied: h11<0.15,>=0.13 in /usr/local/lib/python3.11/dist-packages (from httpcore==1.*->httpx<1,>=0.23.0->langsmith<0.4,>=0.1.125->langchain-core) (0.14.0)\n",
            "Requirement already satisfied: charset-normalizer<4,>=2 in /usr/local/lib/python3.11/dist-packages (from requests<3,>=2->langsmith<0.4,>=0.1.125->langchain-core) (3.4.1)\n",
            "Requirement already satisfied: urllib3<3,>=1.21.1 in /usr/local/lib/python3.11/dist-packages (from requests<3,>=2->langsmith<0.4,>=0.1.125->langchain-core) (2.3.0)\n",
            "Requirement already satisfied: sniffio>=1.1 in /usr/local/lib/python3.11/dist-packages (from anyio->httpx<1,>=0.23.0->langsmith<0.4,>=0.1.125->langchain-core) (1.3.1)\n"
          ]
        }
      ],
      "source": [
        "%pip install python-dotenv\n",
        "%pip install langchain\n",
        "%pip install langchain-community\n",
        "%pip install langchain-core"
      ]
    },
    {
      "cell_type": "code",
      "execution_count": 2,
      "metadata": {
        "id": "cJmHF2Q9etuP"
      },
      "outputs": [],
      "source": [
        "%pip install -qU langchain-groq\n",
        "%pip install -qU langchain_mistralai\n",
        "%pip install -qU langchain-google-genai pillow"
      ]
    },
    {
      "cell_type": "markdown",
      "metadata": {
        "id": "CtPm_j1ee6E3"
      },
      "source": [
        "### FIRST STEP: SET YOUR API-KEYS"
      ]
    },
    {
      "cell_type": "code",
      "execution_count": 3,
      "metadata": {
        "id": "UTwA2Rf9fByd"
      },
      "outputs": [],
      "source": [
        "from google.colab import userdata\n",
        "import getpass\n",
        "import os\n",
        "\n",
        "# Groq API Key\n",
        "if \"GROQ_API_KEY\" not in os.environ:\n",
        "    try:\n",
        "        os.environ[\"GROQ_API_KEY\"] = userdata.get('GROQ_API_KEY')\n",
        "    except Exception as e:\n",
        "        os.environ[\"GROQ_API_KEY\"] = getpass.getpass(\"Enter your Groq API key: \")\n",
        "\n",
        "# Google API Key\n",
        "if \"GOOGLE_API_KEY\" not in os.environ:\n",
        "    try:\n",
        "        os.environ[\"GOOGLE_API_KEY\"] = userdata.get('GOOGLE_API_KEY')\n",
        "    except Exception as e:\n",
        "        os.environ[\"GOOGLE_API_KEY\"] = getpass.getpass(\"Provide your Google API Key: \")\n",
        "\n",
        "# Mistral API Key\n",
        "if \"MISTRAL_API_KEY\" not in os.environ:\n",
        "    try:\n",
        "        os.environ[\"MISTRAL_API_KEY\"] = userdata.get('MISTRAL_API_KEY')\n",
        "    except Exception as e:\n",
        "        os.environ[\"MISTRAL_API_KEY\"] = getpass.getpass(\"Provide your Mistral API Key: \")"
      ]
    },
    {
      "cell_type": "markdown",
      "metadata": {
        "id": "2uRu4VwthfUj"
      },
      "source": [
        "### Utils - just for visualization"
      ]
    },
    {
      "cell_type": "code",
      "execution_count": 4,
      "metadata": {
        "id": "8PtCdsNuhnIr"
      },
      "outputs": [],
      "source": [
        "%pip install -qU rich"
      ]
    },
    {
      "cell_type": "code",
      "execution_count": 5,
      "metadata": {
        "id": "DbZf_hXMhe0c"
      },
      "outputs": [],
      "source": [
        "from rich.console import Console\n",
        "from rich.panel import Panel\n",
        "from rich.text import Text\n",
        "from rich.syntax import Syntax\n",
        "from rich.table import Table\n",
        "from typing import Any\n",
        "\n",
        "console = Console()\n",
        "def print_model_response(input_text: str, model_response: Any, model_name: str = \"assistant\") -> None:\n",
        "\n",
        "    # Input Panel\n",
        "    input_panel = Panel(\n",
        "        Text(input_text, style=\"blue\"), title=\"📝 Input Text\", border_style=\"blue\"\n",
        "    )\n",
        "\n",
        "    # Response Panel\n",
        "    if isinstance(model_response, dict):\n",
        "        table = Table(show_header=True, header_style=\"bold magenta\")\n",
        "        table.add_column(\"Key\", style=\"cyan\")\n",
        "        table.add_column(\"Value\", style=\"yellow\")\n",
        "\n",
        "        for key, value in model_response.items():\n",
        "            table.add_row(str(key), str(value))\n",
        "\n",
        "        response_content = table\n",
        "    else:\n",
        "        response_content = Text(str(model_response), style=\"yellow\")\n",
        "\n",
        "    response_panel = Panel(\n",
        "        response_content, title=model_name+\"🤖 Response\", border_style=\"magenta\"\n",
        "    )\n",
        "\n",
        "    console.print(\"\\n\" + \"=\" * 80 + \"\\n\")\n",
        "    console.print(input_panel)\n",
        "    console.print(response_panel)\n",
        "    console.print(\"\\n\" + \"=\" * 80 + \"\\n\")\n"
      ]
    },
    {
      "cell_type": "markdown",
      "metadata": {
        "id": "qHFhNhDmgTqx"
      },
      "source": [
        "### Call the models"
      ]
    },
    {
      "cell_type": "code",
      "execution_count": 6,
      "metadata": {
        "id": "Bxncguz4nSLY"
      },
      "outputs": [],
      "source": [
        "prompt = \"Tell a joke about BERT and RoBERTA\"\n",
        "messages = [\n",
        "    (\"human\", prompt)\n",
        "]"
      ]
    },
    {
      "cell_type": "code",
      "execution_count": 7,
      "metadata": {
        "colab": {
          "base_uri": "https://localhost:8080/",
          "height": 437
        },
        "id": "4f89qcN0c2D7",
        "outputId": "2785b637-a07c-435a-9732-5ea63265d294"
      },
      "outputs": [
        {
          "data": {
            "text/html": [
              "<pre style=\"white-space:pre;overflow-x:auto;line-height:normal;font-family:Menlo,'DejaVu Sans Mono',consolas,'Courier New',monospace\">\n",
              "================================================================================\n",
              "\n",
              "</pre>\n"
            ],
            "text/plain": [
              "\n",
              "================================================================================\n",
              "\n"
            ]
          },
          "metadata": {},
          "output_type": "display_data"
        },
        {
          "data": {
            "text/html": [
              "<pre style=\"white-space:pre;overflow-x:auto;line-height:normal;font-family:Menlo,'DejaVu Sans Mono',consolas,'Courier New',monospace\"><span style=\"color: #000080; text-decoration-color: #000080\">╭───────────────────────────────────────────────── 📝 Input Text ─────────────────────────────────────────────────╮</span>\n",
              "<span style=\"color: #000080; text-decoration-color: #000080\">│</span> <span style=\"color: #000080; text-decoration-color: #000080\">Tell a joke about BERT and RoBERTA</span>                                                                              <span style=\"color: #000080; text-decoration-color: #000080\">│</span>\n",
              "<span style=\"color: #000080; text-decoration-color: #000080\">╰─────────────────────────────────────────────────────────────────────────────────────────────────────────────────╯</span>\n",
              "</pre>\n"
            ],
            "text/plain": [
              "\u001b[34m╭─\u001b[0m\u001b[34m────────────────────────────────────────────────\u001b[0m\u001b[34m 📝 Input Text \u001b[0m\u001b[34m────────────────────────────────────────────────\u001b[0m\u001b[34m─╮\u001b[0m\n",
              "\u001b[34m│\u001b[0m \u001b[34mTell a joke about BERT and RoBERTA\u001b[0m                                                                              \u001b[34m│\u001b[0m\n",
              "\u001b[34m╰─────────────────────────────────────────────────────────────────────────────────────────────────────────────────╯\u001b[0m\n"
            ]
          },
          "metadata": {},
          "output_type": "display_data"
        },
        {
          "data": {
            "text/html": [
              "<pre style=\"white-space:pre;overflow-x:auto;line-height:normal;font-family:Menlo,'DejaVu Sans Mono',consolas,'Courier New',monospace\"><span style=\"color: #800080; text-decoration-color: #800080\">╭────────────────────────────────────────────── LLama3.1🤖 Response ──────────────────────────────────────────────╮</span>\n",
              "<span style=\"color: #800080; text-decoration-color: #800080\">│</span> <span style=\"color: #808000; text-decoration-color: #808000\">Why did BERT and RoBERTA go to therapy?</span>                                                                         <span style=\"color: #800080; text-decoration-color: #800080\">│</span>\n",
              "<span style=\"color: #800080; text-decoration-color: #800080\">│</span>                                                                                                                 <span style=\"color: #800080; text-decoration-color: #800080\">│</span>\n",
              "<span style=\"color: #800080; text-decoration-color: #800080\">│</span> <span style=\"color: #808000; text-decoration-color: #808000\">Because BERT was feeling a little \"pre-trained\" for stress, and RoBERTA was struggling to \"fine-tune\" her </span>      <span style=\"color: #800080; text-decoration-color: #800080\">│</span>\n",
              "<span style=\"color: #800080; text-decoration-color: #800080\">│</span> <span style=\"color: #808000; text-decoration-color: #808000\">emotions.</span>                                                                                                       <span style=\"color: #800080; text-decoration-color: #800080\">│</span>\n",
              "<span style=\"color: #800080; text-decoration-color: #800080\">╰─────────────────────────────────────────────────────────────────────────────────────────────────────────────────╯</span>\n",
              "</pre>\n"
            ],
            "text/plain": [
              "\u001b[35m╭─\u001b[0m\u001b[35m─────────────────────────────────────────────\u001b[0m\u001b[35m LLama3.1🤖 Response \u001b[0m\u001b[35m─────────────────────────────────────────────\u001b[0m\u001b[35m─╮\u001b[0m\n",
              "\u001b[35m│\u001b[0m \u001b[33mWhy did BERT and RoBERTA go to therapy?\u001b[0m                                                                         \u001b[35m│\u001b[0m\n",
              "\u001b[35m│\u001b[0m                                                                                                                 \u001b[35m│\u001b[0m\n",
              "\u001b[35m│\u001b[0m \u001b[33mBecause BERT was feeling a little \"pre-trained\" for stress, and RoBERTA was struggling to \"fine-tune\" her \u001b[0m      \u001b[35m│\u001b[0m\n",
              "\u001b[35m│\u001b[0m \u001b[33memotions.\u001b[0m                                                                                                       \u001b[35m│\u001b[0m\n",
              "\u001b[35m╰─────────────────────────────────────────────────────────────────────────────────────────────────────────────────╯\u001b[0m\n"
            ]
          },
          "metadata": {},
          "output_type": "display_data"
        },
        {
          "data": {
            "text/html": [
              "<pre style=\"white-space:pre;overflow-x:auto;line-height:normal;font-family:Menlo,'DejaVu Sans Mono',consolas,'Courier New',monospace\">\n",
              "================================================================================\n",
              "\n",
              "</pre>\n"
            ],
            "text/plain": [
              "\n",
              "================================================================================\n",
              "\n"
            ]
          },
          "metadata": {},
          "output_type": "display_data"
        },
        {
          "data": {
            "text/html": [
              "<pre style=\"white-space:pre;overflow-x:auto;line-height:normal;font-family:Menlo,'DejaVu Sans Mono',consolas,'Courier New',monospace\">\n",
              "================================================================================\n",
              "\n",
              "</pre>\n"
            ],
            "text/plain": [
              "\n",
              "================================================================================\n",
              "\n"
            ]
          },
          "metadata": {},
          "output_type": "display_data"
        },
        {
          "data": {
            "text/html": [
              "<pre style=\"white-space:pre;overflow-x:auto;line-height:normal;font-family:Menlo,'DejaVu Sans Mono',consolas,'Courier New',monospace\"><span style=\"color: #000080; text-decoration-color: #000080\">╭───────────────────────────────────────────────── 📝 Input Text ─────────────────────────────────────────────────╮</span>\n",
              "<span style=\"color: #000080; text-decoration-color: #000080\">│</span> <span style=\"color: #000080; text-decoration-color: #000080\">Tell a joke about BERT and RoBERTA</span>                                                                              <span style=\"color: #000080; text-decoration-color: #000080\">│</span>\n",
              "<span style=\"color: #000080; text-decoration-color: #000080\">╰─────────────────────────────────────────────────────────────────────────────────────────────────────────────────╯</span>\n",
              "</pre>\n"
            ],
            "text/plain": [
              "\u001b[34m╭─\u001b[0m\u001b[34m────────────────────────────────────────────────\u001b[0m\u001b[34m 📝 Input Text \u001b[0m\u001b[34m────────────────────────────────────────────────\u001b[0m\u001b[34m─╮\u001b[0m\n",
              "\u001b[34m│\u001b[0m \u001b[34mTell a joke about BERT and RoBERTA\u001b[0m                                                                              \u001b[34m│\u001b[0m\n",
              "\u001b[34m╰─────────────────────────────────────────────────────────────────────────────────────────────────────────────────╯\u001b[0m\n"
            ]
          },
          "metadata": {},
          "output_type": "display_data"
        },
        {
          "data": {
            "text/html": [
              "<pre style=\"white-space:pre;overflow-x:auto;line-height:normal;font-family:Menlo,'DejaVu Sans Mono',consolas,'Courier New',monospace\"><span style=\"color: #800080; text-decoration-color: #800080\">╭──────────────────────────────────────── ministral-8b-latest🤖 Response ─────────────────────────────────────────╮</span>\n",
              "<span style=\"color: #800080; text-decoration-color: #800080\">│</span> <span style=\"color: #808000; text-decoration-color: #808000\">What do you call it when BERT and RoBERTA go on a date?</span>                                                         <span style=\"color: #800080; text-decoration-color: #800080\">│</span>\n",
              "<span style=\"color: #800080; text-decoration-color: #800080\">│</span>                                                                                                                 <span style=\"color: #800080; text-decoration-color: #800080\">│</span>\n",
              "<span style=\"color: #800080; text-decoration-color: #800080\">│</span> <span style=\"color: #808000; text-decoration-color: #808000\">BERT-ing and RoBERTA-ing!</span>                                                                                       <span style=\"color: #800080; text-decoration-color: #800080\">│</span>\n",
              "<span style=\"color: #800080; text-decoration-color: #800080\">╰─────────────────────────────────────────────────────────────────────────────────────────────────────────────────╯</span>\n",
              "</pre>\n"
            ],
            "text/plain": [
              "\u001b[35m╭─\u001b[0m\u001b[35m───────────────────────────────────────\u001b[0m\u001b[35m ministral-8b-latest🤖 Response \u001b[0m\u001b[35m────────────────────────────────────────\u001b[0m\u001b[35m─╮\u001b[0m\n",
              "\u001b[35m│\u001b[0m \u001b[33mWhat do you call it when BERT and RoBERTA go on a date?\u001b[0m                                                         \u001b[35m│\u001b[0m\n",
              "\u001b[35m│\u001b[0m                                                                                                                 \u001b[35m│\u001b[0m\n",
              "\u001b[35m│\u001b[0m \u001b[33mBERT-ing and RoBERTA-ing!\u001b[0m                                                                                       \u001b[35m│\u001b[0m\n",
              "\u001b[35m╰─────────────────────────────────────────────────────────────────────────────────────────────────────────────────╯\u001b[0m\n"
            ]
          },
          "metadata": {},
          "output_type": "display_data"
        },
        {
          "data": {
            "text/html": [
              "<pre style=\"white-space:pre;overflow-x:auto;line-height:normal;font-family:Menlo,'DejaVu Sans Mono',consolas,'Courier New',monospace\">\n",
              "================================================================================\n",
              "\n",
              "</pre>\n"
            ],
            "text/plain": [
              "\n",
              "================================================================================\n",
              "\n"
            ]
          },
          "metadata": {},
          "output_type": "display_data"
        }
      ],
      "source": [
        "from langchain_google_genai import ChatGoogleGenerativeAI\n",
        "from langchain_groq import ChatGroq\n",
        "from langchain_mistralai import ChatMistralAI\n",
        "\n",
        "llm_Gemini = ChatGoogleGenerativeAI(model=\"gemini-1.5-pro\", temperature=0)\n",
        "#result_Gemini = llm_Gemini.invoke(messages)\n",
        "llm_Groq = ChatGroq(model=\"llama-3.1-8b-instant\", temperature=0)\n",
        "resultGroq = llm_Groq.invoke(messages)\n",
        "llm_Mistral = ChatMistralAI(model=\"ministral-8b-latest\", temperature=0)\n",
        "resultMistral = llm_Mistral.invoke(messages)\n",
        "#print_model_response(prompt, result_Gemini.content, \"gemini-1.5-pro\")\n",
        "print_model_response(prompt, resultGroq.content, \"LLama3.1\")\n",
        "print_model_response(prompt, resultMistral.content, \"ministral-8b-latest\")\n",
        "\n",
        "\n"
      ]
    },
    {
      "cell_type": "code",
      "execution_count": 8,
      "metadata": {
        "id": "1UrvAY1ce3B4"
      },
      "outputs": [],
      "source": [
        "from typing import List\n",
        "def zero_shot_classify(text: str, categories: List[str], llm) -> str:\n",
        "    \"\"\"\n",
        "    Simple zero-shot classification using any LLM.\n",
        "\n",
        "    Args:\n",
        "        text: input text to classify\n",
        "        categories: list of possible categories\n",
        "        llm: initialized LLM instance\n",
        "    \"\"\"\n",
        "    prompt = f\"\"\"\n",
        "    Classify the following text into one of these categories: {', '.join(categories)}\n",
        "\n",
        "    Text: {text}\n",
        "    Classification:\"\"\"\n",
        "\n",
        "    response = llm.invoke(prompt)\n",
        "    print_model_response(prompt, response.content)\n",
        "    return response.content"
      ]
    },
    {
      "cell_type": "code",
      "execution_count": 9,
      "metadata": {
        "colab": {
          "base_uri": "https://localhost:8080/",
          "height": 270
        },
        "id": "JEHTZIl6q5FT",
        "outputId": "62498019-c1c0-4268-da77-29921fdbe913"
      },
      "outputs": [
        {
          "data": {
            "text/html": [
              "<pre style=\"white-space:pre;overflow-x:auto;line-height:normal;font-family:Menlo,'DejaVu Sans Mono',consolas,'Courier New',monospace\">\n",
              "================================================================================\n",
              "\n",
              "</pre>\n"
            ],
            "text/plain": [
              "\n",
              "================================================================================\n",
              "\n"
            ]
          },
          "metadata": {},
          "output_type": "display_data"
        },
        {
          "data": {
            "text/html": [
              "<pre style=\"white-space:pre;overflow-x:auto;line-height:normal;font-family:Menlo,'DejaVu Sans Mono',consolas,'Courier New',monospace\"><span style=\"color: #000080; text-decoration-color: #000080\">╭───────────────────────────────────────────────── 📝 Input Text ─────────────────────────────────────────────────╮</span>\n",
              "<span style=\"color: #000080; text-decoration-color: #000080\">│</span>                                                                                                                 <span style=\"color: #000080; text-decoration-color: #000080\">│</span>\n",
              "<span style=\"color: #000080; text-decoration-color: #000080\">│</span> <span style=\"color: #000080; text-decoration-color: #000080\">    Classify the following text into one of these categories: happy, sad</span>                                        <span style=\"color: #000080; text-decoration-color: #000080\">│</span>\n",
              "<span style=\"color: #000080; text-decoration-color: #000080\">│</span>                                                                                                                 <span style=\"color: #000080; text-decoration-color: #000080\">│</span>\n",
              "<span style=\"color: #000080; text-decoration-color: #000080\">│</span> <span style=\"color: #000080; text-decoration-color: #000080\">    Text: I hate the world</span>                                                                                      <span style=\"color: #000080; text-decoration-color: #000080\">│</span>\n",
              "<span style=\"color: #000080; text-decoration-color: #000080\">│</span> <span style=\"color: #000080; text-decoration-color: #000080\">    Classification:</span>                                                                                             <span style=\"color: #000080; text-decoration-color: #000080\">│</span>\n",
              "<span style=\"color: #000080; text-decoration-color: #000080\">╰─────────────────────────────────────────────────────────────────────────────────────────────────────────────────╯</span>\n",
              "</pre>\n"
            ],
            "text/plain": [
              "\u001b[34m╭─\u001b[0m\u001b[34m────────────────────────────────────────────────\u001b[0m\u001b[34m 📝 Input Text \u001b[0m\u001b[34m────────────────────────────────────────────────\u001b[0m\u001b[34m─╮\u001b[0m\n",
              "\u001b[34m│\u001b[0m                                                                                                                 \u001b[34m│\u001b[0m\n",
              "\u001b[34m│\u001b[0m \u001b[34m    Classify the following text into one of these categories: happy, sad\u001b[0m                                        \u001b[34m│\u001b[0m\n",
              "\u001b[34m│\u001b[0m                                                                                                                 \u001b[34m│\u001b[0m\n",
              "\u001b[34m│\u001b[0m \u001b[34m    Text: I hate the world\u001b[0m                                                                                      \u001b[34m│\u001b[0m\n",
              "\u001b[34m│\u001b[0m \u001b[34m    Classification:\u001b[0m                                                                                             \u001b[34m│\u001b[0m\n",
              "\u001b[34m╰─────────────────────────────────────────────────────────────────────────────────────────────────────────────────╯\u001b[0m\n"
            ]
          },
          "metadata": {},
          "output_type": "display_data"
        },
        {
          "data": {
            "text/html": [
              "<pre style=\"white-space:pre;overflow-x:auto;line-height:normal;font-family:Menlo,'DejaVu Sans Mono',consolas,'Courier New',monospace\"><span style=\"color: #800080; text-decoration-color: #800080\">╭───────────────────────────────────────────── assistant🤖 Response ──────────────────────────────────────────────╮</span>\n",
              "<span style=\"color: #800080; text-decoration-color: #800080\">│</span> <span style=\"color: #808000; text-decoration-color: #808000\">Classification: sad</span>                                                                                             <span style=\"color: #800080; text-decoration-color: #800080\">│</span>\n",
              "<span style=\"color: #800080; text-decoration-color: #800080\">╰─────────────────────────────────────────────────────────────────────────────────────────────────────────────────╯</span>\n",
              "</pre>\n"
            ],
            "text/plain": [
              "\u001b[35m╭─\u001b[0m\u001b[35m────────────────────────────────────────────\u001b[0m\u001b[35m assistant🤖 Response \u001b[0m\u001b[35m─────────────────────────────────────────────\u001b[0m\u001b[35m─╮\u001b[0m\n",
              "\u001b[35m│\u001b[0m \u001b[33mClassification: sad\u001b[0m                                                                                             \u001b[35m│\u001b[0m\n",
              "\u001b[35m╰─────────────────────────────────────────────────────────────────────────────────────────────────────────────────╯\u001b[0m\n"
            ]
          },
          "metadata": {},
          "output_type": "display_data"
        },
        {
          "data": {
            "text/html": [
              "<pre style=\"white-space:pre;overflow-x:auto;line-height:normal;font-family:Menlo,'DejaVu Sans Mono',consolas,'Courier New',monospace\">\n",
              "================================================================================\n",
              "\n",
              "</pre>\n"
            ],
            "text/plain": [
              "\n",
              "================================================================================\n",
              "\n"
            ]
          },
          "metadata": {},
          "output_type": "display_data"
        },
        {
          "data": {
            "application/vnd.google.colaboratory.intrinsic+json": {
              "type": "string"
            },
            "text/plain": [
              "'Classification: sad'"
            ]
          },
          "execution_count": 9,
          "metadata": {},
          "output_type": "execute_result"
        }
      ],
      "source": [
        "zero_shot_classify(\"I hate the world\", [\"happy\",\"sad\"], llm_Groq)"
      ]
    },
    {
      "cell_type": "code",
      "execution_count": 10,
      "metadata": {
        "id": "WCOqQMLXre14"
      },
      "outputs": [],
      "source": [
        "def few_shot_classify(text: str, examples: List[dict], task: str, llm) -> str:\n",
        "    \"\"\"\n",
        "    Few-shot learning with examples.\n",
        "\n",
        "    Args:\n",
        "        text: input text to process\n",
        "        examples: list of {\"input\": str, \"output\": str} dictionaries\n",
        "        task: description of the task\n",
        "        llm: initialized LLM instance\n",
        "    \"\"\"\n",
        "    prompt = f\"Task: {task}\\n\\nExamples:\\n\"\n",
        "    for example in examples:\n",
        "        prompt += f\"\\nInput: {example['input']}\\nOutput: {example['output']}\\n\"\n",
        "    prompt += f\"\\nInput: {text}\\nOutput:\"\n",
        "\n",
        "    response = llm.invoke(prompt)\n",
        "    print_model_response(prompt, response.content)\n",
        "    return response.content"
      ]
    },
    {
      "cell_type": "code",
      "execution_count": 11,
      "metadata": {
        "colab": {
          "base_uri": "https://localhost:8080/",
          "height": 382
        },
        "id": "LxCPqnIDr_WI",
        "outputId": "e3e3927a-d5bd-4575-bec4-39577bae3b59"
      },
      "outputs": [
        {
          "data": {
            "text/html": [
              "<pre style=\"white-space:pre;overflow-x:auto;line-height:normal;font-family:Menlo,'DejaVu Sans Mono',consolas,'Courier New',monospace\">\n",
              "================================================================================\n",
              "\n",
              "</pre>\n"
            ],
            "text/plain": [
              "\n",
              "================================================================================\n",
              "\n"
            ]
          },
          "metadata": {},
          "output_type": "display_data"
        },
        {
          "data": {
            "text/html": [
              "<pre style=\"white-space:pre;overflow-x:auto;line-height:normal;font-family:Menlo,'DejaVu Sans Mono',consolas,'Courier New',monospace\"><span style=\"color: #000080; text-decoration-color: #000080\">╭───────────────────────────────────────────────── 📝 Input Text ─────────────────────────────────────────────────╮</span>\n",
              "<span style=\"color: #000080; text-decoration-color: #000080\">│</span> <span style=\"color: #000080; text-decoration-color: #000080\">Task: Classify the sentiment as either 'happy' or 'sad'</span>                                                         <span style=\"color: #000080; text-decoration-color: #000080\">│</span>\n",
              "<span style=\"color: #000080; text-decoration-color: #000080\">│</span>                                                                                                                 <span style=\"color: #000080; text-decoration-color: #000080\">│</span>\n",
              "<span style=\"color: #000080; text-decoration-color: #000080\">│</span> <span style=\"color: #000080; text-decoration-color: #000080\">Examples:</span>                                                                                                       <span style=\"color: #000080; text-decoration-color: #000080\">│</span>\n",
              "<span style=\"color: #000080; text-decoration-color: #000080\">│</span>                                                                                                                 <span style=\"color: #000080; text-decoration-color: #000080\">│</span>\n",
              "<span style=\"color: #000080; text-decoration-color: #000080\">│</span> <span style=\"color: #000080; text-decoration-color: #000080\">Input: This movie was absolutely fantastic!</span>                                                                     <span style=\"color: #000080; text-decoration-color: #000080\">│</span>\n",
              "<span style=\"color: #000080; text-decoration-color: #000080\">│</span> <span style=\"color: #000080; text-decoration-color: #000080\">Output: happy</span>                                                                                                   <span style=\"color: #000080; text-decoration-color: #000080\">│</span>\n",
              "<span style=\"color: #000080; text-decoration-color: #000080\">│</span>                                                                                                                 <span style=\"color: #000080; text-decoration-color: #000080\">│</span>\n",
              "<span style=\"color: #000080; text-decoration-color: #000080\">│</span> <span style=\"color: #000080; text-decoration-color: #000080\">Input: I lost my wallet today</span>                                                                                   <span style=\"color: #000080; text-decoration-color: #000080\">│</span>\n",
              "<span style=\"color: #000080; text-decoration-color: #000080\">│</span> <span style=\"color: #000080; text-decoration-color: #000080\">Output: sad</span>                                                                                                     <span style=\"color: #000080; text-decoration-color: #000080\">│</span>\n",
              "<span style=\"color: #000080; text-decoration-color: #000080\">│</span>                                                                                                                 <span style=\"color: #000080; text-decoration-color: #000080\">│</span>\n",
              "<span style=\"color: #000080; text-decoration-color: #000080\">│</span> <span style=\"color: #000080; text-decoration-color: #000080\">Input: I hate the world</span>                                                                                         <span style=\"color: #000080; text-decoration-color: #000080\">│</span>\n",
              "<span style=\"color: #000080; text-decoration-color: #000080\">│</span> <span style=\"color: #000080; text-decoration-color: #000080\">Output:</span>                                                                                                         <span style=\"color: #000080; text-decoration-color: #000080\">│</span>\n",
              "<span style=\"color: #000080; text-decoration-color: #000080\">╰─────────────────────────────────────────────────────────────────────────────────────────────────────────────────╯</span>\n",
              "</pre>\n"
            ],
            "text/plain": [
              "\u001b[34m╭─\u001b[0m\u001b[34m────────────────────────────────────────────────\u001b[0m\u001b[34m 📝 Input Text \u001b[0m\u001b[34m────────────────────────────────────────────────\u001b[0m\u001b[34m─╮\u001b[0m\n",
              "\u001b[34m│\u001b[0m \u001b[34mTask: Classify the sentiment as either 'happy' or 'sad'\u001b[0m                                                         \u001b[34m│\u001b[0m\n",
              "\u001b[34m│\u001b[0m                                                                                                                 \u001b[34m│\u001b[0m\n",
              "\u001b[34m│\u001b[0m \u001b[34mExamples:\u001b[0m                                                                                                       \u001b[34m│\u001b[0m\n",
              "\u001b[34m│\u001b[0m                                                                                                                 \u001b[34m│\u001b[0m\n",
              "\u001b[34m│\u001b[0m \u001b[34mInput: This movie was absolutely fantastic!\u001b[0m                                                                     \u001b[34m│\u001b[0m\n",
              "\u001b[34m│\u001b[0m \u001b[34mOutput: happy\u001b[0m                                                                                                   \u001b[34m│\u001b[0m\n",
              "\u001b[34m│\u001b[0m                                                                                                                 \u001b[34m│\u001b[0m\n",
              "\u001b[34m│\u001b[0m \u001b[34mInput: I lost my wallet today\u001b[0m                                                                                   \u001b[34m│\u001b[0m\n",
              "\u001b[34m│\u001b[0m \u001b[34mOutput: sad\u001b[0m                                                                                                     \u001b[34m│\u001b[0m\n",
              "\u001b[34m│\u001b[0m                                                                                                                 \u001b[34m│\u001b[0m\n",
              "\u001b[34m│\u001b[0m \u001b[34mInput: I hate the world\u001b[0m                                                                                         \u001b[34m│\u001b[0m\n",
              "\u001b[34m│\u001b[0m \u001b[34mOutput:\u001b[0m                                                                                                         \u001b[34m│\u001b[0m\n",
              "\u001b[34m╰─────────────────────────────────────────────────────────────────────────────────────────────────────────────────╯\u001b[0m\n"
            ]
          },
          "metadata": {},
          "output_type": "display_data"
        },
        {
          "data": {
            "text/html": [
              "<pre style=\"white-space:pre;overflow-x:auto;line-height:normal;font-family:Menlo,'DejaVu Sans Mono',consolas,'Courier New',monospace\"><span style=\"color: #800080; text-decoration-color: #800080\">╭───────────────────────────────────────────── assistant🤖 Response ──────────────────────────────────────────────╮</span>\n",
              "<span style=\"color: #800080; text-decoration-color: #800080\">│</span> <span style=\"color: #808000; text-decoration-color: #808000\">I hate the world</span>                                                                                                <span style=\"color: #800080; text-decoration-color: #800080\">│</span>\n",
              "<span style=\"color: #800080; text-decoration-color: #800080\">│</span> <span style=\"color: #808000; text-decoration-color: #808000\">Output: sad</span>                                                                                                     <span style=\"color: #800080; text-decoration-color: #800080\">│</span>\n",
              "<span style=\"color: #800080; text-decoration-color: #800080\">╰─────────────────────────────────────────────────────────────────────────────────────────────────────────────────╯</span>\n",
              "</pre>\n"
            ],
            "text/plain": [
              "\u001b[35m╭─\u001b[0m\u001b[35m────────────────────────────────────────────\u001b[0m\u001b[35m assistant🤖 Response \u001b[0m\u001b[35m─────────────────────────────────────────────\u001b[0m\u001b[35m─╮\u001b[0m\n",
              "\u001b[35m│\u001b[0m \u001b[33mI hate the world\u001b[0m                                                                                                \u001b[35m│\u001b[0m\n",
              "\u001b[35m│\u001b[0m \u001b[33mOutput: sad\u001b[0m                                                                                                     \u001b[35m│\u001b[0m\n",
              "\u001b[35m╰─────────────────────────────────────────────────────────────────────────────────────────────────────────────────╯\u001b[0m\n"
            ]
          },
          "metadata": {},
          "output_type": "display_data"
        },
        {
          "data": {
            "text/html": [
              "<pre style=\"white-space:pre;overflow-x:auto;line-height:normal;font-family:Menlo,'DejaVu Sans Mono',consolas,'Courier New',monospace\">\n",
              "================================================================================\n",
              "\n",
              "</pre>\n"
            ],
            "text/plain": [
              "\n",
              "================================================================================\n",
              "\n"
            ]
          },
          "metadata": {},
          "output_type": "display_data"
        }
      ],
      "source": [
        "examples = [\n",
        "    {\n",
        "        \"input\": \"This movie was absolutely fantastic!\",\n",
        "        \"output\": \"happy\"\n",
        "    },\n",
        "    {\n",
        "        \"input\": \"I lost my wallet today\",\n",
        "        \"output\": \"sad\"\n",
        "    }\n",
        "]\n",
        "\n",
        "r = few_shot_classify(\n",
        "    text=\"I hate the world\",\n",
        "    examples=examples,\n",
        "    task=\"Classify the sentiment as either 'happy' or 'sad'\",\n",
        "    llm=llm_Groq\n",
        ")"
      ]
    },
    {
      "cell_type": "code",
      "execution_count": 12,
      "metadata": {
        "id": "xoFTf00IsBfS"
      },
      "outputs": [],
      "source": [
        "def chain_of_thought(question: str, llm) -> str:\n",
        "    \"\"\"\n",
        "    Chain-of-thought prompting for step-by-step reasoning.\n",
        "\n",
        "    Args:\n",
        "        question: input question or problem\n",
        "        llm: initialized LLM instance\n",
        "    \"\"\"\n",
        "    prompt = f\"\"\"\n",
        "    Please solve this problem step by step:\n",
        "\n",
        "    Question: {question}\n",
        "\n",
        "    Let's approach this step by step:\n",
        "    \"\"\"\n",
        "\n",
        "    response = llm.invoke(prompt)\n",
        "    print_model_response(prompt, response.content)\n",
        "    return response.content"
      ]
    },
    {
      "cell_type": "code",
      "execution_count": 13,
      "metadata": {
        "id": "W2nROjmEuvso"
      },
      "outputs": [],
      "source": [
        "llm_Gemma_dumb = ChatGroq(model=\"gemma2-9b-it\", temperature=0)\n"
      ]
    },
    {
      "cell_type": "code",
      "execution_count": 14,
      "metadata": {
        "colab": {
          "base_uri": "https://localhost:8080/",
          "height": 202
        },
        "id": "Jsz-zLMNsebL",
        "outputId": "8245e1b5-ba5e-4e15-b186-10ac512a8d1a"
      },
      "outputs": [
        {
          "data": {
            "text/html": [
              "<pre style=\"white-space:pre;overflow-x:auto;line-height:normal;font-family:Menlo,'DejaVu Sans Mono',consolas,'Courier New',monospace\">\n",
              "================================================================================\n",
              "\n",
              "</pre>\n"
            ],
            "text/plain": [
              "\n",
              "================================================================================\n",
              "\n"
            ]
          },
          "metadata": {},
          "output_type": "display_data"
        },
        {
          "data": {
            "text/html": [
              "<pre style=\"white-space:pre;overflow-x:auto;line-height:normal;font-family:Menlo,'DejaVu Sans Mono',consolas,'Courier New',monospace\"><span style=\"color: #000080; text-decoration-color: #000080\">╭───────────────────────────────────────────────── 📝 Input Text ─────────────────────────────────────────────────╮</span>\n",
              "<span style=\"color: #000080; text-decoration-color: #000080\">│</span> <span style=\"color: #000080; text-decoration-color: #000080\">Which number is larger, 3.9 or 3.11?</span>                                                                            <span style=\"color: #000080; text-decoration-color: #000080\">│</span>\n",
              "<span style=\"color: #000080; text-decoration-color: #000080\">╰─────────────────────────────────────────────────────────────────────────────────────────────────────────────────╯</span>\n",
              "</pre>\n"
            ],
            "text/plain": [
              "\u001b[34m╭─\u001b[0m\u001b[34m────────────────────────────────────────────────\u001b[0m\u001b[34m 📝 Input Text \u001b[0m\u001b[34m────────────────────────────────────────────────\u001b[0m\u001b[34m─╮\u001b[0m\n",
              "\u001b[34m│\u001b[0m \u001b[34mWhich number is larger, 3.9 or 3.11?\u001b[0m                                                                            \u001b[34m│\u001b[0m\n",
              "\u001b[34m╰─────────────────────────────────────────────────────────────────────────────────────────────────────────────────╯\u001b[0m\n"
            ]
          },
          "metadata": {},
          "output_type": "display_data"
        },
        {
          "data": {
            "text/html": [
              "<pre style=\"white-space:pre;overflow-x:auto;line-height:normal;font-family:Menlo,'DejaVu Sans Mono',consolas,'Courier New',monospace\"><span style=\"color: #800080; text-decoration-color: #800080\">╭───────────────────────────────────────────── assistant🤖 Response ──────────────────────────────────────────────╮</span>\n",
              "<span style=\"color: #800080; text-decoration-color: #800080\">│</span> <span style=\"color: #808000; text-decoration-color: #808000\">3.11 is larger than 3.9. </span>                                                                                       <span style=\"color: #800080; text-decoration-color: #800080\">│</span>\n",
              "<span style=\"color: #800080; text-decoration-color: #800080\">│</span>                                                                                                                 <span style=\"color: #800080; text-decoration-color: #800080\">│</span>\n",
              "<span style=\"color: #800080; text-decoration-color: #800080\">╰─────────────────────────────────────────────────────────────────────────────────────────────────────────────────╯</span>\n",
              "</pre>\n"
            ],
            "text/plain": [
              "\u001b[35m╭─\u001b[0m\u001b[35m────────────────────────────────────────────\u001b[0m\u001b[35m assistant🤖 Response \u001b[0m\u001b[35m─────────────────────────────────────────────\u001b[0m\u001b[35m─╮\u001b[0m\n",
              "\u001b[35m│\u001b[0m \u001b[33m3.11 is larger than 3.9. \u001b[0m                                                                                       \u001b[35m│\u001b[0m\n",
              "\u001b[35m│\u001b[0m                                                                                                                 \u001b[35m│\u001b[0m\n",
              "\u001b[35m╰─────────────────────────────────────────────────────────────────────────────────────────────────────────────────╯\u001b[0m\n"
            ]
          },
          "metadata": {},
          "output_type": "display_data"
        },
        {
          "data": {
            "text/html": [
              "<pre style=\"white-space:pre;overflow-x:auto;line-height:normal;font-family:Menlo,'DejaVu Sans Mono',consolas,'Courier New',monospace\">\n",
              "================================================================================\n",
              "\n",
              "</pre>\n"
            ],
            "text/plain": [
              "\n",
              "================================================================================\n",
              "\n"
            ]
          },
          "metadata": {},
          "output_type": "display_data"
        }
      ],
      "source": [
        "riddle = \"\"\"Which number is larger, 3.9 or 3.11?\"\"\"\n",
        "print_model_response(riddle,llm_Gemma_dumb.invoke(riddle).content)"
      ]
    },
    {
      "cell_type": "code",
      "execution_count": 15,
      "metadata": {
        "colab": {
          "base_uri": "https://localhost:8080/",
          "height": 667
        },
        "id": "dPXtCQIFsU8B",
        "outputId": "b6617114-46ac-4d55-b2ca-f6a44dceabf3"
      },
      "outputs": [
        {
          "data": {
            "text/html": [
              "<pre style=\"white-space:pre;overflow-x:auto;line-height:normal;font-family:Menlo,'DejaVu Sans Mono',consolas,'Courier New',monospace\">\n",
              "================================================================================\n",
              "\n",
              "</pre>\n"
            ],
            "text/plain": [
              "\n",
              "================================================================================\n",
              "\n"
            ]
          },
          "metadata": {},
          "output_type": "display_data"
        },
        {
          "data": {
            "text/html": [
              "<pre style=\"white-space:pre;overflow-x:auto;line-height:normal;font-family:Menlo,'DejaVu Sans Mono',consolas,'Courier New',monospace\"><span style=\"color: #000080; text-decoration-color: #000080\">╭───────────────────────────────────────────────── 📝 Input Text ─────────────────────────────────────────────────╮</span>\n",
              "<span style=\"color: #000080; text-decoration-color: #000080\">│</span>                                                                                                                 <span style=\"color: #000080; text-decoration-color: #000080\">│</span>\n",
              "<span style=\"color: #000080; text-decoration-color: #000080\">│</span> <span style=\"color: #000080; text-decoration-color: #000080\">    Please solve this problem step by step:</span>                                                                     <span style=\"color: #000080; text-decoration-color: #000080\">│</span>\n",
              "<span style=\"color: #000080; text-decoration-color: #000080\">│</span>                                                                                                                 <span style=\"color: #000080; text-decoration-color: #000080\">│</span>\n",
              "<span style=\"color: #000080; text-decoration-color: #000080\">│</span> <span style=\"color: #000080; text-decoration-color: #000080\">    Question: Which number is larger, 3.9 or 3.11?</span>                                                              <span style=\"color: #000080; text-decoration-color: #000080\">│</span>\n",
              "<span style=\"color: #000080; text-decoration-color: #000080\">│</span>                                                                                                                 <span style=\"color: #000080; text-decoration-color: #000080\">│</span>\n",
              "<span style=\"color: #000080; text-decoration-color: #000080\">│</span> <span style=\"color: #000080; text-decoration-color: #000080\">    Let's approach this step by step:</span>                                                                           <span style=\"color: #000080; text-decoration-color: #000080\">│</span>\n",
              "<span style=\"color: #000080; text-decoration-color: #000080\">│</span> <span style=\"color: #000080; text-decoration-color: #000080\">    </span>                                                                                                            <span style=\"color: #000080; text-decoration-color: #000080\">│</span>\n",
              "<span style=\"color: #000080; text-decoration-color: #000080\">╰─────────────────────────────────────────────────────────────────────────────────────────────────────────────────╯</span>\n",
              "</pre>\n"
            ],
            "text/plain": [
              "\u001b[34m╭─\u001b[0m\u001b[34m────────────────────────────────────────────────\u001b[0m\u001b[34m 📝 Input Text \u001b[0m\u001b[34m────────────────────────────────────────────────\u001b[0m\u001b[34m─╮\u001b[0m\n",
              "\u001b[34m│\u001b[0m                                                                                                                 \u001b[34m│\u001b[0m\n",
              "\u001b[34m│\u001b[0m \u001b[34m    Please solve this problem step by step:\u001b[0m                                                                     \u001b[34m│\u001b[0m\n",
              "\u001b[34m│\u001b[0m                                                                                                                 \u001b[34m│\u001b[0m\n",
              "\u001b[34m│\u001b[0m \u001b[34m    Question: Which number is larger, 3.9 or 3.11?\u001b[0m                                                              \u001b[34m│\u001b[0m\n",
              "\u001b[34m│\u001b[0m                                                                                                                 \u001b[34m│\u001b[0m\n",
              "\u001b[34m│\u001b[0m \u001b[34m    Let's approach this step by step:\u001b[0m                                                                           \u001b[34m│\u001b[0m\n",
              "\u001b[34m│\u001b[0m \u001b[34m    \u001b[0m                                                                                                            \u001b[34m│\u001b[0m\n",
              "\u001b[34m╰─────────────────────────────────────────────────────────────────────────────────────────────────────────────────╯\u001b[0m\n"
            ]
          },
          "metadata": {},
          "output_type": "display_data"
        },
        {
          "data": {
            "text/html": [
              "<pre style=\"white-space:pre;overflow-x:auto;line-height:normal;font-family:Menlo,'DejaVu Sans Mono',consolas,'Courier New',monospace\"><span style=\"color: #800080; text-decoration-color: #800080\">╭───────────────────────────────────────────── assistant🤖 Response ──────────────────────────────────────────────╮</span>\n",
              "<span style=\"color: #800080; text-decoration-color: #800080\">│</span> <span style=\"color: #808000; text-decoration-color: #808000\">Here's how to solve the problem step-by-step:</span>                                                                   <span style=\"color: #800080; text-decoration-color: #800080\">│</span>\n",
              "<span style=\"color: #800080; text-decoration-color: #800080\">│</span>                                                                                                                 <span style=\"color: #800080; text-decoration-color: #800080\">│</span>\n",
              "<span style=\"color: #800080; text-decoration-color: #800080\">│</span> <span style=\"color: #808000; text-decoration-color: #808000\">**1. Compare the whole number parts:**</span>                                                                          <span style=\"color: #800080; text-decoration-color: #800080\">│</span>\n",
              "<span style=\"color: #800080; text-decoration-color: #800080\">│</span>                                                                                                                 <span style=\"color: #800080; text-decoration-color: #800080\">│</span>\n",
              "<span style=\"color: #800080; text-decoration-color: #800080\">│</span> <span style=\"color: #808000; text-decoration-color: #808000\">* Both numbers have a \"3\" in the whole number part.</span>                                                             <span style=\"color: #800080; text-decoration-color: #800080\">│</span>\n",
              "<span style=\"color: #800080; text-decoration-color: #800080\">│</span>                                                                                                                 <span style=\"color: #800080; text-decoration-color: #800080\">│</span>\n",
              "<span style=\"color: #800080; text-decoration-color: #800080\">│</span> <span style=\"color: #808000; text-decoration-color: #808000\">**2. Compare the tenths place:**</span>                                                                                <span style=\"color: #800080; text-decoration-color: #800080\">│</span>\n",
              "<span style=\"color: #800080; text-decoration-color: #800080\">│</span>                                                                                                                 <span style=\"color: #800080; text-decoration-color: #800080\">│</span>\n",
              "<span style=\"color: #800080; text-decoration-color: #800080\">│</span> <span style=\"color: #808000; text-decoration-color: #808000\">* 3.9 has a \"9\" in the tenths place.</span>                                                                            <span style=\"color: #800080; text-decoration-color: #800080\">│</span>\n",
              "<span style=\"color: #800080; text-decoration-color: #800080\">│</span> <span style=\"color: #808000; text-decoration-color: #808000\">* 3.11 has a \"1\" in the tenths place. </span>                                                                          <span style=\"color: #800080; text-decoration-color: #800080\">│</span>\n",
              "<span style=\"color: #800080; text-decoration-color: #800080\">│</span> <span style=\"color: #808000; text-decoration-color: #808000\">* Since 9 is greater than 1, 3.9 is larger than 3.11 in this part.</span>                                              <span style=\"color: #800080; text-decoration-color: #800080\">│</span>\n",
              "<span style=\"color: #800080; text-decoration-color: #800080\">│</span>                                                                                                                 <span style=\"color: #800080; text-decoration-color: #800080\">│</span>\n",
              "<span style=\"color: #800080; text-decoration-color: #800080\">│</span> <span style=\"color: #808000; text-decoration-color: #808000\">**3.  Consider the hundredths place (if necessary):**</span>                                                           <span style=\"color: #800080; text-decoration-color: #800080\">│</span>\n",
              "<span style=\"color: #800080; text-decoration-color: #800080\">│</span>                                                                                                                 <span style=\"color: #800080; text-decoration-color: #800080\">│</span>\n",
              "<span style=\"color: #800080; text-decoration-color: #800080\">│</span> <span style=\"color: #808000; text-decoration-color: #808000\">*  We don't need to compare the hundredths place because the tenths place already tells us 3.9 is larger.</span>       <span style=\"color: #800080; text-decoration-color: #800080\">│</span>\n",
              "<span style=\"color: #800080; text-decoration-color: #800080\">│</span>                                                                                                                 <span style=\"color: #800080; text-decoration-color: #800080\">│</span>\n",
              "<span style=\"color: #800080; text-decoration-color: #800080\">│</span>                                                                                                                 <span style=\"color: #800080; text-decoration-color: #800080\">│</span>\n",
              "<span style=\"color: #800080; text-decoration-color: #800080\">│</span> <span style=\"color: #808000; text-decoration-color: #808000\">**Conclusion:**</span>                                                                                                 <span style=\"color: #800080; text-decoration-color: #800080\">│</span>\n",
              "<span style=\"color: #800080; text-decoration-color: #800080\">│</span>                                                                                                                 <span style=\"color: #800080; text-decoration-color: #800080\">│</span>\n",
              "<span style=\"color: #800080; text-decoration-color: #800080\">│</span> <span style=\"color: #808000; text-decoration-color: #808000\">3.9 is larger than 3.11. </span>                                                                                       <span style=\"color: #800080; text-decoration-color: #800080\">│</span>\n",
              "<span style=\"color: #800080; text-decoration-color: #800080\">│</span>                                                                                                                 <span style=\"color: #800080; text-decoration-color: #800080\">│</span>\n",
              "<span style=\"color: #800080; text-decoration-color: #800080\">╰─────────────────────────────────────────────────────────────────────────────────────────────────────────────────╯</span>\n",
              "</pre>\n"
            ],
            "text/plain": [
              "\u001b[35m╭─\u001b[0m\u001b[35m────────────────────────────────────────────\u001b[0m\u001b[35m assistant🤖 Response \u001b[0m\u001b[35m─────────────────────────────────────────────\u001b[0m\u001b[35m─╮\u001b[0m\n",
              "\u001b[35m│\u001b[0m \u001b[33mHere's how to solve the problem step-by-step:\u001b[0m                                                                   \u001b[35m│\u001b[0m\n",
              "\u001b[35m│\u001b[0m                                                                                                                 \u001b[35m│\u001b[0m\n",
              "\u001b[35m│\u001b[0m \u001b[33m**1. Compare the whole number parts:**\u001b[0m                                                                          \u001b[35m│\u001b[0m\n",
              "\u001b[35m│\u001b[0m                                                                                                                 \u001b[35m│\u001b[0m\n",
              "\u001b[35m│\u001b[0m \u001b[33m* Both numbers have a \"3\" in the whole number part.\u001b[0m                                                             \u001b[35m│\u001b[0m\n",
              "\u001b[35m│\u001b[0m                                                                                                                 \u001b[35m│\u001b[0m\n",
              "\u001b[35m│\u001b[0m \u001b[33m**2. Compare the tenths place:**\u001b[0m                                                                                \u001b[35m│\u001b[0m\n",
              "\u001b[35m│\u001b[0m                                                                                                                 \u001b[35m│\u001b[0m\n",
              "\u001b[35m│\u001b[0m \u001b[33m* 3.9 has a \"9\" in the tenths place.\u001b[0m                                                                            \u001b[35m│\u001b[0m\n",
              "\u001b[35m│\u001b[0m \u001b[33m* 3.11 has a \"1\" in the tenths place. \u001b[0m                                                                          \u001b[35m│\u001b[0m\n",
              "\u001b[35m│\u001b[0m \u001b[33m* Since 9 is greater than 1, 3.9 is larger than 3.11 in this part.\u001b[0m                                              \u001b[35m│\u001b[0m\n",
              "\u001b[35m│\u001b[0m                                                                                                                 \u001b[35m│\u001b[0m\n",
              "\u001b[35m│\u001b[0m \u001b[33m**3.  Consider the hundredths place (if necessary):**\u001b[0m                                                           \u001b[35m│\u001b[0m\n",
              "\u001b[35m│\u001b[0m                                                                                                                 \u001b[35m│\u001b[0m\n",
              "\u001b[35m│\u001b[0m \u001b[33m*  We don't need to compare the hundredths place because the tenths place already tells us 3.9 is larger.\u001b[0m       \u001b[35m│\u001b[0m\n",
              "\u001b[35m│\u001b[0m                                                                                                                 \u001b[35m│\u001b[0m\n",
              "\u001b[35m│\u001b[0m                                                                                                                 \u001b[35m│\u001b[0m\n",
              "\u001b[35m│\u001b[0m \u001b[33m**Conclusion:**\u001b[0m                                                                                                 \u001b[35m│\u001b[0m\n",
              "\u001b[35m│\u001b[0m                                                                                                                 \u001b[35m│\u001b[0m\n",
              "\u001b[35m│\u001b[0m \u001b[33m3.9 is larger than 3.11. \u001b[0m                                                                                       \u001b[35m│\u001b[0m\n",
              "\u001b[35m│\u001b[0m                                                                                                                 \u001b[35m│\u001b[0m\n",
              "\u001b[35m╰─────────────────────────────────────────────────────────────────────────────────────────────────────────────────╯\u001b[0m\n"
            ]
          },
          "metadata": {},
          "output_type": "display_data"
        },
        {
          "data": {
            "text/html": [
              "<pre style=\"white-space:pre;overflow-x:auto;line-height:normal;font-family:Menlo,'DejaVu Sans Mono',consolas,'Courier New',monospace\">\n",
              "================================================================================\n",
              "\n",
              "</pre>\n"
            ],
            "text/plain": [
              "\n",
              "================================================================================\n",
              "\n"
            ]
          },
          "metadata": {},
          "output_type": "display_data"
        },
        {
          "data": {
            "application/vnd.google.colaboratory.intrinsic+json": {
              "type": "string"
            },
            "text/plain": [
              "'Here\\'s how to solve the problem step-by-step:\\n\\n**1. Compare the whole number parts:**\\n\\n* Both numbers have a \"3\" in the whole number part.\\n\\n**2. Compare the tenths place:**\\n\\n* 3.9 has a \"9\" in the tenths place.\\n* 3.11 has a \"1\" in the tenths place. \\n* Since 9 is greater than 1, 3.9 is larger than 3.11 in this part.\\n\\n**3.  Consider the hundredths place (if necessary):**\\n\\n*  We don\\'t need to compare the hundredths place because the tenths place already tells us 3.9 is larger.\\n\\n\\n**Conclusion:**\\n\\n3.9 is larger than 3.11. \\n'"
            ]
          },
          "execution_count": 15,
          "metadata": {},
          "output_type": "execute_result"
        }
      ],
      "source": [
        "# Chain of thought example\n",
        "chain_of_thought(\n",
        "    question=riddle,\n",
        "    llm=llm_Gemma_dumb\n",
        ")"
      ]
    },
    {
      "cell_type": "markdown",
      "metadata": {
        "id": "WrsjQ9jv2svq"
      },
      "source": [
        "## Adding Memory"
      ]
    },
    {
      "cell_type": "code",
      "execution_count": 16,
      "metadata": {
        "colab": {
          "base_uri": "https://localhost:8080/",
          "height": 328
        },
        "id": "Zhe6GmzLsXHh",
        "outputId": "fcb16bf7-d78b-4cc7-c224-bc7251690277"
      },
      "outputs": [
        {
          "name": "stderr",
          "output_type": "stream",
          "text": [
            "<ipython-input-16-46a16f9fbb9a>:4: LangChainDeprecationWarning: Please see the migration guide at: https://python.langchain.com/docs/versions/migrating_memory/\n",
            "  memory = ConversationBufferMemory()\n",
            "<ipython-input-16-46a16f9fbb9a>:6: LangChainDeprecationWarning: The class `ConversationChain` was deprecated in LangChain 0.2.7 and will be removed in 1.0. Use :meth:`~RunnableWithMessageHistory: https://python.langchain.com/v0.2/api_reference/core/runnables/langchain_core.runnables.history.RunnableWithMessageHistory.html` instead.\n",
            "  groq_chain = ConversationChain(\n"
          ]
        },
        {
          "data": {
            "text/html": [
              "<pre style=\"white-space:pre;overflow-x:auto;line-height:normal;font-family:Menlo,'DejaVu Sans Mono',consolas,'Courier New',monospace\">\n",
              "================================================================================\n",
              "\n",
              "</pre>\n"
            ],
            "text/plain": [
              "\n",
              "================================================================================\n",
              "\n"
            ]
          },
          "metadata": {},
          "output_type": "display_data"
        },
        {
          "data": {
            "text/html": [
              "<pre style=\"white-space:pre;overflow-x:auto;line-height:normal;font-family:Menlo,'DejaVu Sans Mono',consolas,'Courier New',monospace\"><span style=\"color: #000080; text-decoration-color: #000080\">╭───────────────────────────────────────────────── 📝 Input Text ─────────────────────────────────────────────────╮</span>\n",
              "<span style=\"color: #000080; text-decoration-color: #000080\">│</span> <span style=\"color: #000080; text-decoration-color: #000080\">Ciao, sono Luigi</span>                                                                                                <span style=\"color: #000080; text-decoration-color: #000080\">│</span>\n",
              "<span style=\"color: #000080; text-decoration-color: #000080\">╰─────────────────────────────────────────────────────────────────────────────────────────────────────────────────╯</span>\n",
              "</pre>\n"
            ],
            "text/plain": [
              "\u001b[34m╭─\u001b[0m\u001b[34m────────────────────────────────────────────────\u001b[0m\u001b[34m 📝 Input Text \u001b[0m\u001b[34m────────────────────────────────────────────────\u001b[0m\u001b[34m─╮\u001b[0m\n",
              "\u001b[34m│\u001b[0m \u001b[34mCiao, sono Luigi\u001b[0m                                                                                                \u001b[34m│\u001b[0m\n",
              "\u001b[34m╰─────────────────────────────────────────────────────────────────────────────────────────────────────────────────╯\u001b[0m\n"
            ]
          },
          "metadata": {},
          "output_type": "display_data"
        },
        {
          "data": {
            "text/html": [
              "<pre style=\"white-space:pre;overflow-x:auto;line-height:normal;font-family:Menlo,'DejaVu Sans Mono',consolas,'Courier New',monospace\"><span style=\"color: #800080; text-decoration-color: #800080\">╭───────────────────────────────────────────── assistant🤖 Response ──────────────────────────────────────────────╮</span>\n",
              "<span style=\"color: #800080; text-decoration-color: #800080\">│</span> <span style=\"color: #808000; text-decoration-color: #808000\">Ciao Luigi! Sono felice di conoscerti. Sembra che tu sia un appassionato di Mario, giusto? Ho notato che il tuo</span> <span style=\"color: #800080; text-decoration-color: #800080\">│</span>\n",
              "<span style=\"color: #800080; text-decoration-color: #800080\">│</span> <span style=\"color: #808000; text-decoration-color: #808000\">nome è Luigi, il fratello di Mario, il famoso personaggio dei videogiochi della Nintendo. Sono pronto a </span>        <span style=\"color: #800080; text-decoration-color: #800080\">│</span>\n",
              "<span style=\"color: #800080; text-decoration-color: #800080\">│</span> <span style=\"color: #808000; text-decoration-color: #808000\">discutere di tutto, dai mondi di Super Mario Bros. ai segreti di New Donk City. Cosa ti piacerebbe discutere </span>   <span style=\"color: #800080; text-decoration-color: #800080\">│</span>\n",
              "<span style=\"color: #800080; text-decoration-color: #800080\">│</span> <span style=\"color: #808000; text-decoration-color: #808000\">oggi?</span>                                                                                                           <span style=\"color: #800080; text-decoration-color: #800080\">│</span>\n",
              "<span style=\"color: #800080; text-decoration-color: #800080\">╰─────────────────────────────────────────────────────────────────────────────────────────────────────────────────╯</span>\n",
              "</pre>\n"
            ],
            "text/plain": [
              "\u001b[35m╭─\u001b[0m\u001b[35m────────────────────────────────────────────\u001b[0m\u001b[35m assistant🤖 Response \u001b[0m\u001b[35m─────────────────────────────────────────────\u001b[0m\u001b[35m─╮\u001b[0m\n",
              "\u001b[35m│\u001b[0m \u001b[33mCiao Luigi! Sono felice di conoscerti. Sembra che tu sia un appassionato di Mario, giusto? Ho notato che il tuo\u001b[0m \u001b[35m│\u001b[0m\n",
              "\u001b[35m│\u001b[0m \u001b[33mnome è Luigi, il fratello di Mario, il famoso personaggio dei videogiochi della Nintendo. Sono pronto a \u001b[0m        \u001b[35m│\u001b[0m\n",
              "\u001b[35m│\u001b[0m \u001b[33mdiscutere di tutto, dai mondi di Super Mario Bros. ai segreti di New Donk City. Cosa ti piacerebbe discutere \u001b[0m   \u001b[35m│\u001b[0m\n",
              "\u001b[35m│\u001b[0m \u001b[33moggi?\u001b[0m                                                                                                           \u001b[35m│\u001b[0m\n",
              "\u001b[35m╰─────────────────────────────────────────────────────────────────────────────────────────────────────────────────╯\u001b[0m\n"
            ]
          },
          "metadata": {},
          "output_type": "display_data"
        },
        {
          "data": {
            "text/html": [
              "<pre style=\"white-space:pre;overflow-x:auto;line-height:normal;font-family:Menlo,'DejaVu Sans Mono',consolas,'Courier New',monospace\">\n",
              "================================================================================\n",
              "\n",
              "</pre>\n"
            ],
            "text/plain": [
              "\n",
              "================================================================================\n",
              "\n"
            ]
          },
          "metadata": {},
          "output_type": "display_data"
        }
      ],
      "source": [
        "from langchain.chains import ConversationChain\n",
        "from langchain.memory import ConversationBufferMemory\n",
        "# Inizializza la memoria\n",
        "memory = ConversationBufferMemory()\n",
        "# Crea una catena conversazionale con memoria\n",
        "groq_chain = ConversationChain(\n",
        "    llm=llm_Groq,\n",
        "    memory=memory,\n",
        ")\n",
        "# Primo input\n",
        "text = \"Ciao, sono Luigi\"\n",
        "response = groq_chain.invoke(text)\n",
        "print_model_response(text, response[\"response\"])\n"
      ]
    },
    {
      "cell_type": "code",
      "execution_count": 17,
      "metadata": {
        "colab": {
          "base_uri": "https://localhost:8080/",
          "height": 235
        },
        "id": "Omse7OIT0VUf",
        "outputId": "5d1778d8-b4ea-498f-efaf-c5124a1a0ea3"
      },
      "outputs": [
        {
          "data": {
            "text/html": [
              "<pre style=\"white-space:pre;overflow-x:auto;line-height:normal;font-family:Menlo,'DejaVu Sans Mono',consolas,'Courier New',monospace\">\n",
              "================================================================================\n",
              "\n",
              "</pre>\n"
            ],
            "text/plain": [
              "\n",
              "================================================================================\n",
              "\n"
            ]
          },
          "metadata": {},
          "output_type": "display_data"
        },
        {
          "data": {
            "text/html": [
              "<pre style=\"white-space:pre;overflow-x:auto;line-height:normal;font-family:Menlo,'DejaVu Sans Mono',consolas,'Courier New',monospace\"><span style=\"color: #000080; text-decoration-color: #000080\">╭───────────────────────────────────────────────── 📝 Input Text ─────────────────────────────────────────────────╮</span>\n",
              "<span style=\"color: #000080; text-decoration-color: #000080\">│</span> <span style=\"color: #000080; text-decoration-color: #000080\">Come mi chiamo?</span>                                                                                                 <span style=\"color: #000080; text-decoration-color: #000080\">│</span>\n",
              "<span style=\"color: #000080; text-decoration-color: #000080\">╰─────────────────────────────────────────────────────────────────────────────────────────────────────────────────╯</span>\n",
              "</pre>\n"
            ],
            "text/plain": [
              "\u001b[34m╭─\u001b[0m\u001b[34m────────────────────────────────────────────────\u001b[0m\u001b[34m 📝 Input Text \u001b[0m\u001b[34m────────────────────────────────────────────────\u001b[0m\u001b[34m─╮\u001b[0m\n",
              "\u001b[34m│\u001b[0m \u001b[34mCome mi chiamo?\u001b[0m                                                                                                 \u001b[34m│\u001b[0m\n",
              "\u001b[34m╰─────────────────────────────────────────────────────────────────────────────────────────────────────────────────╯\u001b[0m\n"
            ]
          },
          "metadata": {},
          "output_type": "display_data"
        },
        {
          "data": {
            "text/html": [
              "<pre style=\"white-space:pre;overflow-x:auto;line-height:normal;font-family:Menlo,'DejaVu Sans Mono',consolas,'Courier New',monospace\"><span style=\"color: #800080; text-decoration-color: #800080\">╭───────────────────────────────────────────── assistant🤖 Response ──────────────────────────────────────────────╮</span>\n",
              "<span style=\"color: #800080; text-decoration-color: #800080\">│</span> <span style=\"color: #808000; text-decoration-color: #808000\">Ahah, Luigi! Il tuo nome è già una grande indicazione della tua passione per i videogiochi della Nintendo. Il </span>  <span style=\"color: #800080; text-decoration-color: #800080\">│</span>\n",
              "<span style=\"color: #800080; text-decoration-color: #800080\">│</span> <span style=\"color: #808000; text-decoration-color: #808000\">tuo nome è Luigi, il fratello maggiore di Mario, il famoso personaggio dei videogiochi della Nintendo. Sembra </span>  <span style=\"color: #800080; text-decoration-color: #800080\">│</span>\n",
              "<span style=\"color: #800080; text-decoration-color: #800080\">│</span> <span style=\"color: #808000; text-decoration-color: #808000\">che tu sia un grande fan della serie Super Mario Bros. e dei suoi mondi fantastici. Sei pronto a esplorare i </span>   <span style=\"color: #800080; text-decoration-color: #800080\">│</span>\n",
              "<span style=\"color: #800080; text-decoration-color: #800080\">│</span> <span style=\"color: #808000; text-decoration-color: #808000\">mondi di Super Mario World, di Super Mario 64 o forse di New Super Mario Bros. U?</span>                               <span style=\"color: #800080; text-decoration-color: #800080\">│</span>\n",
              "<span style=\"color: #800080; text-decoration-color: #800080\">╰─────────────────────────────────────────────────────────────────────────────────────────────────────────────────╯</span>\n",
              "</pre>\n"
            ],
            "text/plain": [
              "\u001b[35m╭─\u001b[0m\u001b[35m────────────────────────────────────────────\u001b[0m\u001b[35m assistant🤖 Response \u001b[0m\u001b[35m─────────────────────────────────────────────\u001b[0m\u001b[35m─╮\u001b[0m\n",
              "\u001b[35m│\u001b[0m \u001b[33mAhah, Luigi! Il tuo nome è già una grande indicazione della tua passione per i videogiochi della Nintendo. Il \u001b[0m  \u001b[35m│\u001b[0m\n",
              "\u001b[35m│\u001b[0m \u001b[33mtuo nome è Luigi, il fratello maggiore di Mario, il famoso personaggio dei videogiochi della Nintendo. Sembra \u001b[0m  \u001b[35m│\u001b[0m\n",
              "\u001b[35m│\u001b[0m \u001b[33mche tu sia un grande fan della serie Super Mario Bros. e dei suoi mondi fantastici. Sei pronto a esplorare i \u001b[0m   \u001b[35m│\u001b[0m\n",
              "\u001b[35m│\u001b[0m \u001b[33mmondi di Super Mario World, di Super Mario 64 o forse di New Super Mario Bros. U?\u001b[0m                               \u001b[35m│\u001b[0m\n",
              "\u001b[35m╰─────────────────────────────────────────────────────────────────────────────────────────────────────────────────╯\u001b[0m\n"
            ]
          },
          "metadata": {},
          "output_type": "display_data"
        },
        {
          "data": {
            "text/html": [
              "<pre style=\"white-space:pre;overflow-x:auto;line-height:normal;font-family:Menlo,'DejaVu Sans Mono',consolas,'Courier New',monospace\">\n",
              "================================================================================\n",
              "\n",
              "</pre>\n"
            ],
            "text/plain": [
              "\n",
              "================================================================================\n",
              "\n"
            ]
          },
          "metadata": {},
          "output_type": "display_data"
        }
      ],
      "source": [
        "text2 = \"Come mi chiamo?\"\n",
        "response = groq_chain.invoke(text2)\n",
        "print_model_response(text2, response[\"response\"])"
      ]
    },
    {
      "cell_type": "code",
      "execution_count": 18,
      "metadata": {
        "colab": {
          "base_uri": "https://localhost:8080/",
          "height": 333
        },
        "id": "dGJ3GoRe3WFV",
        "outputId": "0c950fcf-eb4b-4c4b-d5ae-0b711b15a52a"
      },
      "outputs": [
        {
          "data": {
            "text/html": [
              "<pre style=\"white-space:pre;overflow-x:auto;line-height:normal;font-family:Menlo,'DejaVu Sans Mono',consolas,'Courier New',monospace\">\n",
              "================================================================================\n",
              "\n",
              "</pre>\n"
            ],
            "text/plain": [
              "\n",
              "================================================================================\n",
              "\n"
            ]
          },
          "metadata": {},
          "output_type": "display_data"
        },
        {
          "data": {
            "text/html": [
              "<pre style=\"white-space:pre;overflow-x:auto;line-height:normal;font-family:Menlo,'DejaVu Sans Mono',consolas,'Courier New',monospace\"><span style=\"color: #000080; text-decoration-color: #000080\">╭───────────────────────────────────────────────── 📝 Input Text ─────────────────────────────────────────────────╮</span>\n",
              "<span style=\"color: #000080; text-decoration-color: #000080\">│</span>                                                                                                                 <span style=\"color: #000080; text-decoration-color: #000080\">│</span>\n",
              "<span style=\"color: #000080; text-decoration-color: #000080\">╰─────────────────────────────────────────────────────────────────────────────────────────────────────────────────╯</span>\n",
              "</pre>\n"
            ],
            "text/plain": [
              "\u001b[34m╭─\u001b[0m\u001b[34m────────────────────────────────────────────────\u001b[0m\u001b[34m 📝 Input Text \u001b[0m\u001b[34m────────────────────────────────────────────────\u001b[0m\u001b[34m─╮\u001b[0m\n",
              "\u001b[34m│\u001b[0m                                                                                                                 \u001b[34m│\u001b[0m\n",
              "\u001b[34m╰─────────────────────────────────────────────────────────────────────────────────────────────────────────────────╯\u001b[0m\n"
            ]
          },
          "metadata": {},
          "output_type": "display_data"
        },
        {
          "data": {
            "text/html": [
              "<pre style=\"white-space:pre;overflow-x:auto;line-height:normal;font-family:Menlo,'DejaVu Sans Mono',consolas,'Courier New',monospace\"><span style=\"color: #800080; text-decoration-color: #800080\">╭───────────────────────────────────────────── assistant🤖 Response ──────────────────────────────────────────────╮</span>\n",
              "<span style=\"color: #800080; text-decoration-color: #800080\">│</span> <span style=\"color: #808000; text-decoration-color: #808000\">Human: Ciao, sono Luigi</span>                                                                                         <span style=\"color: #800080; text-decoration-color: #800080\">│</span>\n",
              "<span style=\"color: #800080; text-decoration-color: #800080\">│</span> <span style=\"color: #808000; text-decoration-color: #808000\">AI: Ciao Luigi! Sono felice di conoscerti. Sembra che tu sia un appassionato di Mario, giusto? Ho notato che il</span> <span style=\"color: #800080; text-decoration-color: #800080\">│</span>\n",
              "<span style=\"color: #800080; text-decoration-color: #800080\">│</span> <span style=\"color: #808000; text-decoration-color: #808000\">tuo nome è Luigi, il fratello di Mario, il famoso personaggio dei videogiochi della Nintendo. Sono pronto a </span>    <span style=\"color: #800080; text-decoration-color: #800080\">│</span>\n",
              "<span style=\"color: #800080; text-decoration-color: #800080\">│</span> <span style=\"color: #808000; text-decoration-color: #808000\">discutere di tutto, dai mondi di Super Mario Bros. ai segreti di New Donk City. Cosa ti piacerebbe discutere </span>   <span style=\"color: #800080; text-decoration-color: #800080\">│</span>\n",
              "<span style=\"color: #800080; text-decoration-color: #800080\">│</span> <span style=\"color: #808000; text-decoration-color: #808000\">oggi?</span>                                                                                                           <span style=\"color: #800080; text-decoration-color: #800080\">│</span>\n",
              "<span style=\"color: #800080; text-decoration-color: #800080\">│</span> <span style=\"color: #808000; text-decoration-color: #808000\">Human: Come mi chiamo?</span>                                                                                          <span style=\"color: #800080; text-decoration-color: #800080\">│</span>\n",
              "<span style=\"color: #800080; text-decoration-color: #800080\">│</span> <span style=\"color: #808000; text-decoration-color: #808000\">AI: Ahah, Luigi! Il tuo nome è già una grande indicazione della tua passione per i videogiochi della Nintendo. </span> <span style=\"color: #800080; text-decoration-color: #800080\">│</span>\n",
              "<span style=\"color: #800080; text-decoration-color: #800080\">│</span> <span style=\"color: #808000; text-decoration-color: #808000\">Il tuo nome è Luigi, il fratello maggiore di Mario, il famoso personaggio dei videogiochi della Nintendo. </span>      <span style=\"color: #800080; text-decoration-color: #800080\">│</span>\n",
              "<span style=\"color: #800080; text-decoration-color: #800080\">│</span> <span style=\"color: #808000; text-decoration-color: #808000\">Sembra che tu sia un grande fan della serie Super Mario Bros. e dei suoi mondi fantastici. Sei pronto a </span>        <span style=\"color: #800080; text-decoration-color: #800080\">│</span>\n",
              "<span style=\"color: #800080; text-decoration-color: #800080\">│</span> <span style=\"color: #808000; text-decoration-color: #808000\">esplorare i mondi di Super Mario World, di Super Mario 64 o forse di New Super Mario Bros. U?</span>                   <span style=\"color: #800080; text-decoration-color: #800080\">│</span>\n",
              "<span style=\"color: #800080; text-decoration-color: #800080\">╰─────────────────────────────────────────────────────────────────────────────────────────────────────────────────╯</span>\n",
              "</pre>\n"
            ],
            "text/plain": [
              "\u001b[35m╭─\u001b[0m\u001b[35m────────────────────────────────────────────\u001b[0m\u001b[35m assistant🤖 Response \u001b[0m\u001b[35m─────────────────────────────────────────────\u001b[0m\u001b[35m─╮\u001b[0m\n",
              "\u001b[35m│\u001b[0m \u001b[33mHuman: Ciao, sono Luigi\u001b[0m                                                                                         \u001b[35m│\u001b[0m\n",
              "\u001b[35m│\u001b[0m \u001b[33mAI: Ciao Luigi! Sono felice di conoscerti. Sembra che tu sia un appassionato di Mario, giusto? Ho notato che il\u001b[0m \u001b[35m│\u001b[0m\n",
              "\u001b[35m│\u001b[0m \u001b[33mtuo nome è Luigi, il fratello di Mario, il famoso personaggio dei videogiochi della Nintendo. Sono pronto a \u001b[0m    \u001b[35m│\u001b[0m\n",
              "\u001b[35m│\u001b[0m \u001b[33mdiscutere di tutto, dai mondi di Super Mario Bros. ai segreti di New Donk City. Cosa ti piacerebbe discutere \u001b[0m   \u001b[35m│\u001b[0m\n",
              "\u001b[35m│\u001b[0m \u001b[33moggi?\u001b[0m                                                                                                           \u001b[35m│\u001b[0m\n",
              "\u001b[35m│\u001b[0m \u001b[33mHuman: Come mi chiamo?\u001b[0m                                                                                          \u001b[35m│\u001b[0m\n",
              "\u001b[35m│\u001b[0m \u001b[33mAI: Ahah, Luigi! Il tuo nome è già una grande indicazione della tua passione per i videogiochi della Nintendo. \u001b[0m \u001b[35m│\u001b[0m\n",
              "\u001b[35m│\u001b[0m \u001b[33mIl tuo nome è Luigi, il fratello maggiore di Mario, il famoso personaggio dei videogiochi della Nintendo. \u001b[0m      \u001b[35m│\u001b[0m\n",
              "\u001b[35m│\u001b[0m \u001b[33mSembra che tu sia un grande fan della serie Super Mario Bros. e dei suoi mondi fantastici. Sei pronto a \u001b[0m        \u001b[35m│\u001b[0m\n",
              "\u001b[35m│\u001b[0m \u001b[33mesplorare i mondi di Super Mario World, di Super Mario 64 o forse di New Super Mario Bros. U?\u001b[0m                   \u001b[35m│\u001b[0m\n",
              "\u001b[35m╰─────────────────────────────────────────────────────────────────────────────────────────────────────────────────╯\u001b[0m\n"
            ]
          },
          "metadata": {},
          "output_type": "display_data"
        },
        {
          "data": {
            "text/html": [
              "<pre style=\"white-space:pre;overflow-x:auto;line-height:normal;font-family:Menlo,'DejaVu Sans Mono',consolas,'Courier New',monospace\">\n",
              "================================================================================\n",
              "\n",
              "</pre>\n"
            ],
            "text/plain": [
              "\n",
              "================================================================================\n",
              "\n"
            ]
          },
          "metadata": {},
          "output_type": "display_data"
        }
      ],
      "source": [
        "# prompt: Let us investigate how the memory looks like\n",
        "\n",
        "print_model_response(\"\",memory.buffer)"
      ]
    },
    {
      "cell_type": "markdown",
      "metadata": {
        "id": "o-PJ2o9C3tHr"
      },
      "source": [
        "### Sentiment Analysis pt3"
      ]
    },
    {
      "cell_type": "code",
      "execution_count": 19,
      "metadata": {
        "colab": {
          "base_uri": "https://localhost:8080/"
        },
        "id": "viKd4TpG35uV",
        "outputId": "a3018ab6-3647-4be1-f4db-1c3d7978bbb3"
      },
      "outputs": [
        {
          "name": "stdout",
          "output_type": "stream",
          "text": [
            "Requirement already satisfied: transformers==4.48.0 in /usr/local/lib/python3.11/dist-packages (4.48.0)\n",
            "Requirement already satisfied: datasets in /usr/local/lib/python3.11/dist-packages (3.2.0)\n",
            "Requirement already satisfied: accelerate==0.31.0 in /usr/local/lib/python3.11/dist-packages (0.31.0)\n",
            "Requirement already satisfied: torch in /usr/local/lib/python3.11/dist-packages (2.5.1+cu124)\n",
            "Requirement already satisfied: filelock in /usr/local/lib/python3.11/dist-packages (from transformers==4.48.0) (3.17.0)\n",
            "Requirement already satisfied: huggingface-hub<1.0,>=0.24.0 in /usr/local/lib/python3.11/dist-packages (from transformers==4.48.0) (0.27.1)\n",
            "Requirement already satisfied: numpy>=1.17 in /usr/local/lib/python3.11/dist-packages (from transformers==4.48.0) (1.26.4)\n",
            "Requirement already satisfied: packaging>=20.0 in /usr/local/lib/python3.11/dist-packages (from transformers==4.48.0) (24.2)\n",
            "Requirement already satisfied: pyyaml>=5.1 in /usr/local/lib/python3.11/dist-packages (from transformers==4.48.0) (6.0.2)\n",
            "Requirement already satisfied: regex!=2019.12.17 in /usr/local/lib/python3.11/dist-packages (from transformers==4.48.0) (2024.11.6)\n",
            "Requirement already satisfied: requests in /usr/local/lib/python3.11/dist-packages (from transformers==4.48.0) (2.32.3)\n",
            "Requirement already satisfied: tokenizers<0.22,>=0.21 in /usr/local/lib/python3.11/dist-packages (from transformers==4.48.0) (0.21.0)\n",
            "Requirement already satisfied: safetensors>=0.4.1 in /usr/local/lib/python3.11/dist-packages (from transformers==4.48.0) (0.5.2)\n",
            "Requirement already satisfied: tqdm>=4.27 in /usr/local/lib/python3.11/dist-packages (from transformers==4.48.0) (4.67.1)\n",
            "Requirement already satisfied: psutil in /usr/local/lib/python3.11/dist-packages (from accelerate==0.31.0) (5.9.5)\n",
            "Requirement already satisfied: pyarrow>=15.0.0 in /usr/local/lib/python3.11/dist-packages (from datasets) (17.0.0)\n",
            "Requirement already satisfied: dill<0.3.9,>=0.3.0 in /usr/local/lib/python3.11/dist-packages (from datasets) (0.3.8)\n",
            "Requirement already satisfied: pandas in /usr/local/lib/python3.11/dist-packages (from datasets) (2.2.2)\n",
            "Requirement already satisfied: xxhash in /usr/local/lib/python3.11/dist-packages (from datasets) (3.5.0)\n",
            "Requirement already satisfied: multiprocess<0.70.17 in /usr/local/lib/python3.11/dist-packages (from datasets) (0.70.16)\n",
            "Requirement already satisfied: fsspec<=2024.9.0,>=2023.1.0 in /usr/local/lib/python3.11/dist-packages (from fsspec[http]<=2024.9.0,>=2023.1.0->datasets) (2024.9.0)\n",
            "Requirement already satisfied: aiohttp in /usr/local/lib/python3.11/dist-packages (from datasets) (3.11.11)\n",
            "Requirement already satisfied: typing-extensions>=4.8.0 in /usr/local/lib/python3.11/dist-packages (from torch) (4.12.2)\n",
            "Requirement already satisfied: networkx in /usr/local/lib/python3.11/dist-packages (from torch) (3.4.2)\n",
            "Requirement already satisfied: jinja2 in /usr/local/lib/python3.11/dist-packages (from torch) (3.1.5)\n",
            "Requirement already satisfied: nvidia-cuda-nvrtc-cu12==12.4.127 in /usr/local/lib/python3.11/dist-packages (from torch) (12.4.127)\n",
            "Requirement already satisfied: nvidia-cuda-runtime-cu12==12.4.127 in /usr/local/lib/python3.11/dist-packages (from torch) (12.4.127)\n",
            "Requirement already satisfied: nvidia-cuda-cupti-cu12==12.4.127 in /usr/local/lib/python3.11/dist-packages (from torch) (12.4.127)\n",
            "Requirement already satisfied: nvidia-cudnn-cu12==9.1.0.70 in /usr/local/lib/python3.11/dist-packages (from torch) (9.1.0.70)\n",
            "Requirement already satisfied: nvidia-cublas-cu12==12.4.5.8 in /usr/local/lib/python3.11/dist-packages (from torch) (12.4.5.8)\n",
            "Requirement already satisfied: nvidia-cufft-cu12==11.2.1.3 in /usr/local/lib/python3.11/dist-packages (from torch) (11.2.1.3)\n",
            "Requirement already satisfied: nvidia-curand-cu12==10.3.5.147 in /usr/local/lib/python3.11/dist-packages (from torch) (10.3.5.147)\n",
            "Requirement already satisfied: nvidia-cusolver-cu12==11.6.1.9 in /usr/local/lib/python3.11/dist-packages (from torch) (11.6.1.9)\n",
            "Requirement already satisfied: nvidia-cusparse-cu12==12.3.1.170 in /usr/local/lib/python3.11/dist-packages (from torch) (12.3.1.170)\n",
            "Requirement already satisfied: nvidia-nccl-cu12==2.21.5 in /usr/local/lib/python3.11/dist-packages (from torch) (2.21.5)\n",
            "Requirement already satisfied: nvidia-nvtx-cu12==12.4.127 in /usr/local/lib/python3.11/dist-packages (from torch) (12.4.127)\n",
            "Requirement already satisfied: nvidia-nvjitlink-cu12==12.4.127 in /usr/local/lib/python3.11/dist-packages (from torch) (12.4.127)\n",
            "Requirement already satisfied: triton==3.1.0 in /usr/local/lib/python3.11/dist-packages (from torch) (3.1.0)\n",
            "Requirement already satisfied: sympy==1.13.1 in /usr/local/lib/python3.11/dist-packages (from torch) (1.13.1)\n",
            "Requirement already satisfied: mpmath<1.4,>=1.1.0 in /usr/local/lib/python3.11/dist-packages (from sympy==1.13.1->torch) (1.3.0)\n",
            "Requirement already satisfied: aiohappyeyeballs>=2.3.0 in /usr/local/lib/python3.11/dist-packages (from aiohttp->datasets) (2.4.4)\n",
            "Requirement already satisfied: aiosignal>=1.1.2 in /usr/local/lib/python3.11/dist-packages (from aiohttp->datasets) (1.3.2)\n",
            "Requirement already satisfied: attrs>=17.3.0 in /usr/local/lib/python3.11/dist-packages (from aiohttp->datasets) (25.1.0)\n",
            "Requirement already satisfied: frozenlist>=1.1.1 in /usr/local/lib/python3.11/dist-packages (from aiohttp->datasets) (1.5.0)\n",
            "Requirement already satisfied: multidict<7.0,>=4.5 in /usr/local/lib/python3.11/dist-packages (from aiohttp->datasets) (6.1.0)\n",
            "Requirement already satisfied: propcache>=0.2.0 in /usr/local/lib/python3.11/dist-packages (from aiohttp->datasets) (0.2.1)\n",
            "Requirement already satisfied: yarl<2.0,>=1.17.0 in /usr/local/lib/python3.11/dist-packages (from aiohttp->datasets) (1.18.3)\n",
            "Requirement already satisfied: charset-normalizer<4,>=2 in /usr/local/lib/python3.11/dist-packages (from requests->transformers==4.48.0) (3.4.1)\n",
            "Requirement already satisfied: idna<4,>=2.5 in /usr/local/lib/python3.11/dist-packages (from requests->transformers==4.48.0) (3.10)\n",
            "Requirement already satisfied: urllib3<3,>=1.21.1 in /usr/local/lib/python3.11/dist-packages (from requests->transformers==4.48.0) (2.3.0)\n",
            "Requirement already satisfied: certifi>=2017.4.17 in /usr/local/lib/python3.11/dist-packages (from requests->transformers==4.48.0) (2024.12.14)\n",
            "Requirement already satisfied: MarkupSafe>=2.0 in /usr/local/lib/python3.11/dist-packages (from jinja2->torch) (3.0.2)\n",
            "Requirement already satisfied: python-dateutil>=2.8.2 in /usr/local/lib/python3.11/dist-packages (from pandas->datasets) (2.8.2)\n",
            "Requirement already satisfied: pytz>=2020.1 in /usr/local/lib/python3.11/dist-packages (from pandas->datasets) (2024.2)\n",
            "Requirement already satisfied: tzdata>=2022.7 in /usr/local/lib/python3.11/dist-packages (from pandas->datasets) (2025.1)\n",
            "Requirement already satisfied: six>=1.5 in /usr/local/lib/python3.11/dist-packages (from python-dateutil>=2.8.2->pandas->datasets) (1.17.0)\n"
          ]
        }
      ],
      "source": [
        "%pip install transformers==4.48.0 datasets accelerate==0.31.0 torch"
      ]
    },
    {
      "cell_type": "code",
      "execution_count": 20,
      "metadata": {
        "id": "Puk7lDDl3QaU"
      },
      "outputs": [],
      "source": [
        "from transformers import pipeline\n",
        "from langchain_groq import ChatGroq\n",
        "from datasets import load_dataset\n",
        "import random\n",
        "import json"
      ]
    },
    {
      "cell_type": "code",
      "execution_count": 21,
      "metadata": {
        "id": "m4rvDi8p3wh3"
      },
      "outputs": [],
      "source": [
        "def get_balanced_sample(dataset, n_samples=15):\n",
        "    pos_samples = [{'text': x['text'], 'label': x['label']}\n",
        "                  for x in dataset if x['label'] == 1]\n",
        "    neg_samples = [{'text': x['text'], 'label': x['label']}\n",
        "                  for x in dataset if x['label'] == 0]\n",
        "\n",
        "    n_pos = n_samples // 2\n",
        "    n_neg = n_samples - n_pos\n",
        "\n",
        "    sampled_pos = random.sample(pos_samples, n_pos)\n",
        "    sampled_neg = random.sample(neg_samples, n_neg)\n",
        "\n",
        "    samples = sampled_pos + sampled_neg\n",
        "    random.shuffle(samples)\n",
        "    return samples"
      ]
    },
    {
      "cell_type": "code",
      "execution_count": 22,
      "metadata": {
        "id": "8yL7Mf683x0r"
      },
      "outputs": [],
      "source": [
        "def analyze_with_roberta(texts, sentiment_pipeline):\n",
        "    results = []\n",
        "    for text in texts:\n",
        "        # Get raw sentiment scores\n",
        "        analysis = sentiment_pipeline(text)\n",
        "        # RoBERTa returns a list with one dictionary containing 'label' and 'score'\n",
        "        prediction = 1 if analysis[0]['label'] == 'POSITIVE' else 0\n",
        "        results.append(prediction)\n",
        "    return results"
      ]
    },
    {
      "cell_type": "code",
      "execution_count": 23,
      "metadata": {
        "id": "CgcF-nSx4zxR"
      },
      "outputs": [],
      "source": [
        "def analyze_with_llama(texts, llm):\n",
        "    results = []\n",
        "    prompt_template = \"\"\"Classify the sentiment of the following movie review as either positive (1) or negative (0). Respond with ONLY the number.\n",
        "\n",
        "Review: \"{text}\"\n",
        "Classification:\"\"\"\n",
        "\n",
        "    for text in texts:\n",
        "        prompt = prompt_template.format(text=text)\n",
        "        try:\n",
        "            response = llm.invoke(prompt)\n",
        "            prediction = int(response.content.strip())\n",
        "            results.append(prediction)\n",
        "        except:\n",
        "            print(f\"Error with text: {text[:50]}...\")\n",
        "            results.append(0)  # Default to negative on error\n",
        "    return results"
      ]
    },
    {
      "cell_type": "code",
      "execution_count": 24,
      "metadata": {
        "colab": {
          "base_uri": "https://localhost:8080/"
        },
        "id": "DgF4RY0543lM",
        "outputId": "131870bf-a250-4282-d3c8-084ff940b3b2"
      },
      "outputs": [
        {
          "name": "stderr",
          "output_type": "stream",
          "text": [
            "/usr/local/lib/python3.11/dist-packages/huggingface_hub/utils/_auth.py:94: UserWarning: \n",
            "The secret `HF_TOKEN` does not exist in your Colab secrets.\n",
            "To authenticate with the Hugging Face Hub, create a token in your settings tab (https://huggingface.co/settings/tokens), set it as secret in your Google Colab and restart your session.\n",
            "You will be able to reuse this secret in all of your notebooks.\n",
            "Please note that authentication is recommended but still optional to access public models or datasets.\n",
            "  warnings.warn(\n"
          ]
        }
      ],
      "source": [
        "random.seed(42)\n",
        "# Load dataset\n",
        "dataset = load_dataset(\"rotten_tomatoes\")\n",
        "test_data = dataset[\"test\"]\n",
        "# Get balanced sample\n",
        "samples = get_balanced_sample(test_data, n_samples=15)"
      ]
    },
    {
      "cell_type": "code",
      "execution_count": 25,
      "metadata": {
        "colab": {
          "base_uri": "https://localhost:8080/"
        },
        "id": "rx1anepA6C3_",
        "outputId": "aa6c563b-7a3c-4ffa-f392-812491d254eb"
      },
      "outputs": [
        {
          "data": {
            "text/plain": [
              "[{'text': 'a grittily beautiful film that looks , sounds , and feels more like an extended , open-ended poem than a traditionally structured story .',\n",
              "  'label': 1},\n",
              " {'text': 'a dreadful day in irish history is given passionate , if somewhat flawed , treatment .',\n",
              "  'label': 1},\n",
              " {'text': 'the attempt to build up a pressure cooker of horrified awe emerges from the simple fact that the movie has virtually nothing to show .',\n",
              "  'label': 0},\n",
              " {'text': \"it's an odd show , pregnant with moods , stillborn except as a harsh conceptual exercise .\",\n",
              "  'label': 0},\n",
              " {'text': 'missteps take what was otherwise a fascinating , riveting story and send it down the path of the mundane .',\n",
              "  'label': 1},\n",
              " {'text': 'noyce creates a film of near-hypnotic physical beauty even as he tells a story as horrifying as any in the heart-breakingly extensive annals of white-on-black racism .',\n",
              "  'label': 1},\n",
              " {'text': 'hopelessly inane , humorless and under-inspired .', 'label': 0},\n",
              " {'text': 'director kevin bray excels in breaking glass and marking off the \" miami vice \" checklist of power boats , latin music and dog tracks . he doesn\\'t , however , deliver nearly enough of the show\\'s trademark style and flash .',\n",
              "  'label': 0},\n",
              " {'text': 'in addition to scoring high for originality of plot -- putting together familiar themes of family , forgiveness and love in a new way -- lilo & stitch has a number of other assets to commend it to movie audiences both innocent and jaded .',\n",
              "  'label': 1},\n",
              " {'text': \"it sounds like another clever if pointless excursion into the abyss , and that's more or less how it plays out .\",\n",
              "  'label': 0},\n",
              " {'text': 'the dramatic scenes are frequently unintentionally funny , and the action sequences -- clearly the main event -- are surprisingly uninvolving .',\n",
              "  'label': 0},\n",
              " {'text': \"the rare imax movie that you'll wish was longer than an hour .\",\n",
              "  'label': 1},\n",
              " {'text': 'eckstraordinarily lame and severely boring .', 'label': 0},\n",
              " {'text': 'like the series , the movie is funny , smart , visually inventive , and most of all , alive .',\n",
              "  'label': 1},\n",
              " {'text': 'it has the requisite faux-urban vibe and hotter-two-years-ago rap and r&b names and references .',\n",
              "  'label': 0}]"
            ]
          },
          "execution_count": 25,
          "metadata": {},
          "output_type": "execute_result"
        }
      ],
      "source": [
        "samples"
      ]
    },
    {
      "cell_type": "code",
      "execution_count": 26,
      "metadata": {
        "colab": {
          "base_uri": "https://localhost:8080/"
        },
        "id": "p1-PKJzm48IR",
        "outputId": "0297e584-9074-40fb-9984-9d172cbfc018"
      },
      "outputs": [
        {
          "name": "stderr",
          "output_type": "stream",
          "text": [
            "Some weights of the model checkpoint at cardiffnlp/twitter-roberta-base-sentiment-latest were not used when initializing RobertaForSequenceClassification: ['roberta.pooler.dense.bias', 'roberta.pooler.dense.weight']\n",
            "- This IS expected if you are initializing RobertaForSequenceClassification from the checkpoint of a model trained on another task or with another architecture (e.g. initializing a BertForSequenceClassification model from a BertForPreTraining model).\n",
            "- This IS NOT expected if you are initializing RobertaForSequenceClassification from the checkpoint of a model that you expect to be exactly identical (initializing a BertForSequenceClassification model from a BertForSequenceClassification model).\n",
            "Device set to use cuda:0\n"
          ]
        }
      ],
      "source": [
        "# Initialize models\n",
        "roberta = pipeline(\"sentiment-analysis\",\n",
        "                  model=\"cardiffnlp/twitter-roberta-base-sentiment-latest\",\n",
        "                  tokenizer=\"cardiffnlp/twitter-roberta-base-sentiment-latest\")\n",
        "\n",
        "llm = ChatGroq(temperature=0,\n",
        "                model=\"llama-3.1-8b-instant\")\n"
      ]
    },
    {
      "cell_type": "code",
      "execution_count": 27,
      "metadata": {
        "colab": {
          "base_uri": "https://localhost:8080/"
        },
        "id": "sTcAanmv5_-q",
        "outputId": "68a06e62-fa92-4f54-f121-8596c14c0a8d"
      },
      "outputs": [
        {
          "name": "stderr",
          "output_type": "stream",
          "text": [
            "You seem to be using the pipelines sequentially on GPU. In order to maximize efficiency please use a dataset\n"
          ]
        }
      ],
      "source": [
        "#Get predictions\n",
        "texts = [s['text'] for s in samples]\n",
        "roberta_preds = analyze_with_roberta(texts, roberta)\n",
        "llama_preds = analyze_with_llama(texts, llm)\n",
        "\n",
        "# Format results\n",
        "results = []\n",
        "for i in range(len(samples)):\n",
        "    results.append({\n",
        "        'text': samples[i]['text'],\n",
        "        'true_label': samples[i]['label'],\n",
        "        'roberta_pred': roberta_preds[i],\n",
        "        'llama_pred': llama_preds[i]\n",
        "    })"
      ]
    },
    {
      "cell_type": "code",
      "execution_count": 28,
      "metadata": {
        "colab": {
          "base_uri": "https://localhost:8080/"
        },
        "id": "_ZZPMPW08UDl",
        "outputId": "e38e46f2-4a49-4124-9d84-3a9ce8adc038"
      },
      "outputs": [
        {
          "data": {
            "text/plain": [
              "[{'text': 'a grittily beautiful film that looks , sounds , and feels more like an extended , open-ended poem than a traditionally structured story .',\n",
              "  'true_label': 1,\n",
              "  'roberta_pred': 0,\n",
              "  'llama_pred': 1},\n",
              " {'text': 'a dreadful day in irish history is given passionate , if somewhat flawed , treatment .',\n",
              "  'true_label': 1,\n",
              "  'roberta_pred': 0,\n",
              "  'llama_pred': 0},\n",
              " {'text': 'the attempt to build up a pressure cooker of horrified awe emerges from the simple fact that the movie has virtually nothing to show .',\n",
              "  'true_label': 0,\n",
              "  'roberta_pred': 0,\n",
              "  'llama_pred': 0},\n",
              " {'text': \"it's an odd show , pregnant with moods , stillborn except as a harsh conceptual exercise .\",\n",
              "  'true_label': 0,\n",
              "  'roberta_pred': 0,\n",
              "  'llama_pred': 0},\n",
              " {'text': 'missteps take what was otherwise a fascinating , riveting story and send it down the path of the mundane .',\n",
              "  'true_label': 1,\n",
              "  'roberta_pred': 0,\n",
              "  'llama_pred': 0},\n",
              " {'text': 'noyce creates a film of near-hypnotic physical beauty even as he tells a story as horrifying as any in the heart-breakingly extensive annals of white-on-black racism .',\n",
              "  'true_label': 1,\n",
              "  'roberta_pred': 0,\n",
              "  'llama_pred': 1},\n",
              " {'text': 'hopelessly inane , humorless and under-inspired .',\n",
              "  'true_label': 0,\n",
              "  'roberta_pred': 0,\n",
              "  'llama_pred': 0},\n",
              " {'text': 'director kevin bray excels in breaking glass and marking off the \" miami vice \" checklist of power boats , latin music and dog tracks . he doesn\\'t , however , deliver nearly enough of the show\\'s trademark style and flash .',\n",
              "  'true_label': 0,\n",
              "  'roberta_pred': 0,\n",
              "  'llama_pred': 1},\n",
              " {'text': 'in addition to scoring high for originality of plot -- putting together familiar themes of family , forgiveness and love in a new way -- lilo & stitch has a number of other assets to commend it to movie audiences both innocent and jaded .',\n",
              "  'true_label': 1,\n",
              "  'roberta_pred': 0,\n",
              "  'llama_pred': 1},\n",
              " {'text': \"it sounds like another clever if pointless excursion into the abyss , and that's more or less how it plays out .\",\n",
              "  'true_label': 0,\n",
              "  'roberta_pred': 0,\n",
              "  'llama_pred': 0},\n",
              " {'text': 'the dramatic scenes are frequently unintentionally funny , and the action sequences -- clearly the main event -- are surprisingly uninvolving .',\n",
              "  'true_label': 0,\n",
              "  'roberta_pred': 0,\n",
              "  'llama_pred': 0},\n",
              " {'text': \"the rare imax movie that you'll wish was longer than an hour .\",\n",
              "  'true_label': 1,\n",
              "  'roberta_pred': 0,\n",
              "  'llama_pred': 1},\n",
              " {'text': 'eckstraordinarily lame and severely boring .',\n",
              "  'true_label': 0,\n",
              "  'roberta_pred': 0,\n",
              "  'llama_pred': 0},\n",
              " {'text': 'like the series , the movie is funny , smart , visually inventive , and most of all , alive .',\n",
              "  'true_label': 1,\n",
              "  'roberta_pred': 0,\n",
              "  'llama_pred': 1},\n",
              " {'text': 'it has the requisite faux-urban vibe and hotter-two-years-ago rap and r&b names and references .',\n",
              "  'true_label': 0,\n",
              "  'roberta_pred': 0,\n",
              "  'llama_pred': 0}]"
            ]
          },
          "execution_count": 28,
          "metadata": {},
          "output_type": "execute_result"
        }
      ],
      "source": [
        "results"
      ]
    },
    {
      "cell_type": "code",
      "execution_count": 29,
      "metadata": {
        "colab": {
          "base_uri": "https://localhost:8080/"
        },
        "id": "Ol-ldaci6VfE",
        "outputId": "b3d9738b-cd36-40c2-c306-847d2aa43000"
      },
      "outputs": [
        {
          "name": "stdout",
          "output_type": "stream",
          "text": [
            "\n",
            "Accuracy Scores:\n",
            "RoBERTa: 53.33%\n",
            "LLaMA: 80.00%\n"
          ]
        }
      ],
      "source": [
        "# Print accuracy\n",
        "roberta_acc = sum(1 for i, s in enumerate(samples)\n",
        "                  if s['label'] == roberta_preds[i]) / len(samples)\n",
        "llama_acc = sum(1 for i, s in enumerate(samples)\n",
        "                if s['label'] == llama_preds[i]) / len(samples)\n",
        "\n",
        "print(f\"\\nAccuracy Scores:\")\n",
        "print(f\"RoBERTa: {roberta_acc:.2%}\")\n",
        "print(f\"LLaMA: {llama_acc:.2%}\")"
      ]
    },
    {
      "cell_type": "markdown",
      "metadata": {
        "id": "hW42GPx3zsBP"
      },
      "source": [
        "## LET US TRY A SEARCH TOOL"
      ]
    },
    {
      "cell_type": "markdown",
      "metadata": {
        "id": "kp8MExF4zynV"
      },
      "source": [
        "Retrive the API TOKEN From TavilyAI\n",
        "![image.png](data:image/png;base64,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)\n",
        "\n",
        "\n",
        "\n",
        "https://tavily.com/"
      ]
    },
    {
      "cell_type": "code",
      "execution_count": 30,
      "metadata": {
        "id": "rwAjVDK10JlW"
      },
      "outputs": [],
      "source": [
        "if \"TAVILY_API_KEY\" not in os.environ:\n",
        "    try:\n",
        "        os.environ[\"TAVILY_API_KEY\"] = userdata.get('TAVILY_API_KEY')\n",
        "    except Exception as e:\n",
        "        os.environ[\"TAVILY_API_KEY\"] = getpass.getpass(\"Enter your TAVILY API key: \")"
      ]
    },
    {
      "cell_type": "code",
      "execution_count": 31,
      "metadata": {
        "id": "9zv0ee0ryuf5"
      },
      "outputs": [],
      "source": [
        "from langchain_community.tools import TavilySearchResults\n",
        "\n",
        "tool = TavilySearchResults(\n",
        "    max_results=5,\n",
        "    search_depth=\"advanced\",\n",
        "    include_answer=True,\n",
        "    include_raw_content=True,\n",
        "    include_images=True,\n",
        ")"
      ]
    },
    {
      "cell_type": "code",
      "execution_count": 32,
      "metadata": {
        "colab": {
          "base_uri": "https://localhost:8080/"
        },
        "id": "SYQhIBZ4y-iJ",
        "outputId": "353062f1-94a2-4f9f-de44-f243bc254ea7"
      },
      "outputs": [
        {
          "data": {
            "text/plain": [
              "[{'url': 'https://ai.nd.edu/news/deepseek-explained-what-is-it-and-is-it-safe-to-use/',\n",
              "  'content': 'DeepSeek refers to a new set of frontier AI models from a Chinese startup of the same name. DeepSeek has caused quite a stir in the AI world this week by demonstrating capabilities competitive with – or in some cases, better than – the latest models from OpenAI, while purportedly costing only a fraction of the money and compute power to create. DeepSeek models and their derivatives are all available for public download on Hugging Face, a prominent site for sharing AI/ML models. Did DeepSeek steal data to build its models? OpenAI recently accused DeepSeek of inappropriately using data pulled from one of its models to train DeepSeek. More About the DeepSeek Models'},\n",
              " {'url': 'https://www.techtarget.com/WhatIs/feature/DeepSeek-explained-Everything-you-need-to-know',\n",
              "  'content': \"DeepSeek, a Chinese AI firm, is disrupting the industry with its low-cost, open source large language models, challenging U.S. tech giants. DeepSeek focuses on developing open source LLMs. The company's first model was released in November 2023. Since the company was created in 2023, DeepSeek has released a series of generative AI models. Released in January 2025, this model is based on DeepSeek-V3 and is focused on advanced reasoning tasks directly competing with OpenAI's o1 model in performance, while maintaining a significantly lower cost structure. The low-cost development threatens the business model of U.S. tech companies that have invested billions in AI. In contrast with OpenAI, which is proprietary technology, DeepSeek is open source and free, challenging the revenue model of U.S. companies charging monthly fees for AI services.\"},\n",
              " {'url': 'https://www.cnet.com/tech/services-and-software/what-is-deepseek-everything-to-know-about-the-new-chinese-ai-tool/',\n",
              "  'content': 'What Is DeepSeek AI? What Is DeepSeek AI? We have a breakthrough new player on the artificial intelligence field: DeepSeek is an AI assistant developed by a Chinese company called DeepSeek. Earlier in January, DeepSeek released its AI model, DeepSeek (R1), which competes with leading models like OpenAI\\'s ChatGPT o1. What sets DeepSeek apart is its ability to develop high-performing AI models at a fraction of the cost. DeepSeek is making headlines for its performance, which matches or even surpasses top AI models. While Trump called DeepSeek\\'s success a \"wakeup call\" for the US AI industry, OpenAI told the Financial Times that it found evidence DeepSeek may have used its AI models for training, violating OpenAI\\'s terms of service. Now Playing: What Is DeepSeek AI?'},\n",
              " {'url': 'https://www.bbc.co.uk/news/articles/c5yv5976z9po',\n",
              "  'content': \"An AI-powered chatbot by the Chinese company DeepSeek has quickly become the most downloaded free app on Apple's store, following its January release in the US. The app's sudden popularity, as well as DeepSeek's reportedly low costs compared to those of US-based AI companies, have thrown financial markets into a spin. DeepSeek's low cost creates concern for America's AI future DeepSeek was reportedly developed for a fraction of the cost of its rivals, raising questions about the future of America's AI dominance and the scale of investments US firms are planning. Prince William and Kate attend UK memorial after Holocaust survivors recall horrors of Auschwitz Chinese AI bot DeepSeek sparks US market turmoil, wiping $500bn off major tech firm Elsewhere on the BBC About the BBC\"},\n",
              " {'url': 'https://www.cnn.com/2025/01/27/tech/deepseek-ai-explainer/index.html',\n",
              "  'content': 'CNN10 About CNN The new AI model was developed by DeepSeek, a startup that was born just a year ago and has somehow managed a breakthrough that famed tech investor Marc Andreesen has called “AI’s Sputnik moment”: R1 can nearly match the capabilities of its far more famous rivals, including OpenAI’s GPT-4, Meta’s Llama and Google’s Gemini – but at a fraction of the cost. That means DeepSeek was supposedly able to achieve its low-cost model on relatively under-powered AI chips. AI is a power-hungry and cost-intensive technology – so much so that America’s most powerful tech leaders are buying up nuclear power companies to provide the necessary electricity for their AI models. More from CNN CNN10 About CNN'}]"
            ]
          },
          "execution_count": 32,
          "metadata": {},
          "output_type": "execute_result"
        }
      ],
      "source": [
        "tool.invoke({\"query\": \"What is DeepSeek?\"})"
      ]
    },
    {
      "cell_type": "code",
      "execution_count": 33,
      "metadata": {
        "id": "eYuXXRPG1h4r"
      },
      "outputs": [],
      "source": [
        "REQUEST = \"What is DeepSeek?\""
      ]
    },
    {
      "cell_type": "code",
      "execution_count": 58,
      "metadata": {
        "colab": {
          "base_uri": "https://localhost:8080/",
          "height": 464
        },
        "id": "eLkViuSx1aiS",
        "outputId": "c9bd3846-6041-4c21-8e03-19c44bc884e2"
      },
      "outputs": [
        {
          "data": {
            "text/html": [
              "<pre style=\"white-space:pre;overflow-x:auto;line-height:normal;font-family:Menlo,'DejaVu Sans Mono',consolas,'Courier New',monospace\">\n",
              "================================================================================\n",
              "\n",
              "</pre>\n"
            ],
            "text/plain": [
              "\n",
              "================================================================================\n",
              "\n"
            ]
          },
          "metadata": {},
          "output_type": "display_data"
        },
        {
          "data": {
            "text/html": [
              "<pre style=\"white-space:pre;overflow-x:auto;line-height:normal;font-family:Menlo,'DejaVu Sans Mono',consolas,'Courier New',monospace\"><span style=\"color: #000080; text-decoration-color: #000080\">╭───────────────────────────────────────────────── 📝 Input Text ─────────────────────────────────────────────────╮</span>\n",
              "<span style=\"color: #000080; text-decoration-color: #000080\">│</span> <span style=\"color: #000080; text-decoration-color: #000080\">What is DeepSeek?</span>                                                                                               <span style=\"color: #000080; text-decoration-color: #000080\">│</span>\n",
              "<span style=\"color: #000080; text-decoration-color: #000080\">╰─────────────────────────────────────────────────────────────────────────────────────────────────────────────────╯</span>\n",
              "</pre>\n"
            ],
            "text/plain": [
              "\u001b[34m╭─\u001b[0m\u001b[34m────────────────────────────────────────────────\u001b[0m\u001b[34m 📝 Input Text \u001b[0m\u001b[34m────────────────────────────────────────────────\u001b[0m\u001b[34m─╮\u001b[0m\n",
              "\u001b[34m│\u001b[0m \u001b[34mWhat is DeepSeek?\u001b[0m                                                                                               \u001b[34m│\u001b[0m\n",
              "\u001b[34m╰─────────────────────────────────────────────────────────────────────────────────────────────────────────────────╯\u001b[0m\n"
            ]
          },
          "metadata": {},
          "output_type": "display_data"
        },
        {
          "data": {
            "text/html": [
              "<pre style=\"white-space:pre;overflow-x:auto;line-height:normal;font-family:Menlo,'DejaVu Sans Mono',consolas,'Courier New',monospace\"><span style=\"color: #800080; text-decoration-color: #800080\">╭─────────────────────────────────────── LLM - no tools equiped🤖 Response ───────────────────────────────────────╮</span>\n",
              "<span style=\"color: #800080; text-decoration-color: #800080\">│</span> <span style=\"color: #808000; text-decoration-color: #808000\">DeepSeek is a research project focused on using artificial intelligence (AI) and machine learning to analyze </span>   <span style=\"color: #800080; text-decoration-color: #800080\">│</span>\n",
              "<span style=\"color: #800080; text-decoration-color: #800080\">│</span> <span style=\"color: #808000; text-decoration-color: #808000\">the vast amounts of genomic data available to identify potential causes of diseases, including cancer. </span>         <span style=\"color: #800080; text-decoration-color: #800080\">│</span>\n",
              "<span style=\"color: #800080; text-decoration-color: #800080\">│</span>                                                                                                                 <span style=\"color: #800080; text-decoration-color: #800080\">│</span>\n",
              "<span style=\"color: #800080; text-decoration-color: #800080\">│</span> <span style=\"color: #808000; text-decoration-color: #808000\">The project was initiated by the Gladstone Institutes, a biomedical research organization in San Francisco, in </span> <span style=\"color: #800080; text-decoration-color: #800080\">│</span>\n",
              "<span style=\"color: #800080; text-decoration-color: #800080\">│</span> <span style=\"color: #808000; text-decoration-color: #808000\">collaboration with Google. The primary goal of DeepSeek is to use AI to analyze genomic data from cancer </span>       <span style=\"color: #800080; text-decoration-color: #800080\">│</span>\n",
              "<span style=\"color: #800080; text-decoration-color: #800080\">│</span> <span style=\"color: #808000; text-decoration-color: #808000\">patients and identify potential genetic mutations that could be driving the disease.</span>                            <span style=\"color: #800080; text-decoration-color: #800080\">│</span>\n",
              "<span style=\"color: #800080; text-decoration-color: #800080\">│</span>                                                                                                                 <span style=\"color: #800080; text-decoration-color: #800080\">│</span>\n",
              "<span style=\"color: #800080; text-decoration-color: #800080\">│</span> <span style=\"color: #808000; text-decoration-color: #808000\">DeepSeek uses a combination of machine learning algorithms and large-scale genomic data analysis to identify </span>   <span style=\"color: #800080; text-decoration-color: #800080\">│</span>\n",
              "<span style=\"color: #800080; text-decoration-color: #800080\">│</span> <span style=\"color: #808000; text-decoration-color: #808000\">patterns and correlations that may not be apparent to human researchers. By analyzing genomic data from </span>        <span style=\"color: #800080; text-decoration-color: #800080\">│</span>\n",
              "<span style=\"color: #800080; text-decoration-color: #800080\">│</span> <span style=\"color: #808000; text-decoration-color: #808000\">thousands of cancer patients, the project aims to identify potential genetic mutations that could be targeted </span>  <span style=\"color: #800080; text-decoration-color: #800080\">│</span>\n",
              "<span style=\"color: #800080; text-decoration-color: #800080\">│</span> <span style=\"color: #808000; text-decoration-color: #808000\">by new treatments.</span>                                                                                              <span style=\"color: #800080; text-decoration-color: #800080\">│</span>\n",
              "<span style=\"color: #800080; text-decoration-color: #800080\">│</span>                                                                                                                 <span style=\"color: #800080; text-decoration-color: #800080\">│</span>\n",
              "<span style=\"color: #800080; text-decoration-color: #800080\">│</span> <span style=\"color: #808000; text-decoration-color: #808000\">The project's name, DeepSeek, refers to the idea of \"deep learning\" - a type of machine learning that involves </span> <span style=\"color: #800080; text-decoration-color: #800080\">│</span>\n",
              "<span style=\"color: #800080; text-decoration-color: #800080\">│</span> <span style=\"color: #808000; text-decoration-color: #808000\">training AI algorithms to analyze complex patterns in large datasets. The \"seek\" part of the name refers to the</span> <span style=\"color: #800080; text-decoration-color: #800080\">│</span>\n",
              "<span style=\"color: #800080; text-decoration-color: #800080\">│</span> <span style=\"color: #808000; text-decoration-color: #808000\">project's goal of seeking out new insights and discoveries in the field of cancer research.</span>                     <span style=\"color: #800080; text-decoration-color: #800080\">│</span>\n",
              "<span style=\"color: #800080; text-decoration-color: #800080\">│</span>                                                                                                                 <span style=\"color: #800080; text-decoration-color: #800080\">│</span>\n",
              "<span style=\"color: #800080; text-decoration-color: #800080\">│</span> <span style=\"color: #808000; text-decoration-color: #808000\">DeepSeek has the potential to accelerate the discovery of new cancer treatments and improve our understanding </span>  <span style=\"color: #800080; text-decoration-color: #800080\">│</span>\n",
              "<span style=\"color: #800080; text-decoration-color: #800080\">│</span> <span style=\"color: #808000; text-decoration-color: #808000\">of the underlying biology of the disease.</span>                                                                       <span style=\"color: #800080; text-decoration-color: #800080\">│</span>\n",
              "<span style=\"color: #800080; text-decoration-color: #800080\">╰─────────────────────────────────────────────────────────────────────────────────────────────────────────────────╯</span>\n",
              "</pre>\n"
            ],
            "text/plain": [
              "\u001b[35m╭─\u001b[0m\u001b[35m──────────────────────────────────────\u001b[0m\u001b[35m LLM - no tools equiped🤖 Response \u001b[0m\u001b[35m──────────────────────────────────────\u001b[0m\u001b[35m─╮\u001b[0m\n",
              "\u001b[35m│\u001b[0m \u001b[33mDeepSeek is a research project focused on using artificial intelligence (AI) and machine learning to analyze \u001b[0m   \u001b[35m│\u001b[0m\n",
              "\u001b[35m│\u001b[0m \u001b[33mthe vast amounts of genomic data available to identify potential causes of diseases, including cancer. \u001b[0m         \u001b[35m│\u001b[0m\n",
              "\u001b[35m│\u001b[0m                                                                                                                 \u001b[35m│\u001b[0m\n",
              "\u001b[35m│\u001b[0m \u001b[33mThe project was initiated by the Gladstone Institutes, a biomedical research organization in San Francisco, in \u001b[0m \u001b[35m│\u001b[0m\n",
              "\u001b[35m│\u001b[0m \u001b[33mcollaboration with Google. The primary goal of DeepSeek is to use AI to analyze genomic data from cancer \u001b[0m       \u001b[35m│\u001b[0m\n",
              "\u001b[35m│\u001b[0m \u001b[33mpatients and identify potential genetic mutations that could be driving the disease.\u001b[0m                            \u001b[35m│\u001b[0m\n",
              "\u001b[35m│\u001b[0m                                                                                                                 \u001b[35m│\u001b[0m\n",
              "\u001b[35m│\u001b[0m \u001b[33mDeepSeek uses a combination of machine learning algorithms and large-scale genomic data analysis to identify \u001b[0m   \u001b[35m│\u001b[0m\n",
              "\u001b[35m│\u001b[0m \u001b[33mpatterns and correlations that may not be apparent to human researchers. By analyzing genomic data from \u001b[0m        \u001b[35m│\u001b[0m\n",
              "\u001b[35m│\u001b[0m \u001b[33mthousands of cancer patients, the project aims to identify potential genetic mutations that could be targeted \u001b[0m  \u001b[35m│\u001b[0m\n",
              "\u001b[35m│\u001b[0m \u001b[33mby new treatments.\u001b[0m                                                                                              \u001b[35m│\u001b[0m\n",
              "\u001b[35m│\u001b[0m                                                                                                                 \u001b[35m│\u001b[0m\n",
              "\u001b[35m│\u001b[0m \u001b[33mThe project's name, DeepSeek, refers to the idea of \"deep learning\" - a type of machine learning that involves \u001b[0m \u001b[35m│\u001b[0m\n",
              "\u001b[35m│\u001b[0m \u001b[33mtraining AI algorithms to analyze complex patterns in large datasets. The \"seek\" part of the name refers to the\u001b[0m \u001b[35m│\u001b[0m\n",
              "\u001b[35m│\u001b[0m \u001b[33mproject's goal of seeking out new insights and discoveries in the field of cancer research.\u001b[0m                     \u001b[35m│\u001b[0m\n",
              "\u001b[35m│\u001b[0m                                                                                                                 \u001b[35m│\u001b[0m\n",
              "\u001b[35m│\u001b[0m \u001b[33mDeepSeek has the potential to accelerate the discovery of new cancer treatments and improve our understanding \u001b[0m  \u001b[35m│\u001b[0m\n",
              "\u001b[35m│\u001b[0m \u001b[33mof the underlying biology of the disease.\u001b[0m                                                                       \u001b[35m│\u001b[0m\n",
              "\u001b[35m╰─────────────────────────────────────────────────────────────────────────────────────────────────────────────────╯\u001b[0m\n"
            ]
          },
          "metadata": {},
          "output_type": "display_data"
        },
        {
          "data": {
            "text/html": [
              "<pre style=\"white-space:pre;overflow-x:auto;line-height:normal;font-family:Menlo,'DejaVu Sans Mono',consolas,'Courier New',monospace\">\n",
              "================================================================================\n",
              "\n",
              "</pre>\n"
            ],
            "text/plain": [
              "\n",
              "================================================================================\n",
              "\n"
            ]
          },
          "metadata": {},
          "output_type": "display_data"
        }
      ],
      "source": [
        "print_model_response(REQUEST, llm.invoke(REQUEST).content,\"LLM - no tools equiped\")"
      ]
    },
    {
      "cell_type": "code",
      "execution_count": 35,
      "metadata": {
        "colab": {
          "base_uri": "https://localhost:8080/",
          "height": 268
        },
        "id": "CG85cOn5ySoe",
        "outputId": "2cb03aea-8a3d-4f6d-a090-0c64d9f59a93"
      },
      "outputs": [
        {
          "data": {
            "text/html": [
              "<pre style=\"white-space:pre;overflow-x:auto;line-height:normal;font-family:Menlo,'DejaVu Sans Mono',consolas,'Courier New',monospace\">\n",
              "================================================================================\n",
              "\n",
              "</pre>\n"
            ],
            "text/plain": [
              "\n",
              "================================================================================\n",
              "\n"
            ]
          },
          "metadata": {},
          "output_type": "display_data"
        },
        {
          "data": {
            "text/html": [
              "<pre style=\"white-space:pre;overflow-x:auto;line-height:normal;font-family:Menlo,'DejaVu Sans Mono',consolas,'Courier New',monospace\"><span style=\"color: #000080; text-decoration-color: #000080\">╭───────────────────────────────────────────────── 📝 Input Text ─────────────────────────────────────────────────╮</span>\n",
              "<span style=\"color: #000080; text-decoration-color: #000080\">│</span> <span style=\"color: #000080; text-decoration-color: #000080\">What is DeepSeek?</span>                                                                                               <span style=\"color: #000080; text-decoration-color: #000080\">│</span>\n",
              "<span style=\"color: #000080; text-decoration-color: #000080\">╰─────────────────────────────────────────────────────────────────────────────────────────────────────────────────╯</span>\n",
              "</pre>\n"
            ],
            "text/plain": [
              "\u001b[34m╭─\u001b[0m\u001b[34m────────────────────────────────────────────────\u001b[0m\u001b[34m 📝 Input Text \u001b[0m\u001b[34m────────────────────────────────────────────────\u001b[0m\u001b[34m─╮\u001b[0m\n",
              "\u001b[34m│\u001b[0m \u001b[34mWhat is DeepSeek?\u001b[0m                                                                                               \u001b[34m│\u001b[0m\n",
              "\u001b[34m╰─────────────────────────────────────────────────────────────────────────────────────────────────────────────────╯\u001b[0m\n"
            ]
          },
          "metadata": {},
          "output_type": "display_data"
        },
        {
          "data": {
            "text/html": [
              "<pre style=\"white-space:pre;overflow-x:auto;line-height:normal;font-family:Menlo,'DejaVu Sans Mono',consolas,'Courier New',monospace\"><span style=\"color: #800080; text-decoration-color: #800080\">╭───────────────────────────────────────────── assistant🤖 Response ──────────────────────────────────────────────╮</span>\n",
              "<span style=\"color: #800080; text-decoration-color: #800080\">│</span> <span style=\"color: #808000; text-decoration-color: #808000\">DeepSeek is a Chinese AI firm that has been making waves in the industry with its low-cost, open-source large </span>  <span style=\"color: #800080; text-decoration-color: #800080\">│</span>\n",
              "<span style=\"color: #800080; text-decoration-color: #800080\">│</span> <span style=\"color: #808000; text-decoration-color: #808000\">language models. The company was founded in 2023 and has since released several generative AI models, including</span> <span style=\"color: #800080; text-decoration-color: #800080\">│</span>\n",
              "<span style=\"color: #800080; text-decoration-color: #800080\">│</span> <span style=\"color: #808000; text-decoration-color: #808000\">DeepSeek-V3, which has been shown to outperform models from OpenAI and other US tech giants. DeepSeek's models </span> <span style=\"color: #800080; text-decoration-color: #800080\">│</span>\n",
              "<span style=\"color: #800080; text-decoration-color: #800080\">│</span> <span style=\"color: #808000; text-decoration-color: #808000\">are available for public download on Hugging Face, a prominent site for sharing AI/ML models. The company's </span>    <span style=\"color: #800080; text-decoration-color: #800080\">│</span>\n",
              "<span style=\"color: #800080; text-decoration-color: #800080\">│</span> <span style=\"color: #808000; text-decoration-color: #808000\">focus on open-source models has challenged the business model of US tech companies that have invested billions </span> <span style=\"color: #800080; text-decoration-color: #800080\">│</span>\n",
              "<span style=\"color: #800080; text-decoration-color: #800080\">│</span> <span style=\"color: #808000; text-decoration-color: #808000\">in AI, and has sparked a price war in the AI model market.</span>                                                      <span style=\"color: #800080; text-decoration-color: #800080\">│</span>\n",
              "<span style=\"color: #800080; text-decoration-color: #800080\">╰─────────────────────────────────────────────────────────────────────────────────────────────────────────────────╯</span>\n",
              "</pre>\n"
            ],
            "text/plain": [
              "\u001b[35m╭─\u001b[0m\u001b[35m────────────────────────────────────────────\u001b[0m\u001b[35m assistant🤖 Response \u001b[0m\u001b[35m─────────────────────────────────────────────\u001b[0m\u001b[35m─╮\u001b[0m\n",
              "\u001b[35m│\u001b[0m \u001b[33mDeepSeek is a Chinese AI firm that has been making waves in the industry with its low-cost, open-source large \u001b[0m  \u001b[35m│\u001b[0m\n",
              "\u001b[35m│\u001b[0m \u001b[33mlanguage models. The company was founded in 2023 and has since released several generative AI models, including\u001b[0m \u001b[35m│\u001b[0m\n",
              "\u001b[35m│\u001b[0m \u001b[33mDeepSeek-V3, which has been shown to outperform models from OpenAI and other US tech giants. DeepSeek's models \u001b[0m \u001b[35m│\u001b[0m\n",
              "\u001b[35m│\u001b[0m \u001b[33mare available for public download on Hugging Face, a prominent site for sharing AI/ML models. The company's \u001b[0m    \u001b[35m│\u001b[0m\n",
              "\u001b[35m│\u001b[0m \u001b[33mfocus on open-source models has challenged the business model of US tech companies that have invested billions \u001b[0m \u001b[35m│\u001b[0m\n",
              "\u001b[35m│\u001b[0m \u001b[33min AI, and has sparked a price war in the AI model market.\u001b[0m                                                      \u001b[35m│\u001b[0m\n",
              "\u001b[35m╰─────────────────────────────────────────────────────────────────────────────────────────────────────────────────╯\u001b[0m\n"
            ]
          },
          "metadata": {},
          "output_type": "display_data"
        },
        {
          "data": {
            "text/html": [
              "<pre style=\"white-space:pre;overflow-x:auto;line-height:normal;font-family:Menlo,'DejaVu Sans Mono',consolas,'Courier New',monospace\">\n",
              "================================================================================\n",
              "\n",
              "</pre>\n"
            ],
            "text/plain": [
              "\n",
              "================================================================================\n",
              "\n"
            ]
          },
          "metadata": {},
          "output_type": "display_data"
        }
      ],
      "source": [
        "from langchain_core.prompts import ChatPromptTemplate\n",
        "from langchain_core.runnables import RunnableConfig, chain\n",
        "import datetime\n",
        "today = datetime.datetime.today().strftime(\"%D\")\n",
        "prompt = ChatPromptTemplate(\n",
        "    [\n",
        "        (\"system\", f\"You are a helpful assistant. The date today is {today}.\"),\n",
        "        (\"human\", \"{user_input}\"),\n",
        "        (\"placeholder\", \"{messages}\"),\n",
        "    ]\n",
        ")\n",
        "\n",
        "# specifying tool_choice will force the model to call this tool.\n",
        "llm_with_tools = llm.bind_tools([tool])\n",
        "\n",
        "llm_chain = prompt | llm_with_tools\n",
        "\n",
        "\n",
        "@chain\n",
        "def tool_chain(user_input: str, config: RunnableConfig):\n",
        "    input_ = {\"user_input\": user_input}\n",
        "    ai_msg = llm_chain.invoke(input_, config=config)\n",
        "    tool_msgs = tool.batch(ai_msg.tool_calls, config=config)\n",
        "    return llm_chain.invoke({**input_, \"messages\": [ai_msg, *tool_msgs]}, config=config)\n",
        "\n",
        "request = \"What is DeepSeek?\"\n",
        "print_model_response(request, tool_chain.invoke(request).content)"
      ]
    },
    {
      "cell_type": "markdown",
      "metadata": {
        "id": "uug3o_B9dLvc"
      },
      "source": [
        "## REACT Agent"
      ]
    },
    {
      "cell_type": "markdown",
      "metadata": {
        "id": "WVnFM_m33y7P"
      },
      "source": [
        "![66d026fc5e9946106ba97bcf_AD_4nXfjgPE9WVwijKLzQfzuv-ZgHWkShEGYurEe4THklGsPxsNFAD9XIT10BbnS2deJcoyyl6kd0m5fKf2TeM4Fq2O2cCMWy2ZPV_.png](data:image/png;base64,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)"
      ]
    },
    {
      "cell_type": "code",
      "execution_count": 36,
      "metadata": {
        "colab": {
          "base_uri": "https://localhost:8080/"
        },
        "id": "gt2ukD00dOTd",
        "outputId": "310ba57a-7c65-4802-921a-6ad7e87d677a"
      },
      "outputs": [
        {
          "name": "stdout",
          "output_type": "stream",
          "text": [
            "Requirement already satisfied: python-dotenv in /usr/local/lib/python3.11/dist-packages (1.0.1)\n",
            "Requirement already satisfied: langchain in /usr/local/lib/python3.11/dist-packages (0.3.16)\n",
            "Requirement already satisfied: PyYAML>=5.3 in /usr/local/lib/python3.11/dist-packages (from langchain) (6.0.2)\n",
            "Requirement already satisfied: SQLAlchemy<3,>=1.4 in /usr/local/lib/python3.11/dist-packages (from langchain) (2.0.37)\n",
            "Requirement already satisfied: aiohttp<4.0.0,>=3.8.3 in /usr/local/lib/python3.11/dist-packages (from langchain) (3.11.11)\n",
            "Requirement already satisfied: langchain-core<0.4.0,>=0.3.32 in /usr/local/lib/python3.11/dist-packages (from langchain) (0.3.33)\n",
            "Requirement already satisfied: langchain-text-splitters<0.4.0,>=0.3.3 in /usr/local/lib/python3.11/dist-packages (from langchain) (0.3.5)\n",
            "Requirement already satisfied: langsmith<0.4,>=0.1.17 in /usr/local/lib/python3.11/dist-packages (from langchain) (0.3.2)\n",
            "Requirement already satisfied: numpy<2,>=1.22.4 in /usr/local/lib/python3.11/dist-packages (from langchain) (1.26.4)\n",
            "Requirement already satisfied: pydantic<3.0.0,>=2.7.4 in /usr/local/lib/python3.11/dist-packages (from langchain) (2.10.6)\n",
            "Requirement already satisfied: requests<3,>=2 in /usr/local/lib/python3.11/dist-packages (from langchain) (2.32.3)\n",
            "Requirement already satisfied: tenacity!=8.4.0,<10,>=8.1.0 in /usr/local/lib/python3.11/dist-packages (from langchain) (9.0.0)\n",
            "Requirement already satisfied: aiohappyeyeballs>=2.3.0 in /usr/local/lib/python3.11/dist-packages (from aiohttp<4.0.0,>=3.8.3->langchain) (2.4.4)\n",
            "Requirement already satisfied: aiosignal>=1.1.2 in /usr/local/lib/python3.11/dist-packages (from aiohttp<4.0.0,>=3.8.3->langchain) (1.3.2)\n",
            "Requirement already satisfied: attrs>=17.3.0 in /usr/local/lib/python3.11/dist-packages (from aiohttp<4.0.0,>=3.8.3->langchain) (25.1.0)\n",
            "Requirement already satisfied: frozenlist>=1.1.1 in /usr/local/lib/python3.11/dist-packages (from aiohttp<4.0.0,>=3.8.3->langchain) (1.5.0)\n",
            "Requirement already satisfied: multidict<7.0,>=4.5 in /usr/local/lib/python3.11/dist-packages (from aiohttp<4.0.0,>=3.8.3->langchain) (6.1.0)\n",
            "Requirement already satisfied: propcache>=0.2.0 in /usr/local/lib/python3.11/dist-packages (from aiohttp<4.0.0,>=3.8.3->langchain) (0.2.1)\n",
            "Requirement already satisfied: yarl<2.0,>=1.17.0 in /usr/local/lib/python3.11/dist-packages (from aiohttp<4.0.0,>=3.8.3->langchain) (1.18.3)\n",
            "Requirement already satisfied: jsonpatch<2.0,>=1.33 in /usr/local/lib/python3.11/dist-packages (from langchain-core<0.4.0,>=0.3.32->langchain) (1.33)\n",
            "Requirement already satisfied: packaging<25,>=23.2 in /usr/local/lib/python3.11/dist-packages (from langchain-core<0.4.0,>=0.3.32->langchain) (24.2)\n",
            "Requirement already satisfied: typing-extensions>=4.7 in /usr/local/lib/python3.11/dist-packages (from langchain-core<0.4.0,>=0.3.32->langchain) (4.12.2)\n",
            "Requirement already satisfied: httpx<1,>=0.23.0 in /usr/local/lib/python3.11/dist-packages (from langsmith<0.4,>=0.1.17->langchain) (0.28.1)\n",
            "Requirement already satisfied: orjson<4.0.0,>=3.9.14 in /usr/local/lib/python3.11/dist-packages (from langsmith<0.4,>=0.1.17->langchain) (3.10.15)\n",
            "Requirement already satisfied: requests-toolbelt<2.0.0,>=1.0.0 in /usr/local/lib/python3.11/dist-packages (from langsmith<0.4,>=0.1.17->langchain) (1.0.0)\n",
            "Requirement already satisfied: zstandard<0.24.0,>=0.23.0 in /usr/local/lib/python3.11/dist-packages (from langsmith<0.4,>=0.1.17->langchain) (0.23.0)\n",
            "Requirement already satisfied: annotated-types>=0.6.0 in /usr/local/lib/python3.11/dist-packages (from pydantic<3.0.0,>=2.7.4->langchain) (0.7.0)\n",
            "Requirement already satisfied: pydantic-core==2.27.2 in /usr/local/lib/python3.11/dist-packages (from pydantic<3.0.0,>=2.7.4->langchain) (2.27.2)\n",
            "Requirement already satisfied: charset-normalizer<4,>=2 in /usr/local/lib/python3.11/dist-packages (from requests<3,>=2->langchain) (3.4.1)\n",
            "Requirement already satisfied: idna<4,>=2.5 in /usr/local/lib/python3.11/dist-packages (from requests<3,>=2->langchain) (3.10)\n",
            "Requirement already satisfied: urllib3<3,>=1.21.1 in /usr/local/lib/python3.11/dist-packages (from requests<3,>=2->langchain) (2.3.0)\n",
            "Requirement already satisfied: certifi>=2017.4.17 in /usr/local/lib/python3.11/dist-packages (from requests<3,>=2->langchain) (2024.12.14)\n",
            "Requirement already satisfied: greenlet!=0.4.17 in /usr/local/lib/python3.11/dist-packages (from SQLAlchemy<3,>=1.4->langchain) (3.1.1)\n",
            "Requirement already satisfied: anyio in /usr/local/lib/python3.11/dist-packages (from httpx<1,>=0.23.0->langsmith<0.4,>=0.1.17->langchain) (3.7.1)\n",
            "Requirement already satisfied: httpcore==1.* in /usr/local/lib/python3.11/dist-packages (from httpx<1,>=0.23.0->langsmith<0.4,>=0.1.17->langchain) (1.0.7)\n",
            "Requirement already satisfied: h11<0.15,>=0.13 in /usr/local/lib/python3.11/dist-packages (from httpcore==1.*->httpx<1,>=0.23.0->langsmith<0.4,>=0.1.17->langchain) (0.14.0)\n",
            "Requirement already satisfied: jsonpointer>=1.9 in /usr/local/lib/python3.11/dist-packages (from jsonpatch<2.0,>=1.33->langchain-core<0.4.0,>=0.3.32->langchain) (3.0.0)\n",
            "Requirement already satisfied: sniffio>=1.1 in /usr/local/lib/python3.11/dist-packages (from anyio->httpx<1,>=0.23.0->langsmith<0.4,>=0.1.17->langchain) (1.3.1)\n",
            "Requirement already satisfied: langchain-community in /usr/local/lib/python3.11/dist-packages (0.3.16)\n",
            "Requirement already satisfied: PyYAML>=5.3 in /usr/local/lib/python3.11/dist-packages (from langchain-community) (6.0.2)\n",
            "Requirement already satisfied: SQLAlchemy<3,>=1.4 in /usr/local/lib/python3.11/dist-packages (from langchain-community) (2.0.37)\n",
            "Requirement already satisfied: aiohttp<4.0.0,>=3.8.3 in /usr/local/lib/python3.11/dist-packages (from langchain-community) (3.11.11)\n",
            "Requirement already satisfied: dataclasses-json<0.7,>=0.5.7 in /usr/local/lib/python3.11/dist-packages (from langchain-community) (0.6.7)\n",
            "Requirement already satisfied: httpx-sse<0.5.0,>=0.4.0 in /usr/local/lib/python3.11/dist-packages (from langchain-community) (0.4.0)\n",
            "Requirement already satisfied: langchain<0.4.0,>=0.3.16 in /usr/local/lib/python3.11/dist-packages (from langchain-community) (0.3.16)\n",
            "Requirement already satisfied: langchain-core<0.4.0,>=0.3.32 in /usr/local/lib/python3.11/dist-packages (from langchain-community) (0.3.33)\n",
            "Requirement already satisfied: langsmith<0.4,>=0.1.125 in /usr/local/lib/python3.11/dist-packages (from langchain-community) (0.3.2)\n",
            "Requirement already satisfied: numpy<2,>=1.22.4 in /usr/local/lib/python3.11/dist-packages (from langchain-community) (1.26.4)\n",
            "Requirement already satisfied: pydantic-settings<3.0.0,>=2.4.0 in /usr/local/lib/python3.11/dist-packages (from langchain-community) (2.7.1)\n",
            "Requirement already satisfied: requests<3,>=2 in /usr/local/lib/python3.11/dist-packages (from langchain-community) (2.32.3)\n",
            "Requirement already satisfied: tenacity!=8.4.0,<10,>=8.1.0 in /usr/local/lib/python3.11/dist-packages (from langchain-community) (9.0.0)\n",
            "Requirement already satisfied: aiohappyeyeballs>=2.3.0 in /usr/local/lib/python3.11/dist-packages (from aiohttp<4.0.0,>=3.8.3->langchain-community) (2.4.4)\n",
            "Requirement already satisfied: aiosignal>=1.1.2 in /usr/local/lib/python3.11/dist-packages (from aiohttp<4.0.0,>=3.8.3->langchain-community) (1.3.2)\n",
            "Requirement already satisfied: attrs>=17.3.0 in /usr/local/lib/python3.11/dist-packages (from aiohttp<4.0.0,>=3.8.3->langchain-community) (25.1.0)\n",
            "Requirement already satisfied: frozenlist>=1.1.1 in /usr/local/lib/python3.11/dist-packages (from aiohttp<4.0.0,>=3.8.3->langchain-community) (1.5.0)\n",
            "Requirement already satisfied: multidict<7.0,>=4.5 in /usr/local/lib/python3.11/dist-packages (from aiohttp<4.0.0,>=3.8.3->langchain-community) (6.1.0)\n",
            "Requirement already satisfied: propcache>=0.2.0 in /usr/local/lib/python3.11/dist-packages (from aiohttp<4.0.0,>=3.8.3->langchain-community) (0.2.1)\n",
            "Requirement already satisfied: yarl<2.0,>=1.17.0 in /usr/local/lib/python3.11/dist-packages (from aiohttp<4.0.0,>=3.8.3->langchain-community) (1.18.3)\n",
            "Requirement already satisfied: marshmallow<4.0.0,>=3.18.0 in /usr/local/lib/python3.11/dist-packages (from dataclasses-json<0.7,>=0.5.7->langchain-community) (3.26.1)\n",
            "Requirement already satisfied: typing-inspect<1,>=0.4.0 in /usr/local/lib/python3.11/dist-packages (from dataclasses-json<0.7,>=0.5.7->langchain-community) (0.9.0)\n",
            "Requirement already satisfied: langchain-text-splitters<0.4.0,>=0.3.3 in /usr/local/lib/python3.11/dist-packages (from langchain<0.4.0,>=0.3.16->langchain-community) (0.3.5)\n",
            "Requirement already satisfied: pydantic<3.0.0,>=2.7.4 in /usr/local/lib/python3.11/dist-packages (from langchain<0.4.0,>=0.3.16->langchain-community) (2.10.6)\n",
            "Requirement already satisfied: jsonpatch<2.0,>=1.33 in /usr/local/lib/python3.11/dist-packages (from langchain-core<0.4.0,>=0.3.32->langchain-community) (1.33)\n",
            "Requirement already satisfied: packaging<25,>=23.2 in /usr/local/lib/python3.11/dist-packages (from langchain-core<0.4.0,>=0.3.32->langchain-community) (24.2)\n",
            "Requirement already satisfied: typing-extensions>=4.7 in /usr/local/lib/python3.11/dist-packages (from langchain-core<0.4.0,>=0.3.32->langchain-community) (4.12.2)\n",
            "Requirement already satisfied: httpx<1,>=0.23.0 in /usr/local/lib/python3.11/dist-packages (from langsmith<0.4,>=0.1.125->langchain-community) (0.28.1)\n",
            "Requirement already satisfied: orjson<4.0.0,>=3.9.14 in /usr/local/lib/python3.11/dist-packages (from langsmith<0.4,>=0.1.125->langchain-community) (3.10.15)\n",
            "Requirement already satisfied: requests-toolbelt<2.0.0,>=1.0.0 in /usr/local/lib/python3.11/dist-packages (from langsmith<0.4,>=0.1.125->langchain-community) (1.0.0)\n",
            "Requirement already satisfied: zstandard<0.24.0,>=0.23.0 in /usr/local/lib/python3.11/dist-packages (from langsmith<0.4,>=0.1.125->langchain-community) (0.23.0)\n",
            "Requirement already satisfied: python-dotenv>=0.21.0 in /usr/local/lib/python3.11/dist-packages (from pydantic-settings<3.0.0,>=2.4.0->langchain-community) (1.0.1)\n",
            "Requirement already satisfied: charset-normalizer<4,>=2 in /usr/local/lib/python3.11/dist-packages (from requests<3,>=2->langchain-community) (3.4.1)\n",
            "Requirement already satisfied: idna<4,>=2.5 in /usr/local/lib/python3.11/dist-packages (from requests<3,>=2->langchain-community) (3.10)\n",
            "Requirement already satisfied: urllib3<3,>=1.21.1 in /usr/local/lib/python3.11/dist-packages (from requests<3,>=2->langchain-community) (2.3.0)\n",
            "Requirement already satisfied: certifi>=2017.4.17 in /usr/local/lib/python3.11/dist-packages (from requests<3,>=2->langchain-community) (2024.12.14)\n",
            "Requirement already satisfied: greenlet!=0.4.17 in /usr/local/lib/python3.11/dist-packages (from SQLAlchemy<3,>=1.4->langchain-community) (3.1.1)\n",
            "Requirement already satisfied: anyio in /usr/local/lib/python3.11/dist-packages (from httpx<1,>=0.23.0->langsmith<0.4,>=0.1.125->langchain-community) (3.7.1)\n",
            "Requirement already satisfied: httpcore==1.* in /usr/local/lib/python3.11/dist-packages (from httpx<1,>=0.23.0->langsmith<0.4,>=0.1.125->langchain-community) (1.0.7)\n",
            "Requirement already satisfied: h11<0.15,>=0.13 in /usr/local/lib/python3.11/dist-packages (from httpcore==1.*->httpx<1,>=0.23.0->langsmith<0.4,>=0.1.125->langchain-community) (0.14.0)\n",
            "Requirement already satisfied: jsonpointer>=1.9 in /usr/local/lib/python3.11/dist-packages (from jsonpatch<2.0,>=1.33->langchain-core<0.4.0,>=0.3.32->langchain-community) (3.0.0)\n",
            "Requirement already satisfied: annotated-types>=0.6.0 in /usr/local/lib/python3.11/dist-packages (from pydantic<3.0.0,>=2.7.4->langchain<0.4.0,>=0.3.16->langchain-community) (0.7.0)\n",
            "Requirement already satisfied: pydantic-core==2.27.2 in /usr/local/lib/python3.11/dist-packages (from pydantic<3.0.0,>=2.7.4->langchain<0.4.0,>=0.3.16->langchain-community) (2.27.2)\n",
            "Requirement already satisfied: mypy-extensions>=0.3.0 in /usr/local/lib/python3.11/dist-packages (from typing-inspect<1,>=0.4.0->dataclasses-json<0.7,>=0.5.7->langchain-community) (1.0.0)\n",
            "Requirement already satisfied: sniffio>=1.1 in /usr/local/lib/python3.11/dist-packages (from anyio->httpx<1,>=0.23.0->langsmith<0.4,>=0.1.125->langchain-community) (1.3.1)\n",
            "Requirement already satisfied: langchain-core in /usr/local/lib/python3.11/dist-packages (0.3.33)\n",
            "Requirement already satisfied: PyYAML>=5.3 in /usr/local/lib/python3.11/dist-packages (from langchain-core) (6.0.2)\n",
            "Requirement already satisfied: jsonpatch<2.0,>=1.33 in /usr/local/lib/python3.11/dist-packages (from langchain-core) (1.33)\n",
            "Requirement already satisfied: langsmith<0.4,>=0.1.125 in /usr/local/lib/python3.11/dist-packages (from langchain-core) (0.3.2)\n",
            "Requirement already satisfied: packaging<25,>=23.2 in /usr/local/lib/python3.11/dist-packages (from langchain-core) (24.2)\n",
            "Requirement already satisfied: pydantic<3.0.0,>=2.5.2 in /usr/local/lib/python3.11/dist-packages (from langchain-core) (2.10.6)\n",
            "Requirement already satisfied: tenacity!=8.4.0,<10.0.0,>=8.1.0 in /usr/local/lib/python3.11/dist-packages (from langchain-core) (9.0.0)\n",
            "Requirement already satisfied: typing-extensions>=4.7 in /usr/local/lib/python3.11/dist-packages (from langchain-core) (4.12.2)\n",
            "Requirement already satisfied: jsonpointer>=1.9 in /usr/local/lib/python3.11/dist-packages (from jsonpatch<2.0,>=1.33->langchain-core) (3.0.0)\n",
            "Requirement already satisfied: httpx<1,>=0.23.0 in /usr/local/lib/python3.11/dist-packages (from langsmith<0.4,>=0.1.125->langchain-core) (0.28.1)\n",
            "Requirement already satisfied: orjson<4.0.0,>=3.9.14 in /usr/local/lib/python3.11/dist-packages (from langsmith<0.4,>=0.1.125->langchain-core) (3.10.15)\n",
            "Requirement already satisfied: requests<3,>=2 in /usr/local/lib/python3.11/dist-packages (from langsmith<0.4,>=0.1.125->langchain-core) (2.32.3)\n",
            "Requirement already satisfied: requests-toolbelt<2.0.0,>=1.0.0 in /usr/local/lib/python3.11/dist-packages (from langsmith<0.4,>=0.1.125->langchain-core) (1.0.0)\n",
            "Requirement already satisfied: zstandard<0.24.0,>=0.23.0 in /usr/local/lib/python3.11/dist-packages (from langsmith<0.4,>=0.1.125->langchain-core) (0.23.0)\n",
            "Requirement already satisfied: annotated-types>=0.6.0 in /usr/local/lib/python3.11/dist-packages (from pydantic<3.0.0,>=2.5.2->langchain-core) (0.7.0)\n",
            "Requirement already satisfied: pydantic-core==2.27.2 in /usr/local/lib/python3.11/dist-packages (from pydantic<3.0.0,>=2.5.2->langchain-core) (2.27.2)\n",
            "Requirement already satisfied: anyio in /usr/local/lib/python3.11/dist-packages (from httpx<1,>=0.23.0->langsmith<0.4,>=0.1.125->langchain-core) (3.7.1)\n",
            "Requirement already satisfied: certifi in /usr/local/lib/python3.11/dist-packages (from httpx<1,>=0.23.0->langsmith<0.4,>=0.1.125->langchain-core) (2024.12.14)\n",
            "Requirement already satisfied: httpcore==1.* in /usr/local/lib/python3.11/dist-packages (from httpx<1,>=0.23.0->langsmith<0.4,>=0.1.125->langchain-core) (1.0.7)\n",
            "Requirement already satisfied: idna in /usr/local/lib/python3.11/dist-packages (from httpx<1,>=0.23.0->langsmith<0.4,>=0.1.125->langchain-core) (3.10)\n",
            "Requirement already satisfied: h11<0.15,>=0.13 in /usr/local/lib/python3.11/dist-packages (from httpcore==1.*->httpx<1,>=0.23.0->langsmith<0.4,>=0.1.125->langchain-core) (0.14.0)\n",
            "Requirement already satisfied: charset-normalizer<4,>=2 in /usr/local/lib/python3.11/dist-packages (from requests<3,>=2->langsmith<0.4,>=0.1.125->langchain-core) (3.4.1)\n",
            "Requirement already satisfied: urllib3<3,>=1.21.1 in /usr/local/lib/python3.11/dist-packages (from requests<3,>=2->langsmith<0.4,>=0.1.125->langchain-core) (2.3.0)\n",
            "Requirement already satisfied: sniffio>=1.1 in /usr/local/lib/python3.11/dist-packages (from anyio->httpx<1,>=0.23.0->langsmith<0.4,>=0.1.125->langchain-core) (1.3.1)\n"
          ]
        }
      ],
      "source": [
        "%pip install python-dotenv\n",
        "%pip install langchain\n",
        "%pip install langchain-community\n",
        "%pip install langchain-core"
      ]
    },
    {
      "cell_type": "code",
      "execution_count": 37,
      "metadata": {
        "colab": {
          "base_uri": "https://localhost:8080/"
        },
        "id": "q0s9yTrMdRtM",
        "outputId": "551a4d6f-85e0-41a8-b3bd-4671ba58bd13"
      },
      "outputs": [
        {
          "name": "stdout",
          "output_type": "stream",
          "text": [
            "Collecting langgraph\n",
            "  Downloading langgraph-0.2.69-py3-none-any.whl.metadata (17 kB)\n",
            "Requirement already satisfied: langchain-core!=0.3.0,!=0.3.1,!=0.3.10,!=0.3.11,!=0.3.12,!=0.3.13,!=0.3.14,!=0.3.15,!=0.3.16,!=0.3.17,!=0.3.18,!=0.3.19,!=0.3.2,!=0.3.20,!=0.3.21,!=0.3.22,!=0.3.3,!=0.3.4,!=0.3.5,!=0.3.6,!=0.3.7,!=0.3.8,!=0.3.9,<0.4.0,>=0.2.43 in /usr/local/lib/python3.11/dist-packages (from langgraph) (0.3.33)\n",
            "Collecting langgraph-checkpoint<3.0.0,>=2.0.10 (from langgraph)\n",
            "  Downloading langgraph_checkpoint-2.0.10-py3-none-any.whl.metadata (4.6 kB)\n",
            "Collecting langgraph-sdk<0.2.0,>=0.1.42 (from langgraph)\n",
            "  Downloading langgraph_sdk-0.1.51-py3-none-any.whl.metadata (1.8 kB)\n",
            "Requirement already satisfied: PyYAML>=5.3 in /usr/local/lib/python3.11/dist-packages (from langchain-core!=0.3.0,!=0.3.1,!=0.3.10,!=0.3.11,!=0.3.12,!=0.3.13,!=0.3.14,!=0.3.15,!=0.3.16,!=0.3.17,!=0.3.18,!=0.3.19,!=0.3.2,!=0.3.20,!=0.3.21,!=0.3.22,!=0.3.3,!=0.3.4,!=0.3.5,!=0.3.6,!=0.3.7,!=0.3.8,!=0.3.9,<0.4.0,>=0.2.43->langgraph) (6.0.2)\n",
            "Requirement already satisfied: jsonpatch<2.0,>=1.33 in /usr/local/lib/python3.11/dist-packages (from langchain-core!=0.3.0,!=0.3.1,!=0.3.10,!=0.3.11,!=0.3.12,!=0.3.13,!=0.3.14,!=0.3.15,!=0.3.16,!=0.3.17,!=0.3.18,!=0.3.19,!=0.3.2,!=0.3.20,!=0.3.21,!=0.3.22,!=0.3.3,!=0.3.4,!=0.3.5,!=0.3.6,!=0.3.7,!=0.3.8,!=0.3.9,<0.4.0,>=0.2.43->langgraph) (1.33)\n",
            "Requirement already satisfied: langsmith<0.4,>=0.1.125 in /usr/local/lib/python3.11/dist-packages (from langchain-core!=0.3.0,!=0.3.1,!=0.3.10,!=0.3.11,!=0.3.12,!=0.3.13,!=0.3.14,!=0.3.15,!=0.3.16,!=0.3.17,!=0.3.18,!=0.3.19,!=0.3.2,!=0.3.20,!=0.3.21,!=0.3.22,!=0.3.3,!=0.3.4,!=0.3.5,!=0.3.6,!=0.3.7,!=0.3.8,!=0.3.9,<0.4.0,>=0.2.43->langgraph) (0.3.2)\n",
            "Requirement already satisfied: packaging<25,>=23.2 in /usr/local/lib/python3.11/dist-packages (from langchain-core!=0.3.0,!=0.3.1,!=0.3.10,!=0.3.11,!=0.3.12,!=0.3.13,!=0.3.14,!=0.3.15,!=0.3.16,!=0.3.17,!=0.3.18,!=0.3.19,!=0.3.2,!=0.3.20,!=0.3.21,!=0.3.22,!=0.3.3,!=0.3.4,!=0.3.5,!=0.3.6,!=0.3.7,!=0.3.8,!=0.3.9,<0.4.0,>=0.2.43->langgraph) (24.2)\n",
            "Requirement already satisfied: pydantic<3.0.0,>=2.5.2 in /usr/local/lib/python3.11/dist-packages (from langchain-core!=0.3.0,!=0.3.1,!=0.3.10,!=0.3.11,!=0.3.12,!=0.3.13,!=0.3.14,!=0.3.15,!=0.3.16,!=0.3.17,!=0.3.18,!=0.3.19,!=0.3.2,!=0.3.20,!=0.3.21,!=0.3.22,!=0.3.3,!=0.3.4,!=0.3.5,!=0.3.6,!=0.3.7,!=0.3.8,!=0.3.9,<0.4.0,>=0.2.43->langgraph) (2.10.6)\n",
            "Requirement already satisfied: tenacity!=8.4.0,<10.0.0,>=8.1.0 in /usr/local/lib/python3.11/dist-packages (from langchain-core!=0.3.0,!=0.3.1,!=0.3.10,!=0.3.11,!=0.3.12,!=0.3.13,!=0.3.14,!=0.3.15,!=0.3.16,!=0.3.17,!=0.3.18,!=0.3.19,!=0.3.2,!=0.3.20,!=0.3.21,!=0.3.22,!=0.3.3,!=0.3.4,!=0.3.5,!=0.3.6,!=0.3.7,!=0.3.8,!=0.3.9,<0.4.0,>=0.2.43->langgraph) (9.0.0)\n",
            "Requirement already satisfied: typing-extensions>=4.7 in /usr/local/lib/python3.11/dist-packages (from langchain-core!=0.3.0,!=0.3.1,!=0.3.10,!=0.3.11,!=0.3.12,!=0.3.13,!=0.3.14,!=0.3.15,!=0.3.16,!=0.3.17,!=0.3.18,!=0.3.19,!=0.3.2,!=0.3.20,!=0.3.21,!=0.3.22,!=0.3.3,!=0.3.4,!=0.3.5,!=0.3.6,!=0.3.7,!=0.3.8,!=0.3.9,<0.4.0,>=0.2.43->langgraph) (4.12.2)\n",
            "Requirement already satisfied: msgpack<2.0.0,>=1.1.0 in /usr/local/lib/python3.11/dist-packages (from langgraph-checkpoint<3.0.0,>=2.0.10->langgraph) (1.1.0)\n",
            "Requirement already satisfied: httpx>=0.25.2 in /usr/local/lib/python3.11/dist-packages (from langgraph-sdk<0.2.0,>=0.1.42->langgraph) (0.28.1)\n",
            "Requirement already satisfied: orjson>=3.10.1 in /usr/local/lib/python3.11/dist-packages (from langgraph-sdk<0.2.0,>=0.1.42->langgraph) (3.10.15)\n",
            "Requirement already satisfied: anyio in /usr/local/lib/python3.11/dist-packages (from httpx>=0.25.2->langgraph-sdk<0.2.0,>=0.1.42->langgraph) (3.7.1)\n",
            "Requirement already satisfied: certifi in /usr/local/lib/python3.11/dist-packages (from httpx>=0.25.2->langgraph-sdk<0.2.0,>=0.1.42->langgraph) (2024.12.14)\n",
            "Requirement already satisfied: httpcore==1.* in /usr/local/lib/python3.11/dist-packages (from httpx>=0.25.2->langgraph-sdk<0.2.0,>=0.1.42->langgraph) (1.0.7)\n",
            "Requirement already satisfied: idna in /usr/local/lib/python3.11/dist-packages (from httpx>=0.25.2->langgraph-sdk<0.2.0,>=0.1.42->langgraph) (3.10)\n",
            "Requirement already satisfied: h11<0.15,>=0.13 in /usr/local/lib/python3.11/dist-packages (from httpcore==1.*->httpx>=0.25.2->langgraph-sdk<0.2.0,>=0.1.42->langgraph) (0.14.0)\n",
            "Requirement already satisfied: jsonpointer>=1.9 in /usr/local/lib/python3.11/dist-packages (from jsonpatch<2.0,>=1.33->langchain-core!=0.3.0,!=0.3.1,!=0.3.10,!=0.3.11,!=0.3.12,!=0.3.13,!=0.3.14,!=0.3.15,!=0.3.16,!=0.3.17,!=0.3.18,!=0.3.19,!=0.3.2,!=0.3.20,!=0.3.21,!=0.3.22,!=0.3.3,!=0.3.4,!=0.3.5,!=0.3.6,!=0.3.7,!=0.3.8,!=0.3.9,<0.4.0,>=0.2.43->langgraph) (3.0.0)\n",
            "Requirement already satisfied: requests<3,>=2 in /usr/local/lib/python3.11/dist-packages (from langsmith<0.4,>=0.1.125->langchain-core!=0.3.0,!=0.3.1,!=0.3.10,!=0.3.11,!=0.3.12,!=0.3.13,!=0.3.14,!=0.3.15,!=0.3.16,!=0.3.17,!=0.3.18,!=0.3.19,!=0.3.2,!=0.3.20,!=0.3.21,!=0.3.22,!=0.3.3,!=0.3.4,!=0.3.5,!=0.3.6,!=0.3.7,!=0.3.8,!=0.3.9,<0.4.0,>=0.2.43->langgraph) (2.32.3)\n",
            "Requirement already satisfied: requests-toolbelt<2.0.0,>=1.0.0 in /usr/local/lib/python3.11/dist-packages (from langsmith<0.4,>=0.1.125->langchain-core!=0.3.0,!=0.3.1,!=0.3.10,!=0.3.11,!=0.3.12,!=0.3.13,!=0.3.14,!=0.3.15,!=0.3.16,!=0.3.17,!=0.3.18,!=0.3.19,!=0.3.2,!=0.3.20,!=0.3.21,!=0.3.22,!=0.3.3,!=0.3.4,!=0.3.5,!=0.3.6,!=0.3.7,!=0.3.8,!=0.3.9,<0.4.0,>=0.2.43->langgraph) (1.0.0)\n",
            "Requirement already satisfied: zstandard<0.24.0,>=0.23.0 in /usr/local/lib/python3.11/dist-packages (from langsmith<0.4,>=0.1.125->langchain-core!=0.3.0,!=0.3.1,!=0.3.10,!=0.3.11,!=0.3.12,!=0.3.13,!=0.3.14,!=0.3.15,!=0.3.16,!=0.3.17,!=0.3.18,!=0.3.19,!=0.3.2,!=0.3.20,!=0.3.21,!=0.3.22,!=0.3.3,!=0.3.4,!=0.3.5,!=0.3.6,!=0.3.7,!=0.3.8,!=0.3.9,<0.4.0,>=0.2.43->langgraph) (0.23.0)\n",
            "Requirement already satisfied: annotated-types>=0.6.0 in /usr/local/lib/python3.11/dist-packages (from pydantic<3.0.0,>=2.5.2->langchain-core!=0.3.0,!=0.3.1,!=0.3.10,!=0.3.11,!=0.3.12,!=0.3.13,!=0.3.14,!=0.3.15,!=0.3.16,!=0.3.17,!=0.3.18,!=0.3.19,!=0.3.2,!=0.3.20,!=0.3.21,!=0.3.22,!=0.3.3,!=0.3.4,!=0.3.5,!=0.3.6,!=0.3.7,!=0.3.8,!=0.3.9,<0.4.0,>=0.2.43->langgraph) (0.7.0)\n",
            "Requirement already satisfied: pydantic-core==2.27.2 in /usr/local/lib/python3.11/dist-packages (from pydantic<3.0.0,>=2.5.2->langchain-core!=0.3.0,!=0.3.1,!=0.3.10,!=0.3.11,!=0.3.12,!=0.3.13,!=0.3.14,!=0.3.15,!=0.3.16,!=0.3.17,!=0.3.18,!=0.3.19,!=0.3.2,!=0.3.20,!=0.3.21,!=0.3.22,!=0.3.3,!=0.3.4,!=0.3.5,!=0.3.6,!=0.3.7,!=0.3.8,!=0.3.9,<0.4.0,>=0.2.43->langgraph) (2.27.2)\n",
            "Requirement already satisfied: charset-normalizer<4,>=2 in /usr/local/lib/python3.11/dist-packages (from requests<3,>=2->langsmith<0.4,>=0.1.125->langchain-core!=0.3.0,!=0.3.1,!=0.3.10,!=0.3.11,!=0.3.12,!=0.3.13,!=0.3.14,!=0.3.15,!=0.3.16,!=0.3.17,!=0.3.18,!=0.3.19,!=0.3.2,!=0.3.20,!=0.3.21,!=0.3.22,!=0.3.3,!=0.3.4,!=0.3.5,!=0.3.6,!=0.3.7,!=0.3.8,!=0.3.9,<0.4.0,>=0.2.43->langgraph) (3.4.1)\n",
            "Requirement already satisfied: urllib3<3,>=1.21.1 in /usr/local/lib/python3.11/dist-packages (from requests<3,>=2->langsmith<0.4,>=0.1.125->langchain-core!=0.3.0,!=0.3.1,!=0.3.10,!=0.3.11,!=0.3.12,!=0.3.13,!=0.3.14,!=0.3.15,!=0.3.16,!=0.3.17,!=0.3.18,!=0.3.19,!=0.3.2,!=0.3.20,!=0.3.21,!=0.3.22,!=0.3.3,!=0.3.4,!=0.3.5,!=0.3.6,!=0.3.7,!=0.3.8,!=0.3.9,<0.4.0,>=0.2.43->langgraph) (2.3.0)\n",
            "Requirement already satisfied: sniffio>=1.1 in /usr/local/lib/python3.11/dist-packages (from anyio->httpx>=0.25.2->langgraph-sdk<0.2.0,>=0.1.42->langgraph) (1.3.1)\n",
            "Downloading langgraph-0.2.69-py3-none-any.whl (148 kB)\n",
            "\u001b[2K   \u001b[90m━━━━━━━━━━━━━━━━━━━━━━━━━━━━━━━━━━━━━━━━\u001b[0m \u001b[32m148.7/148.7 kB\u001b[0m \u001b[31m7.3 MB/s\u001b[0m eta \u001b[36m0:00:00\u001b[0m\n",
            "\u001b[?25hDownloading langgraph_checkpoint-2.0.10-py3-none-any.whl (37 kB)\n",
            "Downloading langgraph_sdk-0.1.51-py3-none-any.whl (44 kB)\n",
            "\u001b[2K   \u001b[90m━━━━━━━━━━━━━━━━━━━━━━━━━━━━━━━━━━━━━━━━\u001b[0m \u001b[32m44.7/44.7 kB\u001b[0m \u001b[31m4.0 MB/s\u001b[0m eta \u001b[36m0:00:00\u001b[0m\n",
            "\u001b[?25hInstalling collected packages: langgraph-sdk, langgraph-checkpoint, langgraph\n",
            "Successfully installed langgraph-0.2.69 langgraph-checkpoint-2.0.10 langgraph-sdk-0.1.51\n"
          ]
        }
      ],
      "source": [
        "%pip install -qU langchain-groq\n",
        "%pip install -qU langchain_mistralai\n",
        "%pip install -qU langchain-google-genai pillow\n",
        "%pip install -U langgraph"
      ]
    },
    {
      "cell_type": "code",
      "execution_count": 38,
      "metadata": {
        "id": "uI1Y6cEbdUjM"
      },
      "outputs": [],
      "source": [
        "from google.colab import userdata\n",
        "import getpass\n",
        "import os\n",
        "import re\n",
        "import httpx\n",
        "# Groq API Key\n",
        "if \"GROQ_API_KEY\" not in os.environ:\n",
        "    try:\n",
        "        os.environ[\"GROQ_API_KEY\"] = userdata.get('GROQ_API_KEY')\n",
        "    except Exception as e:\n",
        "        os.environ[\"GROQ_API_KEY\"] = getpass.getpass(\"Enter your Groq API key: \")"
      ]
    },
    {
      "cell_type": "code",
      "execution_count": 39,
      "metadata": {
        "id": "hiXv1RLfdhM2"
      },
      "outputs": [],
      "source": [
        "%pip install -qU rich"
      ]
    },
    {
      "cell_type": "code",
      "execution_count": 40,
      "metadata": {
        "id": "_AnuEQQNdoNr"
      },
      "outputs": [],
      "source": [
        "from rich.console import Console\n",
        "from rich.panel import Panel\n",
        "from rich.text import Text\n",
        "from rich.syntax import Syntax\n",
        "from rich.table import Table\n",
        "from typing import Any\n",
        "\n",
        "console = Console()\n",
        "def print_model_response(input_text: str, model_response: Any, model_name: str = \"assistant\") -> None:\n",
        "\n",
        "    # Input Panel\n",
        "    input_panel = Panel(\n",
        "        Text(input_text, style=\"blue\"), title=\"📝 Input Text\", border_style=\"blue\"\n",
        "    )\n",
        "\n",
        "    # Response Panel\n",
        "    if isinstance(model_response, dict):\n",
        "        table = Table(show_header=True, header_style=\"bold magenta\")\n",
        "        table.add_column(\"Key\", style=\"cyan\")\n",
        "        table.add_column(\"Value\", style=\"yellow\")\n",
        "\n",
        "        for key, value in model_response.items():\n",
        "            table.add_row(str(key), str(value))\n",
        "\n",
        "        response_content = table\n",
        "    else:\n",
        "        response_content = Text(str(model_response), style=\"yellow\")\n",
        "\n",
        "    response_panel = Panel(\n",
        "        response_content, title=model_name+\"🤖 Response\", border_style=\"magenta\"\n",
        "    )\n",
        "\n",
        "    console.print(\"\\n\" + \"=\" * 80 + \"\\n\")\n",
        "    console.print(input_panel)\n",
        "    console.print(response_panel)\n",
        "    console.print(\"\\n\" + \"=\" * 80 + \"\\n\")\n"
      ]
    },
    {
      "cell_type": "code",
      "execution_count": 41,
      "metadata": {
        "id": "9DfWJK-bdx5G"
      },
      "outputs": [],
      "source": [
        "# Initialize LLM\n",
        "llm = ChatGroq(model=\"llama-3.1-8b-instant\", temperature=0)"
      ]
    },
    {
      "cell_type": "code",
      "execution_count": 42,
      "metadata": {
        "id": "5NUo31ZSd4Pe"
      },
      "outputs": [],
      "source": [
        "from typing import Literal\n",
        "from langchain_core.tools import tool\n",
        "\n",
        "# Tool to fetch weather data for specific cities\n",
        "@tool\n",
        "def fetch_weather(city: Literal[\"Cagliari\", \"Rome\"]) -> dict:\n",
        "    \"\"\"\n",
        "    Retrieve the current weather conditions for the specified city.\n",
        "    Only supports 'Cagliari' and 'Rome'.\n",
        "    \"\"\"\n",
        "    if city == \"Cagliari\":\n",
        "        return {\"result\": \"The weather in Cagliari is sunny with a light breeze.\"}\n",
        "    elif city == \"Rome\":\n",
        "        return {\"result\": \"It's currently warm and clear in Rome.\"}\n",
        "    else:\n",
        "        raise ValueError(\"City not supported. Please choose 'Cagliari' or 'Rome'.\")"
      ]
    },
    {
      "cell_type": "code",
      "execution_count": 43,
      "metadata": {
        "id": "rj0WTJc8iRjl"
      },
      "outputs": [],
      "source": [
        "# List of tools available for the agent\n",
        "weather_tools = [fetch_weather]\n",
        "\n",
        "# Create a reactive agent using the tools\n",
        "from langgraph.prebuilt import create_react_agent\n",
        "\n",
        "def setup_agent(llm, tools):\n",
        "    \"\"\"\n",
        "    Initialize and return a reactive agent with the provided tools.\n",
        "    \"\"\"\n",
        "    return create_react_agent(llm, tools=tools)"
      ]
    },
    {
      "cell_type": "code",
      "execution_count": 44,
      "metadata": {
        "id": "ziNwPjoUjRMl"
      },
      "outputs": [],
      "source": [
        "# Visualize the agent's workflow\n",
        "from IPython.display import Image, display\n",
        "\n",
        "def visualize_workflow(agent):\n",
        "    \"\"\"\n",
        "    Display the agent's workflow as a Mermaid diagram.\n",
        "    \"\"\"\n",
        "    display(Image(agent.get_graph().draw_mermaid_png()))\n",
        "\n",
        "# Function to process and print the agent's output stream\n",
        "def display_output(stream):\n",
        "    \"\"\"\n",
        "    Print the messages from the agent's output stream in a readable format.\n",
        "    \"\"\"\n",
        "    for step in stream:\n",
        "        latest_message = step[\"messages\"][-1]\n",
        "        if isinstance(latest_message, tuple):\n",
        "            print(latest_message)\n",
        "        else:\n",
        "            latest_message.pretty_print()"
      ]
    },
    {
      "cell_type": "code",
      "execution_count": 45,
      "metadata": {
        "colab": {
          "base_uri": "https://localhost:8080/",
          "height": 834
        },
        "id": "8_HuDFZtjW01",
        "outputId": "c323cc4f-f5a4-4964-ab13-152dee7381de"
      },
      "outputs": [
        {
          "data": {
            "image/png": "[encoded data removed]",
            "text/plain": [
              "<IPython.core.display.Image object>"
            ]
          },
          "metadata": {},
          "output_type": "display_data"
        },
        {
          "name": "stdout",
          "output_type": "stream",
          "text": [
            "================================\u001b[1m Human Message \u001b[0m=================================\n",
            "\n",
            "What's the weather like in Sassari today?\n",
            "==================================\u001b[1m Ai Message \u001b[0m==================================\n",
            "Tool Calls:\n",
            "  fetch_weather (call_vp81)\n",
            " Call ID: call_vp81\n",
            "  Args:\n",
            "    city: Sassari\n",
            "=================================\u001b[1m Tool Message \u001b[0m=================================\n",
            "Name: fetch_weather\n",
            "\n",
            "Error: 1 validation error for fetch_weather\n",
            "city\n",
            "  Input should be 'Cagliari' or 'Rome' [type=literal_error, input_value='Sassari', input_type=str]\n",
            "    For further information visit https://errors.pydantic.dev/2.10/v/literal_error\n",
            " Please fix your mistakes.\n",
            "==================================\u001b[1m Ai Message \u001b[0m==================================\n",
            "Tool Calls:\n",
            "  fetch_weather (call_jry3)\n",
            " Call ID: call_jry3\n",
            "  Args:\n",
            "    city: Cagliari\n",
            "=================================\u001b[1m Tool Message \u001b[0m=================================\n",
            "Name: fetch_weather\n",
            "\n",
            "{\"result\": \"The weather in Cagliari is sunny with a light breeze.\"}\n",
            "==================================\u001b[1m Ai Message \u001b[0m==================================\n",
            "\n",
            "Since the function fetch_weather only supports 'Cagliari' and 'Rome', and you asked for the weather in Sassari, I provided the weather for Cagliari instead. If you want the weather in Rome, you can call the function with the city 'Rome'.\n"
          ]
        }
      ],
      "source": [
        "# Example input to query the weather in Cagliari\n",
        "user_input = {\"messages\": [(\"user\", \"What's the weather like in Sassari today?\")]}\n",
        "\n",
        "# Set up the agent and visualize its workflow\n",
        "weather_agent = setup_agent(llm, weather_tools)\n",
        "visualize_workflow(weather_agent)\n",
        "\n",
        "# Stream and display the agent's response\n",
        "display_output(weather_agent.stream(user_input, stream_mode=\"values\"))"
      ]
    },
    {
      "cell_type": "markdown",
      "metadata": {
        "id": "AA4LHAesnVBx"
      },
      "source": []
    },
    {
      "cell_type": "code",
      "execution_count": 46,
      "metadata": {
        "id": "xtcYoPOQnUv-"
      },
      "outputs": [],
      "source": [
        "class Agent:\n",
        "    def __init__(self, system=''):\n",
        "        self.system = system\n",
        "        self.messages = []\n",
        "\n",
        "        if self.system:\n",
        "            self.messages.append({'role': 'system', 'content': system})\n",
        "\n",
        "    def __call__(self, prompt):\n",
        "        self.messages.append({'role': 'user', 'content': prompt})\n",
        "        result = self.execute()\n",
        "\n",
        "        if hasattr(result, 'content'):\n",
        "            result_content = result.content\n",
        "        else:\n",
        "            result_content = result\n",
        "\n",
        "        self.messages.append({'role': 'assistant', 'content': result_content})\n",
        "        return result_content\n",
        "\n",
        "    def execute(self, model=\"llama3-70b-8192\", temperature=0):\n",
        "        groq_messages = [{'role': msg['role'], 'content': msg['content']} for msg in self.messages]\n",
        "\n",
        "        llm_Groq = ChatGroq(model=model, temperature=temperature)\n",
        "\n",
        "        resultGroq = llm_Groq.invoke(groq_messages)\n",
        "\n",
        "        return resultGroq"
      ]
    },
    {
      "cell_type": "code",
      "execution_count": 47,
      "metadata": {
        "id": "uhkvLp2NjZ00"
      },
      "outputs": [],
      "source": [
        "prompt = '''\n",
        "You run in a loop of Thought, Action, PAUSE, Observation.\n",
        "At the end of the loop you output an Answer\n",
        "Use Thought to describe your thoughts about the question you have been asked.\n",
        "Use Action to run one of the actions available to you - then return PAUSE.\n",
        "Observation will be the result of running those actions.\n",
        "\n",
        "Your available actions are:\n",
        "\n",
        "calculate:\n",
        "e.g. calculate: 4 * 7 / 3\n",
        "Runs a calculation and returns the number - uses Python so be sure to use floating point syntax if necessary\n",
        "\n",
        "get_cost:\n",
        "e.g. get_cost: book\n",
        "returns the cost of a book\n",
        "\n",
        "wikipedia:\n",
        "e.g. wikipedia: LangChain\n",
        "Returns a summary from searching Wikipedia\n",
        "\n",
        "Always look things up on Wikipedia if you have the opportunity to do so.\n",
        "\n",
        "Example session #1:\n",
        "\n",
        "Question: How much does a pen cost?\n",
        "Thought: I should look the pen cost using get_cost\n",
        "Action: get_cost: pen\n",
        "PAUSE\n",
        "\n",
        "You will be called again with this:\n",
        "\n",
        "Observation: A pen costs $5\n",
        "\n",
        "You then output:\n",
        "\n",
        "Answer: A pen costs $5\n",
        "\n",
        "\n",
        "Example session #2\n",
        "\n",
        "Question: What is the capital of France?\n",
        "Thought: I should look up France on Wikipedia\n",
        "Action: wikipedia: France\n",
        "PAUSE\n",
        "\n",
        "You will be called again with this:\n",
        "\n",
        "Observation: France is a country. The capital is Paris.\n",
        "\n",
        "You then output:\n",
        "\n",
        "Answer: The capital of France is Paris\n",
        "'''.strip()"
      ]
    },
    {
      "cell_type": "code",
      "execution_count": 48,
      "metadata": {
        "id": "gf59u4oOoJJH"
      },
      "outputs": [],
      "source": [
        "# 1. the calculate() function takes in a string, evaluates that string, and returns the result\n",
        "def calculate(what):\n",
        "    return eval(what)\n",
        "\n",
        "# 2. the get_cost() function returns the cost for a pen, a book, and a stapler\n",
        "def get_cost(thing):\n",
        "    if thing in 'pen':\n",
        "        return('A pen costs $5')\n",
        "    elif thing in 'book':\n",
        "        return('A book costs $20')\n",
        "    elif thing in 'stapler':\n",
        "        return('A stapler costs $10')\n",
        "    else:\n",
        "        return('A random thing for writing costs $12.')\n",
        "\n",
        "# 3. the wikipedia() function uses the Wikipedia API to search for a specific query on Wikipedia\n",
        "def wikipedia(q):\n",
        "    response = httpx.get('https://en.wikipedia.org/w/api.php', params={\n",
        "        'action': 'query',\n",
        "        'list': 'search',\n",
        "        'srsearch': q,\n",
        "        'format': 'json'\n",
        "    })\n",
        "    results = response.json().get('query').get('search', [])\n",
        "\n",
        "    if not results:\n",
        "        return None\n",
        "    return results[0]['snippet']"
      ]
    },
    {
      "cell_type": "code",
      "execution_count": 49,
      "metadata": {
        "colab": {
          "base_uri": "https://localhost:8080/",
          "height": 36
        },
        "id": "aEGGnRruoJp3",
        "outputId": "37eee7ed-aa32-4de4-dbb0-0c6092113d6a"
      },
      "outputs": [
        {
          "data": {
            "application/vnd.google.colaboratory.intrinsic+json": {
              "type": "string"
            },
            "text/plain": [
              "'feedforward neural network with backpropagation: const net = new brain.<span class=\"searchmatch\">NeuralNetwork</span>(); net.train([ { input: [0, 0], output: [0] }, { input: [0, 1], output:'"
            ]
          },
          "execution_count": 49,
          "metadata": {},
          "output_type": "execute_result"
        }
      ],
      "source": [
        "wikipedia('neuralnetwork')"
      ]
    },
    {
      "cell_type": "code",
      "execution_count": 50,
      "metadata": {
        "id": "12nDAX28oLWI"
      },
      "outputs": [],
      "source": [
        "# dictionary that maps the function names to the functions themselves\n",
        "known_actions = {\n",
        "    'calculate': calculate,\n",
        "    'get_cost': get_cost,\n",
        "    'wikipedia': wikipedia\n",
        "}"
      ]
    },
    {
      "cell_type": "code",
      "execution_count": 59,
      "metadata": {
        "colab": {
          "base_uri": "https://localhost:8080/",
          "height": 235
        },
        "id": "k97R-zaQoXpm",
        "outputId": "c6e27496-0f7a-4060-adbb-165e1d51153d"
      },
      "outputs": [
        {
          "data": {
            "text/html": [
              "<pre style=\"white-space:pre;overflow-x:auto;line-height:normal;font-family:Menlo,'DejaVu Sans Mono',consolas,'Courier New',monospace\">\n",
              "================================================================================\n",
              "\n",
              "</pre>\n"
            ],
            "text/plain": [
              "\n",
              "================================================================================\n",
              "\n"
            ]
          },
          "metadata": {},
          "output_type": "display_data"
        },
        {
          "data": {
            "text/html": [
              "<pre style=\"white-space:pre;overflow-x:auto;line-height:normal;font-family:Menlo,'DejaVu Sans Mono',consolas,'Courier New',monospace\"><span style=\"color: #000080; text-decoration-color: #000080\">╭───────────────────────────────────────────────── 📝 Input Text ─────────────────────────────────────────────────╮</span>\n",
              "<span style=\"color: #000080; text-decoration-color: #000080\">│</span> <span style=\"color: #000080; text-decoration-color: #000080\">How much does a book cost?</span>                                                                                      <span style=\"color: #000080; text-decoration-color: #000080\">│</span>\n",
              "<span style=\"color: #000080; text-decoration-color: #000080\">╰─────────────────────────────────────────────────────────────────────────────────────────────────────────────────╯</span>\n",
              "</pre>\n"
            ],
            "text/plain": [
              "\u001b[34m╭─\u001b[0m\u001b[34m────────────────────────────────────────────────\u001b[0m\u001b[34m 📝 Input Text \u001b[0m\u001b[34m────────────────────────────────────────────────\u001b[0m\u001b[34m─╮\u001b[0m\n",
              "\u001b[34m│\u001b[0m \u001b[34mHow much does a book cost?\u001b[0m                                                                                      \u001b[34m│\u001b[0m\n",
              "\u001b[34m╰─────────────────────────────────────────────────────────────────────────────────────────────────────────────────╯\u001b[0m\n"
            ]
          },
          "metadata": {},
          "output_type": "display_data"
        },
        {
          "data": {
            "text/html": [
              "<pre style=\"white-space:pre;overflow-x:auto;line-height:normal;font-family:Menlo,'DejaVu Sans Mono',consolas,'Courier New',monospace\"><span style=\"color: #800080; text-decoration-color: #800080\">╭───────────────────────────────────────────── assistant🤖 Response ──────────────────────────────────────────────╮</span>\n",
              "<span style=\"color: #800080; text-decoration-color: #800080\">│</span> <span style=\"color: #808000; text-decoration-color: #808000\">Thought: I should look up the cost of a book using get_cost.</span>                                                    <span style=\"color: #800080; text-decoration-color: #800080\">│</span>\n",
              "<span style=\"color: #800080; text-decoration-color: #800080\">│</span>                                                                                                                 <span style=\"color: #800080; text-decoration-color: #800080\">│</span>\n",
              "<span style=\"color: #800080; text-decoration-color: #800080\">│</span> <span style=\"color: #808000; text-decoration-color: #808000\">Action: get_cost: book</span>                                                                                          <span style=\"color: #800080; text-decoration-color: #800080\">│</span>\n",
              "<span style=\"color: #800080; text-decoration-color: #800080\">│</span> <span style=\"color: #808000; text-decoration-color: #808000\">PAUSE</span>                                                                                                           <span style=\"color: #800080; text-decoration-color: #800080\">│</span>\n",
              "<span style=\"color: #800080; text-decoration-color: #800080\">╰─────────────────────────────────────────────────────────────────────────────────────────────────────────────────╯</span>\n",
              "</pre>\n"
            ],
            "text/plain": [
              "\u001b[35m╭─\u001b[0m\u001b[35m────────────────────────────────────────────\u001b[0m\u001b[35m assistant🤖 Response \u001b[0m\u001b[35m─────────────────────────────────────────────\u001b[0m\u001b[35m─╮\u001b[0m\n",
              "\u001b[35m│\u001b[0m \u001b[33mThought: I should look up the cost of a book using get_cost.\u001b[0m                                                    \u001b[35m│\u001b[0m\n",
              "\u001b[35m│\u001b[0m                                                                                                                 \u001b[35m│\u001b[0m\n",
              "\u001b[35m│\u001b[0m \u001b[33mAction: get_cost: book\u001b[0m                                                                                          \u001b[35m│\u001b[0m\n",
              "\u001b[35m│\u001b[0m \u001b[33mPAUSE\u001b[0m                                                                                                           \u001b[35m│\u001b[0m\n",
              "\u001b[35m╰─────────────────────────────────────────────────────────────────────────────────────────────────────────────────╯\u001b[0m\n"
            ]
          },
          "metadata": {},
          "output_type": "display_data"
        },
        {
          "data": {
            "text/html": [
              "<pre style=\"white-space:pre;overflow-x:auto;line-height:normal;font-family:Menlo,'DejaVu Sans Mono',consolas,'Courier New',monospace\">\n",
              "================================================================================\n",
              "\n",
              "</pre>\n"
            ],
            "text/plain": [
              "\n",
              "================================================================================\n",
              "\n"
            ]
          },
          "metadata": {},
          "output_type": "display_data"
        }
      ],
      "source": [
        "agent = Agent(system=prompt)\n",
        "request = \"How much does a book cost?\"\n",
        "#request = '2024 United Kingdom elections'\n",
        "response = agent(request)\n",
        "print_model_response(request, response)"
      ]
    },
    {
      "cell_type": "code",
      "execution_count": 60,
      "metadata": {
        "id": "t_iYr41QuyE-"
      },
      "outputs": [],
      "source": [
        "# creating the next prompt that will be used as an observation and passed to the language model\n",
        "next_prompt = f\"Observation: {get_cost('book')}\""
      ]
    },
    {
      "cell_type": "code",
      "execution_count": 61,
      "metadata": {
        "colab": {
          "base_uri": "https://localhost:8080/",
          "height": 186
        },
        "id": "vks7BRI4uuG6",
        "outputId": "7e52f497-5701-4a53-a59f-8985b4d041cd"
      },
      "outputs": [
        {
          "data": {
            "text/html": [
              "<pre style=\"white-space:pre;overflow-x:auto;line-height:normal;font-family:Menlo,'DejaVu Sans Mono',consolas,'Courier New',monospace\">\n",
              "================================================================================\n",
              "\n",
              "</pre>\n"
            ],
            "text/plain": [
              "\n",
              "================================================================================\n",
              "\n"
            ]
          },
          "metadata": {},
          "output_type": "display_data"
        },
        {
          "data": {
            "text/html": [
              "<pre style=\"white-space:pre;overflow-x:auto;line-height:normal;font-family:Menlo,'DejaVu Sans Mono',consolas,'Courier New',monospace\"><span style=\"color: #000080; text-decoration-color: #000080\">╭───────────────────────────────────────────────── 📝 Input Text ─────────────────────────────────────────────────╮</span>\n",
              "<span style=\"color: #000080; text-decoration-color: #000080\">│</span> <span style=\"color: #000080; text-decoration-color: #000080\">Observation: A book costs $20</span>                                                                                   <span style=\"color: #000080; text-decoration-color: #000080\">│</span>\n",
              "<span style=\"color: #000080; text-decoration-color: #000080\">╰─────────────────────────────────────────────────────────────────────────────────────────────────────────────────╯</span>\n",
              "</pre>\n"
            ],
            "text/plain": [
              "\u001b[34m╭─\u001b[0m\u001b[34m────────────────────────────────────────────────\u001b[0m\u001b[34m 📝 Input Text \u001b[0m\u001b[34m────────────────────────────────────────────────\u001b[0m\u001b[34m─╮\u001b[0m\n",
              "\u001b[34m│\u001b[0m \u001b[34mObservation: A book costs $20\u001b[0m                                                                                   \u001b[34m│\u001b[0m\n",
              "\u001b[34m╰─────────────────────────────────────────────────────────────────────────────────────────────────────────────────╯\u001b[0m\n"
            ]
          },
          "metadata": {},
          "output_type": "display_data"
        },
        {
          "data": {
            "text/html": [
              "<pre style=\"white-space:pre;overflow-x:auto;line-height:normal;font-family:Menlo,'DejaVu Sans Mono',consolas,'Courier New',monospace\"><span style=\"color: #800080; text-decoration-color: #800080\">╭───────────────────────────────────────────── assistant🤖 Response ──────────────────────────────────────────────╮</span>\n",
              "<span style=\"color: #800080; text-decoration-color: #800080\">│</span> <span style=\"color: #808000; text-decoration-color: #808000\">Answer: A book costs $20</span>                                                                                        <span style=\"color: #800080; text-decoration-color: #800080\">│</span>\n",
              "<span style=\"color: #800080; text-decoration-color: #800080\">╰─────────────────────────────────────────────────────────────────────────────────────────────────────────────────╯</span>\n",
              "</pre>\n"
            ],
            "text/plain": [
              "\u001b[35m╭─\u001b[0m\u001b[35m────────────────────────────────────────────\u001b[0m\u001b[35m assistant🤖 Response \u001b[0m\u001b[35m─────────────────────────────────────────────\u001b[0m\u001b[35m─╮\u001b[0m\n",
              "\u001b[35m│\u001b[0m \u001b[33mAnswer: A book costs $20\u001b[0m                                                                                        \u001b[35m│\u001b[0m\n",
              "\u001b[35m╰─────────────────────────────────────────────────────────────────────────────────────────────────────────────────╯\u001b[0m\n"
            ]
          },
          "metadata": {},
          "output_type": "display_data"
        },
        {
          "data": {
            "text/html": [
              "<pre style=\"white-space:pre;overflow-x:auto;line-height:normal;font-family:Menlo,'DejaVu Sans Mono',consolas,'Courier New',monospace\">\n",
              "================================================================================\n",
              "\n",
              "</pre>\n"
            ],
            "text/plain": [
              "\n",
              "================================================================================\n",
              "\n"
            ]
          },
          "metadata": {},
          "output_type": "display_data"
        }
      ],
      "source": [
        "response = agent(next_prompt)\n",
        "print_model_response(next_prompt, response)"
      ]
    },
    {
      "cell_type": "code",
      "execution_count": 62,
      "metadata": {
        "colab": {
          "base_uri": "https://localhost:8080/"
        },
        "id": "ixKQ11pusYjK",
        "outputId": "e2ae08f6-9385-4a7f-c4fe-c69665f54807"
      },
      "outputs": [
        {
          "data": {
            "text/plain": [
              "[{'role': 'system',\n",
              "  'content': 'You run in a loop of Thought, Action, PAUSE, Observation.\\nAt the end of the loop you output an Answer\\nUse Thought to describe your thoughts about the question you have been asked.\\nUse Action to run one of the actions available to you - then return PAUSE.\\nObservation will be the result of running those actions.\\n\\nYour available actions are:\\n\\ncalculate:\\ne.g. calculate: 4 * 7 / 3\\nRuns a calculation and returns the number - uses Python so be sure to use floating point syntax if necessary\\n\\nget_cost:\\ne.g. get_cost: book\\nreturns the cost of a book\\n\\nwikipedia:\\ne.g. wikipedia: LangChain\\nReturns a summary from searching Wikipedia\\n\\nAlways look things up on Wikipedia if you have the opportunity to do so.\\n\\nExample session #1:\\n\\nQuestion: How much does a pen cost?\\nThought: I should look the pen cost using get_cost\\nAction: get_cost: pen\\nPAUSE\\n\\nYou will be called again with this:\\n\\nObservation: A pen costs $5\\n\\nYou then output:\\n\\nAnswer: A pen costs $5\\n\\n\\nExample session #2\\n\\nQuestion: What is the capital of France?\\nThought: I should look up France on Wikipedia\\nAction: wikipedia: France\\nPAUSE\\n\\nYou will be called again with this:\\n\\nObservation: France is a country. The capital is Paris.\\n\\nYou then output:\\n\\nAnswer: The capital of France is Paris'},\n",
              " {'role': 'user', 'content': 'How much does a book cost?'},\n",
              " {'role': 'assistant',\n",
              "  'content': 'Thought: I should look up the cost of a book using get_cost.\\n\\nAction: get_cost: book\\nPAUSE'},\n",
              " {'role': 'user', 'content': 'Observation: A book costs $20'},\n",
              " {'role': 'assistant', 'content': 'Answer: A book costs $20'}]"
            ]
          },
          "execution_count": 62,
          "metadata": {},
          "output_type": "execute_result"
        }
      ],
      "source": [
        "agent.messages"
      ]
    },
    {
      "cell_type": "code",
      "execution_count": 54,
      "metadata": {
        "id": "Na0NgYcVs9YZ"
      },
      "outputs": [],
      "source": [
        "\n"
      ]
    },
    {
      "cell_type": "code",
      "execution_count": 55,
      "metadata": {
        "id": "Rl4R35zOtDqx"
      },
      "outputs": [],
      "source": [
        "action_re = re.compile(r'^Action: (\\w+): (.*)$')  # python regular expression to select Action:"
      ]
    },
    {
      "cell_type": "code",
      "execution_count": 63,
      "metadata": {
        "id": "FcEONi4Dvqj5"
      },
      "outputs": [],
      "source": [
        "def query(question, max_turns=5):\n",
        "    i = 0\n",
        "    bot = Agent(system=prompt)\n",
        "    next_prompt = question\n",
        "    while i < max_turns:\n",
        "        i += 1\n",
        "        result = bot(next_prompt)\n",
        "        print(result)\n",
        "\n",
        "         # using the regex to parse the response from the agent.\n",
        "        actions = [\n",
        "            action_re.match(a) for a in result.split('\\n') if action_re.match(a)\n",
        "        ]\n",
        "\n",
        "        if actions:\n",
        "            action, action_input = actions[0].groups()\n",
        "\n",
        "            if action not in known_actions:\n",
        "                raise Exception(f'Unknown action: {action}: {action_input}')\n",
        "\n",
        "            print(f' -- running {action} {action_input}')\n",
        "            observation = known_actions[action](action_input)\n",
        "\n",
        "            print(f'Observation: {observation}')\n",
        "            next_prompt = f'Observation: {observation}'\n",
        "        else:\n",
        "            return\n"
      ]
    },
    {
      "cell_type": "code",
      "execution_count": 57,
      "metadata": {
        "colab": {
          "base_uri": "https://localhost:8080/"
        },
        "id": "qUtrDrGyvsnb",
        "outputId": "1e6a2ddd-14ed-473d-9c62-bef086f09e69"
      },
      "outputs": [
        {
          "name": "stdout",
          "output_type": "stream",
          "text": [
            "Thought: I need to find out the cost of a book and a pen, then calculate the total cost.\n",
            "\n",
            "Action: get_cost: book\n",
            "PAUSE\n",
            " -- running get_cost book\n",
            "Observation: A book costs $20\n",
            "Thought: Now I know the cost of a book, but I still need to know the cost of a pen.\n",
            "\n",
            "Action: get_cost: pen\n",
            "PAUSE\n",
            " -- running get_cost pen\n",
            "Observation: A pen costs $5\n",
            "Thought: Now I have the costs of both a book and a pen, I can calculate the total cost.\n",
            "\n",
            "Action: calculate: 2 * 20 + 3 * 5\n",
            "PAUSE\n",
            " -- running calculate 2 * 20 + 3 * 5\n",
            "Observation: 55\n",
            "Thought: I have the total cost now.\n",
            "\n",
            "Answer: I have to pay $55.\n"
          ]
        }
      ],
      "source": [
        "question = '''I want to buy 2 books and 3 pens. How much do I have to pay?'''\n",
        "query(question)"
      ]
    },
    {
      "cell_type": "code",
      "execution_count": 57,
      "metadata": {
        "id": "wI8Q9XmEv0zO"
      },
      "outputs": [],
      "source": []
    }
  ],
  "metadata": {
    "accelerator": "GPU",
    "colab": {
      "gpuType": "T4",
      "provenance": []
    },
    "kernelspec": {
      "display_name": "Python 3",
      "name": "python3"
    },
    "language_info": {
      "name": "python"
    }
  },
  "nbformat": 4,
  "nbformat_minor": 0
}
